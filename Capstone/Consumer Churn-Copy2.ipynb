{
 "cells": [
  {
   "cell_type": "code",
   "execution_count": 1,
   "metadata": {},
   "outputs": [],
   "source": [
    "import numpy as np\n",
    "import matplotlib.pyplot as plt\n",
    "import plotly as plty\n",
    "import matplotlib.ticker as mtick\n",
    "import seaborn as sns\n",
    "%matplotlib inline\n",
    "import pandas as pd\n",
    "from statsmodels.stats.outliers_influence import variance_inflation_factor\n",
    "import warnings\n",
    "from sklearn.svm import SVC\n",
    "warnings.filterwarnings(\"ignore\")\n",
    "from sklearn import metrics,linear_model\n",
    "from sklearn.tree import DecisionTreeClassifier\n",
    "from io import StringIO  \n",
    "from IPython.display import Image  \n",
    "from sklearn.tree import export_graphviz\n",
    "\n",
    "from sklearn.metrics import classification_report,plot_confusion_matrix,accuracy_score,mean_squared_error"
   ]
  },
  {
   "cell_type": "code",
   "execution_count": 2,
   "metadata": {},
   "outputs": [
    {
     "data": {
      "text/html": [
       "<div>\n",
       "<style scoped>\n",
       "    .dataframe tbody tr th:only-of-type {\n",
       "        vertical-align: middle;\n",
       "    }\n",
       "\n",
       "    .dataframe tbody tr th {\n",
       "        vertical-align: top;\n",
       "    }\n",
       "\n",
       "    .dataframe thead th {\n",
       "        text-align: right;\n",
       "    }\n",
       "</style>\n",
       "<table border=\"1\" class=\"dataframe\">\n",
       "  <thead>\n",
       "    <tr style=\"text-align: right;\">\n",
       "      <th></th>\n",
       "      <th>AccountID</th>\n",
       "      <th>Churn</th>\n",
       "      <th>Tenure</th>\n",
       "      <th>City_Tier</th>\n",
       "      <th>CC_Contacted_LY</th>\n",
       "      <th>Payment</th>\n",
       "      <th>Gender</th>\n",
       "      <th>Service_Score</th>\n",
       "      <th>Account_user_count</th>\n",
       "      <th>account_segment</th>\n",
       "      <th>CC_Agent_Score</th>\n",
       "      <th>Marital_Status</th>\n",
       "      <th>rev_per_month</th>\n",
       "      <th>Complain_ly</th>\n",
       "      <th>rev_growth_yoy</th>\n",
       "      <th>coupon_used_for_payment</th>\n",
       "      <th>Day_Since_CC_connect</th>\n",
       "      <th>cashback</th>\n",
       "      <th>Login_device</th>\n",
       "    </tr>\n",
       "  </thead>\n",
       "  <tbody>\n",
       "    <tr>\n",
       "      <th>0</th>\n",
       "      <td>20000</td>\n",
       "      <td>1</td>\n",
       "      <td>4</td>\n",
       "      <td>3.0</td>\n",
       "      <td>6.0</td>\n",
       "      <td>Debit Card</td>\n",
       "      <td>Female</td>\n",
       "      <td>3.0</td>\n",
       "      <td>3</td>\n",
       "      <td>Super</td>\n",
       "      <td>2.0</td>\n",
       "      <td>Single</td>\n",
       "      <td>9</td>\n",
       "      <td>1.0</td>\n",
       "      <td>11</td>\n",
       "      <td>1</td>\n",
       "      <td>5</td>\n",
       "      <td>159.93</td>\n",
       "      <td>Mobile</td>\n",
       "    </tr>\n",
       "    <tr>\n",
       "      <th>1</th>\n",
       "      <td>20001</td>\n",
       "      <td>1</td>\n",
       "      <td>0</td>\n",
       "      <td>1.0</td>\n",
       "      <td>8.0</td>\n",
       "      <td>UPI</td>\n",
       "      <td>Male</td>\n",
       "      <td>3.0</td>\n",
       "      <td>4</td>\n",
       "      <td>Regular Plus</td>\n",
       "      <td>3.0</td>\n",
       "      <td>Single</td>\n",
       "      <td>7</td>\n",
       "      <td>1.0</td>\n",
       "      <td>15</td>\n",
       "      <td>0</td>\n",
       "      <td>0</td>\n",
       "      <td>120.9</td>\n",
       "      <td>Mobile</td>\n",
       "    </tr>\n",
       "    <tr>\n",
       "      <th>2</th>\n",
       "      <td>20002</td>\n",
       "      <td>1</td>\n",
       "      <td>0</td>\n",
       "      <td>1.0</td>\n",
       "      <td>30.0</td>\n",
       "      <td>Debit Card</td>\n",
       "      <td>Male</td>\n",
       "      <td>2.0</td>\n",
       "      <td>4</td>\n",
       "      <td>Regular Plus</td>\n",
       "      <td>3.0</td>\n",
       "      <td>Single</td>\n",
       "      <td>6</td>\n",
       "      <td>1.0</td>\n",
       "      <td>14</td>\n",
       "      <td>0</td>\n",
       "      <td>3</td>\n",
       "      <td>NaN</td>\n",
       "      <td>Mobile</td>\n",
       "    </tr>\n",
       "    <tr>\n",
       "      <th>3</th>\n",
       "      <td>20003</td>\n",
       "      <td>1</td>\n",
       "      <td>0</td>\n",
       "      <td>3.0</td>\n",
       "      <td>15.0</td>\n",
       "      <td>Debit Card</td>\n",
       "      <td>Male</td>\n",
       "      <td>2.0</td>\n",
       "      <td>4</td>\n",
       "      <td>Super</td>\n",
       "      <td>5.0</td>\n",
       "      <td>Single</td>\n",
       "      <td>8</td>\n",
       "      <td>0.0</td>\n",
       "      <td>23</td>\n",
       "      <td>0</td>\n",
       "      <td>3</td>\n",
       "      <td>134.07</td>\n",
       "      <td>Mobile</td>\n",
       "    </tr>\n",
       "    <tr>\n",
       "      <th>4</th>\n",
       "      <td>20004</td>\n",
       "      <td>1</td>\n",
       "      <td>0</td>\n",
       "      <td>1.0</td>\n",
       "      <td>12.0</td>\n",
       "      <td>Credit Card</td>\n",
       "      <td>Male</td>\n",
       "      <td>2.0</td>\n",
       "      <td>3</td>\n",
       "      <td>Regular Plus</td>\n",
       "      <td>5.0</td>\n",
       "      <td>Single</td>\n",
       "      <td>3</td>\n",
       "      <td>0.0</td>\n",
       "      <td>11</td>\n",
       "      <td>1</td>\n",
       "      <td>3</td>\n",
       "      <td>129.6</td>\n",
       "      <td>Mobile</td>\n",
       "    </tr>\n",
       "  </tbody>\n",
       "</table>\n",
       "</div>"
      ],
      "text/plain": [
       "   AccountID  Churn Tenure  City_Tier  CC_Contacted_LY      Payment  Gender  \\\n",
       "0      20000      1      4        3.0              6.0   Debit Card  Female   \n",
       "1      20001      1      0        1.0              8.0          UPI    Male   \n",
       "2      20002      1      0        1.0             30.0   Debit Card    Male   \n",
       "3      20003      1      0        3.0             15.0   Debit Card    Male   \n",
       "4      20004      1      0        1.0             12.0  Credit Card    Male   \n",
       "\n",
       "   Service_Score Account_user_count account_segment  CC_Agent_Score  \\\n",
       "0            3.0                  3           Super             2.0   \n",
       "1            3.0                  4    Regular Plus             3.0   \n",
       "2            2.0                  4    Regular Plus             3.0   \n",
       "3            2.0                  4           Super             5.0   \n",
       "4            2.0                  3    Regular Plus             5.0   \n",
       "\n",
       "  Marital_Status rev_per_month  Complain_ly rev_growth_yoy  \\\n",
       "0         Single             9          1.0             11   \n",
       "1         Single             7          1.0             15   \n",
       "2         Single             6          1.0             14   \n",
       "3         Single             8          0.0             23   \n",
       "4         Single             3          0.0             11   \n",
       "\n",
       "  coupon_used_for_payment Day_Since_CC_connect cashback Login_device  \n",
       "0                       1                    5   159.93       Mobile  \n",
       "1                       0                    0    120.9       Mobile  \n",
       "2                       0                    3      NaN       Mobile  \n",
       "3                       0                    3   134.07       Mobile  \n",
       "4                       1                    3    129.6       Mobile  "
      ]
     },
     "execution_count": 2,
     "metadata": {},
     "output_type": "execute_result"
    }
   ],
   "source": [
    "path=\"Customer Churn Data.xlsx\"\n",
    "names = ['AccountID', 'Churn', 'Tenure', 'City_Tier', 'CC_Contacted_LY', 'Payment', 'Gender', 'Service_Score', 'Account_user_count','account_segment','CC_Agent_Score','Marital_Status','rev_per_month','Complain_ly','rev_growth_yoy','coupon_used_for_payment','Day_Since_CC_connect','cashback','Login_device']\n",
    "df = pd.read_excel(path, names = names,sheet_name='Data for DSBA')\n",
    "df.head()"
   ]
  },
  {
   "cell_type": "code",
   "execution_count": 3,
   "metadata": {},
   "outputs": [
    {
     "data": {
      "text/plain": [
       "AccountID                    0\n",
       "Churn                        0\n",
       "Tenure                     102\n",
       "City_Tier                  112\n",
       "CC_Contacted_LY            102\n",
       "Payment                    109\n",
       "Gender                     108\n",
       "Service_Score               98\n",
       "Account_user_count         112\n",
       "account_segment             97\n",
       "CC_Agent_Score             116\n",
       "Marital_Status             212\n",
       "rev_per_month              102\n",
       "Complain_ly                357\n",
       "rev_growth_yoy               0\n",
       "coupon_used_for_payment      0\n",
       "Day_Since_CC_connect       357\n",
       "cashback                   471\n",
       "Login_device               221\n",
       "dtype: int64"
      ]
     },
     "execution_count": 3,
     "metadata": {},
     "output_type": "execute_result"
    }
   ],
   "source": [
    "df.isna().sum()"
   ]
  },
  {
   "cell_type": "code",
   "execution_count": 4,
   "metadata": {
    "scrolled": true
   },
   "outputs": [
    {
     "data": {
      "text/plain": [
       "Super           4062\n",
       "Regular Plus    3862\n",
       "HNI             1639\n",
       "Super Plus       771\n",
       "Regular          520\n",
       "Regular +        262\n",
       "Super +           47\n",
       "Name: account_segment, dtype: int64"
      ]
     },
     "execution_count": 4,
     "metadata": {},
     "output_type": "execute_result"
    }
   ],
   "source": [
    "df.account_segment.value_counts()"
   ]
  },
  {
   "cell_type": "code",
   "execution_count": 5,
   "metadata": {},
   "outputs": [],
   "source": [
    "def print_unique_col_values(df):\n",
    "       for column in df:\n",
    "            if df[column].dtypes=='object':\n",
    "                print(f'{column}: {df[column].unique()}') "
   ]
  },
  {
   "cell_type": "code",
   "execution_count": 6,
   "metadata": {},
   "outputs": [
    {
     "name": "stdout",
     "output_type": "stream",
     "text": [
      "Tenure: [4 0 2 13 11 '#' 9 99 19 20 14 8 26 18 5 30 7 1 23 3 29 6 28 24 25 16 10\n",
      " 15 22 nan 27 12 21 17 50 60 31 51 61]\n",
      "Payment: ['Debit Card' 'UPI' 'Credit Card' 'Cash on Delivery' 'E wallet' nan]\n",
      "Gender: ['Female' 'Male' 'F' nan 'M']\n",
      "Account_user_count: [3 4 nan 5 2 '@' 1 6]\n",
      "account_segment: ['Super' 'Regular Plus' 'Regular' 'HNI' 'Regular +' nan 'Super Plus'\n",
      " 'Super +']\n",
      "Marital_Status: ['Single' 'Divorced' 'Married' nan]\n",
      "rev_per_month: [9 7 6 8 3 2 4 10 1 5 '+' 130 nan 19 139 102 120 138 127 123 124 116 21\n",
      " 126 134 113 114 108 140 133 129 107 118 11 105 20 119 121 137 110 22 101\n",
      " 136 125 14 13 12 115 23 122 117 131 104 15 25 135 111 109 100 103]\n",
      "rev_growth_yoy: [11 15 14 23 22 16 12 13 17 18 24 19 20 21 25 26 '$' 4 27 28]\n",
      "coupon_used_for_payment: [1 0 4 2 9 6 11 7 12 10 5 3 13 15 8 '#' '$' 14 '*' 16]\n",
      "Day_Since_CC_connect: [5 0 3 7 2 1 8 6 4 15 nan 11 10 9 13 12 17 16 14 30 '$' 46 18 31 47]\n",
      "cashback: [159.93 120.9 nan ... 227.36 226.91 191.42]\n",
      "Login_device: ['Mobile' 'Computer' '&&&&' nan]\n"
     ]
    }
   ],
   "source": [
    "print_unique_col_values(df)"
   ]
  },
  {
   "cell_type": "code",
   "execution_count": null,
   "metadata": {},
   "outputs": [],
   "source": []
  },
  {
   "cell_type": "code",
   "execution_count": null,
   "metadata": {},
   "outputs": [],
   "source": []
  },
  {
   "cell_type": "code",
   "execution_count": 7,
   "metadata": {},
   "outputs": [
    {
     "data": {
      "text/plain": [
       "Regular Plus    4124\n",
       "Super           4062\n",
       "HNI             1639\n",
       "Super Plus       818\n",
       "Regular          520\n",
       "Name: account_segment, dtype: int64"
      ]
     },
     "execution_count": 7,
     "metadata": {},
     "output_type": "execute_result"
    }
   ],
   "source": [
    "df['account_segment']=df['account_segment'].replace('Regular +','Regular Plus')\n",
    "df['account_segment']=df['account_segment'].replace('Super +','Super Plus')\n",
    "df.account_segment.value_counts()"
   ]
  },
  {
   "cell_type": "code",
   "execution_count": 8,
   "metadata": {
    "scrolled": true
   },
   "outputs": [
    {
     "data": {
      "text/plain": [
       "<AxesSubplot:xlabel='Churn', ylabel='count'>"
      ]
     },
     "execution_count": 8,
     "metadata": {},
     "output_type": "execute_result"
    },
    {
     "data": {
      "image/png": "[encoded data removed]",
      "text/plain": [
       "<Figure size 240x360 with 1 Axes>"
      ]
     },
     "metadata": {
      "needs_background": "light"
     },
     "output_type": "display_data"
    }
   ],
   "source": [
    "plt.figure(figsize=(4,6),dpi=60)\n",
    "sns.countplot(data=df,x='Churn',palette='viridis')"
   ]
  },
  {
   "cell_type": "code",
   "execution_count": 9,
   "metadata": {},
   "outputs": [
    {
     "data": {
      "text/plain": [
       "Male      6328\n",
       "Female    4178\n",
       "M          376\n",
       "F          270\n",
       "Name: Gender, dtype: int64"
      ]
     },
     "execution_count": 9,
     "metadata": {},
     "output_type": "execute_result"
    }
   ],
   "source": [
    "df.Gender.value_counts()"
   ]
  },
  {
   "cell_type": "code",
   "execution_count": 10,
   "metadata": {
    "scrolled": true
   },
   "outputs": [],
   "source": [
    "df['Gender']=df['Gender'].replace('M','Male')\n",
    "df['Gender']=df['Gender'].replace('F','Female')"
   ]
  },
  {
   "cell_type": "code",
   "execution_count": 11,
   "metadata": {},
   "outputs": [
    {
     "data": {
      "text/html": [
       "<div>\n",
       "<style scoped>\n",
       "    .dataframe tbody tr th:only-of-type {\n",
       "        vertical-align: middle;\n",
       "    }\n",
       "\n",
       "    .dataframe tbody tr th {\n",
       "        vertical-align: top;\n",
       "    }\n",
       "\n",
       "    .dataframe thead th {\n",
       "        text-align: right;\n",
       "    }\n",
       "</style>\n",
       "<table border=\"1\" class=\"dataframe\">\n",
       "  <thead>\n",
       "    <tr style=\"text-align: right;\">\n",
       "      <th></th>\n",
       "      <th>AccountID</th>\n",
       "      <th>Churn</th>\n",
       "      <th>Tenure</th>\n",
       "      <th>City_Tier</th>\n",
       "      <th>CC_Contacted_LY</th>\n",
       "      <th>Payment</th>\n",
       "      <th>Gender</th>\n",
       "      <th>Service_Score</th>\n",
       "      <th>Account_user_count</th>\n",
       "      <th>account_segment</th>\n",
       "      <th>CC_Agent_Score</th>\n",
       "      <th>Marital_Status</th>\n",
       "      <th>rev_per_month</th>\n",
       "      <th>Complain_ly</th>\n",
       "      <th>rev_growth_yoy</th>\n",
       "      <th>coupon_used_for_payment</th>\n",
       "      <th>Day_Since_CC_connect</th>\n",
       "      <th>cashback</th>\n",
       "      <th>Login_device</th>\n",
       "    </tr>\n",
       "  </thead>\n",
       "  <tbody>\n",
       "    <tr>\n",
       "      <th>0</th>\n",
       "      <td>20000</td>\n",
       "      <td>1</td>\n",
       "      <td>4</td>\n",
       "      <td>3.0</td>\n",
       "      <td>6.0</td>\n",
       "      <td>Debit Card</td>\n",
       "      <td>Female</td>\n",
       "      <td>3.0</td>\n",
       "      <td>3</td>\n",
       "      <td>Super</td>\n",
       "      <td>2.0</td>\n",
       "      <td>Single</td>\n",
       "      <td>9</td>\n",
       "      <td>1.0</td>\n",
       "      <td>11</td>\n",
       "      <td>1</td>\n",
       "      <td>5</td>\n",
       "      <td>159.93</td>\n",
       "      <td>Mobile</td>\n",
       "    </tr>\n",
       "    <tr>\n",
       "      <th>1</th>\n",
       "      <td>20001</td>\n",
       "      <td>1</td>\n",
       "      <td>0</td>\n",
       "      <td>1.0</td>\n",
       "      <td>8.0</td>\n",
       "      <td>UPI</td>\n",
       "      <td>Male</td>\n",
       "      <td>3.0</td>\n",
       "      <td>4</td>\n",
       "      <td>Regular Plus</td>\n",
       "      <td>3.0</td>\n",
       "      <td>Single</td>\n",
       "      <td>7</td>\n",
       "      <td>1.0</td>\n",
       "      <td>15</td>\n",
       "      <td>0</td>\n",
       "      <td>0</td>\n",
       "      <td>120.9</td>\n",
       "      <td>Mobile</td>\n",
       "    </tr>\n",
       "    <tr>\n",
       "      <th>2</th>\n",
       "      <td>20002</td>\n",
       "      <td>1</td>\n",
       "      <td>0</td>\n",
       "      <td>1.0</td>\n",
       "      <td>30.0</td>\n",
       "      <td>Debit Card</td>\n",
       "      <td>Male</td>\n",
       "      <td>2.0</td>\n",
       "      <td>4</td>\n",
       "      <td>Regular Plus</td>\n",
       "      <td>3.0</td>\n",
       "      <td>Single</td>\n",
       "      <td>6</td>\n",
       "      <td>1.0</td>\n",
       "      <td>14</td>\n",
       "      <td>0</td>\n",
       "      <td>3</td>\n",
       "      <td>NaN</td>\n",
       "      <td>Mobile</td>\n",
       "    </tr>\n",
       "    <tr>\n",
       "      <th>3</th>\n",
       "      <td>20003</td>\n",
       "      <td>1</td>\n",
       "      <td>0</td>\n",
       "      <td>3.0</td>\n",
       "      <td>15.0</td>\n",
       "      <td>Debit Card</td>\n",
       "      <td>Male</td>\n",
       "      <td>2.0</td>\n",
       "      <td>4</td>\n",
       "      <td>Super</td>\n",
       "      <td>5.0</td>\n",
       "      <td>Single</td>\n",
       "      <td>8</td>\n",
       "      <td>0.0</td>\n",
       "      <td>23</td>\n",
       "      <td>0</td>\n",
       "      <td>3</td>\n",
       "      <td>134.07</td>\n",
       "      <td>Mobile</td>\n",
       "    </tr>\n",
       "    <tr>\n",
       "      <th>4</th>\n",
       "      <td>20004</td>\n",
       "      <td>1</td>\n",
       "      <td>0</td>\n",
       "      <td>1.0</td>\n",
       "      <td>12.0</td>\n",
       "      <td>Credit Card</td>\n",
       "      <td>Male</td>\n",
       "      <td>2.0</td>\n",
       "      <td>3</td>\n",
       "      <td>Regular Plus</td>\n",
       "      <td>5.0</td>\n",
       "      <td>Single</td>\n",
       "      <td>3</td>\n",
       "      <td>0.0</td>\n",
       "      <td>11</td>\n",
       "      <td>1</td>\n",
       "      <td>3</td>\n",
       "      <td>129.6</td>\n",
       "      <td>Mobile</td>\n",
       "    </tr>\n",
       "  </tbody>\n",
       "</table>\n",
       "</div>"
      ],
      "text/plain": [
       "   AccountID  Churn Tenure  City_Tier  CC_Contacted_LY      Payment  Gender  \\\n",
       "0      20000      1      4        3.0              6.0   Debit Card  Female   \n",
       "1      20001      1      0        1.0              8.0          UPI    Male   \n",
       "2      20002      1      0        1.0             30.0   Debit Card    Male   \n",
       "3      20003      1      0        3.0             15.0   Debit Card    Male   \n",
       "4      20004      1      0        1.0             12.0  Credit Card    Male   \n",
       "\n",
       "   Service_Score Account_user_count account_segment  CC_Agent_Score  \\\n",
       "0            3.0                  3           Super             2.0   \n",
       "1            3.0                  4    Regular Plus             3.0   \n",
       "2            2.0                  4    Regular Plus             3.0   \n",
       "3            2.0                  4           Super             5.0   \n",
       "4            2.0                  3    Regular Plus             5.0   \n",
       "\n",
       "  Marital_Status rev_per_month  Complain_ly rev_growth_yoy  \\\n",
       "0         Single             9          1.0             11   \n",
       "1         Single             7          1.0             15   \n",
       "2         Single             6          1.0             14   \n",
       "3         Single             8          0.0             23   \n",
       "4         Single             3          0.0             11   \n",
       "\n",
       "  coupon_used_for_payment Day_Since_CC_connect cashback Login_device  \n",
       "0                       1                    5   159.93       Mobile  \n",
       "1                       0                    0    120.9       Mobile  \n",
       "2                       0                    3      NaN       Mobile  \n",
       "3                       0                    3   134.07       Mobile  \n",
       "4                       1                    3    129.6       Mobile  "
      ]
     },
     "execution_count": 11,
     "metadata": {},
     "output_type": "execute_result"
    }
   ],
   "source": [
    "df.head()"
   ]
  },
  {
   "cell_type": "code",
   "execution_count": 12,
   "metadata": {},
   "outputs": [
    {
     "data": {
      "text/plain": [
       "11158"
      ]
     },
     "execution_count": 12,
     "metadata": {},
     "output_type": "execute_result"
    }
   ],
   "source": [
    "df['rev_per_month'].count()"
   ]
  },
  {
   "cell_type": "code",
   "execution_count": 13,
   "metadata": {},
   "outputs": [],
   "source": [
    "columns = df.columns\n",
    "binary_cols = []\n",
    "for col in columns:\n",
    "    if df[col].value_counts().shape[0] ==2:\n",
    "        binary_cols.append(col)"
   ]
  },
  {
   "cell_type": "code",
   "execution_count": 14,
   "metadata": {},
   "outputs": [
    {
     "data": {
      "text/plain": [
       "['Churn', 'Gender', 'Complain_ly']"
      ]
     },
     "execution_count": 14,
     "metadata": {},
     "output_type": "execute_result"
    }
   ],
   "source": [
    "binary_cols"
   ]
  },
  {
   "cell_type": "code",
   "execution_count": 15,
   "metadata": {
    "scrolled": true
   },
   "outputs": [
    {
     "data": {
      "text/plain": [
       "AccountID                    int64\n",
       "Churn                        int64\n",
       "Tenure                      object\n",
       "City_Tier                  float64\n",
       "CC_Contacted_LY            float64\n",
       "Payment                     object\n",
       "Gender                      object\n",
       "Service_Score              float64\n",
       "Account_user_count          object\n",
       "account_segment             object\n",
       "CC_Agent_Score             float64\n",
       "Marital_Status              object\n",
       "rev_per_month               object\n",
       "Complain_ly                float64\n",
       "rev_growth_yoy              object\n",
       "coupon_used_for_payment     object\n",
       "Day_Since_CC_connect        object\n",
       "cashback                    object\n",
       "Login_device                object\n",
       "dtype: object"
      ]
     },
     "execution_count": 15,
     "metadata": {},
     "output_type": "execute_result"
    }
   ],
   "source": [
    "df.dtypes"
   ]
  },
  {
   "cell_type": "markdown",
   "metadata": {},
   "source": [
    "## Cleaning the dataset"
   ]
  },
  {
   "cell_type": "code",
   "execution_count": 16,
   "metadata": {},
   "outputs": [],
   "source": [
    "df['rev_per_month']=df['rev_per_month'].replace('+','')\n",
    "df['rev_per_month']=pd.to_numeric(df['rev_per_month'])\n",
    "df['rev_per_month']=df['rev_per_month'].replace('',df['rev_per_month'].mean())"
   ]
  },
  {
   "cell_type": "code",
   "execution_count": 17,
   "metadata": {},
   "outputs": [],
   "source": [
    "df['Tenure']=df['Tenure'].replace('#','')\n",
    "df['Tenure']=pd.to_numeric(df['Tenure'])\n",
    "df['Tenure']=df['Tenure'].replace('',df['Tenure'].mean())"
   ]
  },
  {
   "cell_type": "code",
   "execution_count": 18,
   "metadata": {},
   "outputs": [],
   "source": [
    "df['Day_Since_CC_connect']=df['Day_Since_CC_connect'].replace('$','')\n",
    "df['Day_Since_CC_connect']=pd.to_numeric(df['Day_Since_CC_connect'])\n",
    "df['Day_Since_CC_connect']=df['Day_Since_CC_connect'].replace('',df['Day_Since_CC_connect'].mean())"
   ]
  },
  {
   "cell_type": "code",
   "execution_count": 19,
   "metadata": {},
   "outputs": [],
   "source": [
    "df['Account_user_count']=df['Account_user_count'].replace('@','')\n",
    "df['Account_user_count']=pd.to_numeric(df['Account_user_count'])\n",
    "df['Account_user_count']=df['Account_user_count'].replace('',df['Account_user_count'].mean())"
   ]
  },
  {
   "cell_type": "code",
   "execution_count": 20,
   "metadata": {},
   "outputs": [],
   "source": [
    "df['rev_growth_yoy']=df['rev_growth_yoy'].replace('$','')\n",
    "df['rev_growth_yoy']=pd.to_numeric(df['rev_growth_yoy'])\n",
    "df['rev_growth_yoy']=df['rev_growth_yoy'].replace('',df['rev_growth_yoy'].mean())"
   ]
  },
  {
   "cell_type": "code",
   "execution_count": 21,
   "metadata": {},
   "outputs": [],
   "source": [
    "df['cashback']=df['cashback'].replace('$','')\n",
    "df['cashback']=pd.to_numeric(df['cashback'])\n",
    "df['cashback']=df['cashback'].replace('',df['cashback'].mean())"
   ]
  },
  {
   "cell_type": "code",
   "execution_count": 22,
   "metadata": {},
   "outputs": [],
   "source": [
    "df['Login_device']=df['Login_device'].replace('&&&&','Tab')\n",
    "df['Login_device']=df['Login_device'].replace('','Tab')"
   ]
  },
  {
   "cell_type": "code",
   "execution_count": 23,
   "metadata": {},
   "outputs": [],
   "source": [
    "df['coupon_used_for_payment']=df['coupon_used_for_payment'].replace('$','')\n",
    "df['coupon_used_for_payment']=df['coupon_used_for_payment'].replace('#','')\n",
    "df['coupon_used_for_payment']=df['coupon_used_for_payment'].replace('*','')\n",
    "df['coupon_used_for_payment']=pd.to_numeric(df['coupon_used_for_payment'])\n",
    "df['coupon_used_for_payment']=df['coupon_used_for_payment'].replace('',df['coupon_used_for_payment'].mean())"
   ]
  },
  {
   "cell_type": "code",
   "execution_count": 24,
   "metadata": {
    "scrolled": true
   },
   "outputs": [
    {
     "data": {
      "text/plain": [
       "AccountID                    int64\n",
       "Churn                        int64\n",
       "Tenure                     float64\n",
       "City_Tier                  float64\n",
       "CC_Contacted_LY            float64\n",
       "Payment                     object\n",
       "Gender                      object\n",
       "Service_Score              float64\n",
       "Account_user_count         float64\n",
       "account_segment             object\n",
       "CC_Agent_Score             float64\n",
       "Marital_Status              object\n",
       "rev_per_month              float64\n",
       "Complain_ly                float64\n",
       "rev_growth_yoy             float64\n",
       "coupon_used_for_payment    float64\n",
       "Day_Since_CC_connect       float64\n",
       "cashback                   float64\n",
       "Login_device                object\n",
       "dtype: object"
      ]
     },
     "execution_count": 24,
     "metadata": {},
     "output_type": "execute_result"
    }
   ],
   "source": [
    "df.dtypes"
   ]
  },
  {
   "cell_type": "code",
   "execution_count": 25,
   "metadata": {},
   "outputs": [],
   "source": [
    "correlations = df.corr()"
   ]
  },
  {
   "cell_type": "code",
   "execution_count": 26,
   "metadata": {},
   "outputs": [],
   "source": [
    "df.drop_duplicates(keep=False, inplace=True)"
   ]
  },
  {
   "cell_type": "code",
   "execution_count": 27,
   "metadata": {},
   "outputs": [
    {
     "data": {
      "text/plain": [
       "<AxesSubplot:xlabel='Churn', ylabel='count'>"
      ]
     },
     "execution_count": 27,
     "metadata": {},
     "output_type": "execute_result"
    },
    {
     "data": {
      "image/png": "[encoded data removed]",
      "text/plain": [
       "<Figure size 360x480 with 1 Axes>"
      ]
     },
     "metadata": {
      "needs_background": "light"
     },
     "output_type": "display_data"
    }
   ],
   "source": [
    "plt.figure(figsize=(6,8),dpi=60)\n",
    "sns.countplot(data=df,x='Churn',palette='viridis')"
   ]
  },
  {
   "cell_type": "code",
   "execution_count": 28,
   "metadata": {},
   "outputs": [
    {
     "data": {
      "text/plain": [
       "(11260, 19)"
      ]
     },
     "execution_count": 28,
     "metadata": {},
     "output_type": "execute_result"
    }
   ],
   "source": [
    "df.shape"
   ]
  },
  {
   "cell_type": "code",
   "execution_count": 29,
   "metadata": {},
   "outputs": [
    {
     "data": {
      "text/plain": [
       "<AxesSubplot:>"
      ]
     },
     "execution_count": 29,
     "metadata": {},
     "output_type": "execute_result"
    },
    {
     "data": {
      "image/png": "[encoded data removed]",
      "text/plain": [
       "<Figure size 1080x360 with 1 Axes>"
      ]
     },
     "metadata": {
      "needs_background": "light"
     },
     "output_type": "display_data"
    }
   ],
   "source": [
    "#dsitribution of the null values in the dataset\n",
    "plt.figure(figsize=(15,5))\n",
    "sns.heatmap(df.isna(),cbar=False)"
   ]
  },
  {
   "cell_type": "code",
   "execution_count": 111,
   "metadata": {},
   "outputs": [],
   "source": [
    "from sklearn.impute import SimpleImputer\n",
    "from sklearn.preprocessing import LabelEncoder, OneHotEncoder\n",
    "from sklearn.compose import ColumnTransformer\n",
    "from sklearn.preprocessing import OneHotEncoder\n",
    "from sklearn.model_selection import train_test_split\n",
    "from sklearn.preprocessing import StandardScaler\n",
    "import tensorflow as tf\n",
    "from tensorflow import keras"
   ]
  },
  {
   "cell_type": "code",
   "execution_count": 31,
   "metadata": {
    "scrolled": true
   },
   "outputs": [
    {
     "name": "stdout",
     "output_type": "stream",
     "text": [
      "AccountID                  False\n",
      "Churn                      False\n",
      "Tenure                      True\n",
      "City_Tier                   True\n",
      "CC_Contacted_LY             True\n",
      "Payment                     True\n",
      "Gender                      True\n",
      "Service_Score               True\n",
      "Account_user_count          True\n",
      "account_segment             True\n",
      "CC_Agent_Score              True\n",
      "Marital_Status              True\n",
      "rev_per_month               True\n",
      "Complain_ly                 True\n",
      "rev_growth_yoy              True\n",
      "coupon_used_for_payment     True\n",
      "Day_Since_CC_connect        True\n",
      "cashback                    True\n",
      "Login_device                True\n",
      "dtype: bool\n"
     ]
    }
   ],
   "source": [
    "#checking the null values in all the columns\n",
    "na_cols = df.isna().any()\n",
    "print(na_cols)"
   ]
  },
  {
   "cell_type": "code",
   "execution_count": 32,
   "metadata": {},
   "outputs": [],
   "source": [
    "#Missing Values Treatment for Non Categorical Values\n",
    "na_cols = na_cols[na_cols == True].reset_index()\n",
    "na_cols = na_cols[\"index\"].tolist()\n",
    "for col in df.columns[1:]:\n",
    "     if col in na_cols:\n",
    "            \n",
    "            if df[col].dtype != 'object':\n",
    "                 df[col] =  df[col].fillna(df[col].mean()).round(0)            "
   ]
  },
  {
   "cell_type": "code",
   "execution_count": 33,
   "metadata": {},
   "outputs": [
    {
     "data": {
      "text/plain": [
       "AccountID                    0\n",
       "Churn                        0\n",
       "Tenure                       0\n",
       "City_Tier                    0\n",
       "CC_Contacted_LY              0\n",
       "Payment                    109\n",
       "Gender                     108\n",
       "Service_Score                0\n",
       "Account_user_count           0\n",
       "account_segment             97\n",
       "CC_Agent_Score               0\n",
       "Marital_Status             212\n",
       "rev_per_month                0\n",
       "Complain_ly                  0\n",
       "rev_growth_yoy               0\n",
       "coupon_used_for_payment      0\n",
       "Day_Since_CC_connect         0\n",
       "cashback                     0\n",
       "Login_device               221\n",
       "dtype: int64"
      ]
     },
     "execution_count": 33,
     "metadata": {},
     "output_type": "execute_result"
    }
   ],
   "source": [
    "df.isna().sum()"
   ]
  },
  {
   "cell_type": "code",
   "execution_count": 34,
   "metadata": {},
   "outputs": [],
   "source": [
    "df['Payment']=df['Payment'].fillna(df['Payment'].mode())"
   ]
  },
  {
   "cell_type": "code",
   "execution_count": 35,
   "metadata": {},
   "outputs": [
    {
     "data": {
      "text/plain": [
       "AccountID                    0\n",
       "Churn                        0\n",
       "Tenure                       0\n",
       "City_Tier                    0\n",
       "CC_Contacted_LY              0\n",
       "Payment                    109\n",
       "Gender                     108\n",
       "Service_Score                0\n",
       "Account_user_count           0\n",
       "account_segment             97\n",
       "CC_Agent_Score               0\n",
       "Marital_Status             212\n",
       "rev_per_month                0\n",
       "Complain_ly                  0\n",
       "rev_growth_yoy               0\n",
       "coupon_used_for_payment      0\n",
       "Day_Since_CC_connect         0\n",
       "cashback                     0\n",
       "Login_device               221\n",
       "dtype: int64"
      ]
     },
     "execution_count": 35,
     "metadata": {},
     "output_type": "execute_result"
    }
   ],
   "source": [
    "df.isna().sum()"
   ]
  },
  {
   "cell_type": "code",
   "execution_count": 36,
   "metadata": {},
   "outputs": [],
   "source": [
    "df['Login_device']=df['Login_device'].fillna(\"Mobile\")"
   ]
  },
  {
   "cell_type": "code",
   "execution_count": 37,
   "metadata": {
    "scrolled": true
   },
   "outputs": [
    {
     "data": {
      "text/plain": [
       "AccountID                    0\n",
       "Churn                        0\n",
       "Tenure                       0\n",
       "City_Tier                    0\n",
       "CC_Contacted_LY              0\n",
       "Payment                    109\n",
       "Gender                     108\n",
       "Service_Score                0\n",
       "Account_user_count           0\n",
       "account_segment             97\n",
       "CC_Agent_Score               0\n",
       "Marital_Status             212\n",
       "rev_per_month                0\n",
       "Complain_ly                  0\n",
       "rev_growth_yoy               0\n",
       "coupon_used_for_payment      0\n",
       "Day_Since_CC_connect         0\n",
       "cashback                     0\n",
       "Login_device                 0\n",
       "dtype: int64"
      ]
     },
     "execution_count": 37,
     "metadata": {},
     "output_type": "execute_result"
    }
   ],
   "source": [
    "df.isna().sum()"
   ]
  },
  {
   "cell_type": "code",
   "execution_count": 38,
   "metadata": {},
   "outputs": [
    {
     "name": "stdout",
     "output_type": "stream",
     "text": [
      "[[20000 1 4.0 ... 5.0 160.0 'Mobile']\n",
      " [20001 1 0.0 ... 0.0 121.0 'Mobile']\n",
      " [20002 1 0.0 ... 3.0 196.0 'Mobile']\n",
      " ...\n",
      " [31257 0 1.0 ... 4.0 191.0 'Mobile']\n",
      " [31258 0 23.0 ... 9.0 180.0 'Computer']\n",
      " [31259 0 8.0 ... 3.0 175.0 'Mobile']]\n"
     ]
    }
   ],
   "source": [
    "value=df.values\n",
    "print(value)"
   ]
  },
  {
   "cell_type": "code",
   "execution_count": 39,
   "metadata": {},
   "outputs": [],
   "source": [
    "from sklearn.impute import SimpleImputer\n",
    "from numpy import isnan\n",
    "imputer = SimpleImputer(missing_values=np.nan,strategy='most_frequent')\n",
    "\n",
    " \n",
    "# transform the dataset\n",
    "transformed_values = imputer.fit_transform(value)"
   ]
  },
  {
   "cell_type": "code",
   "execution_count": 40,
   "metadata": {},
   "outputs": [],
   "source": [
    "#missing values treatment for categorical Values\n",
    "df['Payment'].fillna(df['Payment'].mode()[0], inplace=True)\n",
    "df['Gender'].fillna(df['Gender'].mode()[0], inplace=True)\n",
    "df['account_segment'].fillna(df['account_segment'].mode()[0], inplace=True)\n",
    "df['Marital_Status'].fillna(df['Marital_Status'].mode()[0], inplace=True)\n"
   ]
  },
  {
   "cell_type": "code",
   "execution_count": 41,
   "metadata": {},
   "outputs": [
    {
     "data": {
      "text/plain": [
       "AccountID                  0\n",
       "Churn                      0\n",
       "Tenure                     0\n",
       "City_Tier                  0\n",
       "CC_Contacted_LY            0\n",
       "Payment                    0\n",
       "Gender                     0\n",
       "Service_Score              0\n",
       "Account_user_count         0\n",
       "account_segment            0\n",
       "CC_Agent_Score             0\n",
       "Marital_Status             0\n",
       "rev_per_month              0\n",
       "Complain_ly                0\n",
       "rev_growth_yoy             0\n",
       "coupon_used_for_payment    0\n",
       "Day_Since_CC_connect       0\n",
       "cashback                   0\n",
       "Login_device               0\n",
       "dtype: int64"
      ]
     },
     "execution_count": 41,
     "metadata": {},
     "output_type": "execute_result"
    }
   ],
   "source": [
    "df.isna().sum()"
   ]
  },
  {
   "cell_type": "code",
   "execution_count": 42,
   "metadata": {},
   "outputs": [
    {
     "data": {
      "text/html": [
       "<div>\n",
       "<style scoped>\n",
       "    .dataframe tbody tr th:only-of-type {\n",
       "        vertical-align: middle;\n",
       "    }\n",
       "\n",
       "    .dataframe tbody tr th {\n",
       "        vertical-align: top;\n",
       "    }\n",
       "\n",
       "    .dataframe thead th {\n",
       "        text-align: right;\n",
       "    }\n",
       "</style>\n",
       "<table border=\"1\" class=\"dataframe\">\n",
       "  <thead>\n",
       "    <tr style=\"text-align: right;\">\n",
       "      <th></th>\n",
       "      <th>AccountID</th>\n",
       "      <th>Churn</th>\n",
       "      <th>Tenure</th>\n",
       "      <th>City_Tier</th>\n",
       "      <th>CC_Contacted_LY</th>\n",
       "      <th>Payment</th>\n",
       "      <th>Gender</th>\n",
       "      <th>Service_Score</th>\n",
       "      <th>Account_user_count</th>\n",
       "      <th>account_segment</th>\n",
       "      <th>CC_Agent_Score</th>\n",
       "      <th>Marital_Status</th>\n",
       "      <th>rev_per_month</th>\n",
       "      <th>Complain_ly</th>\n",
       "      <th>rev_growth_yoy</th>\n",
       "      <th>coupon_used_for_payment</th>\n",
       "      <th>Day_Since_CC_connect</th>\n",
       "      <th>cashback</th>\n",
       "      <th>Login_device</th>\n",
       "    </tr>\n",
       "  </thead>\n",
       "  <tbody>\n",
       "    <tr>\n",
       "      <th>0</th>\n",
       "      <td>20000</td>\n",
       "      <td>1</td>\n",
       "      <td>4.0</td>\n",
       "      <td>3.0</td>\n",
       "      <td>6.0</td>\n",
       "      <td>Debit Card</td>\n",
       "      <td>Female</td>\n",
       "      <td>3.0</td>\n",
       "      <td>3.0</td>\n",
       "      <td>Super</td>\n",
       "      <td>2.0</td>\n",
       "      <td>Single</td>\n",
       "      <td>9.0</td>\n",
       "      <td>1.0</td>\n",
       "      <td>11.0</td>\n",
       "      <td>1.0</td>\n",
       "      <td>5.0</td>\n",
       "      <td>160.0</td>\n",
       "      <td>Mobile</td>\n",
       "    </tr>\n",
       "    <tr>\n",
       "      <th>1</th>\n",
       "      <td>20001</td>\n",
       "      <td>1</td>\n",
       "      <td>0.0</td>\n",
       "      <td>1.0</td>\n",
       "      <td>8.0</td>\n",
       "      <td>UPI</td>\n",
       "      <td>Male</td>\n",
       "      <td>3.0</td>\n",
       "      <td>4.0</td>\n",
       "      <td>Regular Plus</td>\n",
       "      <td>3.0</td>\n",
       "      <td>Single</td>\n",
       "      <td>7.0</td>\n",
       "      <td>1.0</td>\n",
       "      <td>15.0</td>\n",
       "      <td>0.0</td>\n",
       "      <td>0.0</td>\n",
       "      <td>121.0</td>\n",
       "      <td>Mobile</td>\n",
       "    </tr>\n",
       "    <tr>\n",
       "      <th>2</th>\n",
       "      <td>20002</td>\n",
       "      <td>1</td>\n",
       "      <td>0.0</td>\n",
       "      <td>1.0</td>\n",
       "      <td>30.0</td>\n",
       "      <td>Debit Card</td>\n",
       "      <td>Male</td>\n",
       "      <td>2.0</td>\n",
       "      <td>4.0</td>\n",
       "      <td>Regular Plus</td>\n",
       "      <td>3.0</td>\n",
       "      <td>Single</td>\n",
       "      <td>6.0</td>\n",
       "      <td>1.0</td>\n",
       "      <td>14.0</td>\n",
       "      <td>0.0</td>\n",
       "      <td>3.0</td>\n",
       "      <td>196.0</td>\n",
       "      <td>Mobile</td>\n",
       "    </tr>\n",
       "    <tr>\n",
       "      <th>3</th>\n",
       "      <td>20003</td>\n",
       "      <td>1</td>\n",
       "      <td>0.0</td>\n",
       "      <td>3.0</td>\n",
       "      <td>15.0</td>\n",
       "      <td>Debit Card</td>\n",
       "      <td>Male</td>\n",
       "      <td>2.0</td>\n",
       "      <td>4.0</td>\n",
       "      <td>Super</td>\n",
       "      <td>5.0</td>\n",
       "      <td>Single</td>\n",
       "      <td>8.0</td>\n",
       "      <td>0.0</td>\n",
       "      <td>23.0</td>\n",
       "      <td>0.0</td>\n",
       "      <td>3.0</td>\n",
       "      <td>134.0</td>\n",
       "      <td>Mobile</td>\n",
       "    </tr>\n",
       "    <tr>\n",
       "      <th>4</th>\n",
       "      <td>20004</td>\n",
       "      <td>1</td>\n",
       "      <td>0.0</td>\n",
       "      <td>1.0</td>\n",
       "      <td>12.0</td>\n",
       "      <td>Credit Card</td>\n",
       "      <td>Male</td>\n",
       "      <td>2.0</td>\n",
       "      <td>3.0</td>\n",
       "      <td>Regular Plus</td>\n",
       "      <td>5.0</td>\n",
       "      <td>Single</td>\n",
       "      <td>3.0</td>\n",
       "      <td>0.0</td>\n",
       "      <td>11.0</td>\n",
       "      <td>1.0</td>\n",
       "      <td>3.0</td>\n",
       "      <td>130.0</td>\n",
       "      <td>Mobile</td>\n",
       "    </tr>\n",
       "  </tbody>\n",
       "</table>\n",
       "</div>"
      ],
      "text/plain": [
       "   AccountID  Churn  Tenure  City_Tier  CC_Contacted_LY      Payment  Gender  \\\n",
       "0      20000      1     4.0        3.0              6.0   Debit Card  Female   \n",
       "1      20001      1     0.0        1.0              8.0          UPI    Male   \n",
       "2      20002      1     0.0        1.0             30.0   Debit Card    Male   \n",
       "3      20003      1     0.0        3.0             15.0   Debit Card    Male   \n",
       "4      20004      1     0.0        1.0             12.0  Credit Card    Male   \n",
       "\n",
       "   Service_Score  Account_user_count account_segment  CC_Agent_Score  \\\n",
       "0            3.0                 3.0           Super             2.0   \n",
       "1            3.0                 4.0    Regular Plus             3.0   \n",
       "2            2.0                 4.0    Regular Plus             3.0   \n",
       "3            2.0                 4.0           Super             5.0   \n",
       "4            2.0                 3.0    Regular Plus             5.0   \n",
       "\n",
       "  Marital_Status  rev_per_month  Complain_ly  rev_growth_yoy  \\\n",
       "0         Single            9.0          1.0            11.0   \n",
       "1         Single            7.0          1.0            15.0   \n",
       "2         Single            6.0          1.0            14.0   \n",
       "3         Single            8.0          0.0            23.0   \n",
       "4         Single            3.0          0.0            11.0   \n",
       "\n",
       "   coupon_used_for_payment  Day_Since_CC_connect  cashback Login_device  \n",
       "0                      1.0                   5.0     160.0       Mobile  \n",
       "1                      0.0                   0.0     121.0       Mobile  \n",
       "2                      0.0                   3.0     196.0       Mobile  \n",
       "3                      0.0                   3.0     134.0       Mobile  \n",
       "4                      1.0                   3.0     130.0       Mobile  "
      ]
     },
     "execution_count": 42,
     "metadata": {},
     "output_type": "execute_result"
    }
   ],
   "source": [
    "df.head()"
   ]
  },
  {
   "cell_type": "code",
   "execution_count": 43,
   "metadata": {},
   "outputs": [],
   "source": [
    "contract_split = df[[ \"AccountID\", \"Payment\"]]\n",
    "sectors = contract_split .groupby (\"Payment\")\n",
    "contract_split = pd.DataFrame(sectors[\"AccountID\"].count())\n",
    "contract_split.rename(columns={'AccountID':'No. of customers'}, inplace=True)"
   ]
  },
  {
   "cell_type": "code",
   "execution_count": 44,
   "metadata": {},
   "outputs": [
    {
     "data": {
      "text/plain": [
       "(array([   0., 1000., 2000., 3000., 4000., 5000.]),\n",
       " [Text(0, 0, ''),\n",
       "  Text(0, 0, ''),\n",
       "  Text(0, 0, ''),\n",
       "  Text(0, 0, ''),\n",
       "  Text(0, 0, ''),\n",
       "  Text(0, 0, '')])"
      ]
     },
     "execution_count": 44,
     "metadata": {},
     "output_type": "execute_result"
    },
    {
     "data": {
      "text/plain": [
       "<Figure size 1080x360 with 0 Axes>"
      ]
     },
     "metadata": {},
     "output_type": "display_data"
    },
    {
     "data": {
      "image/png": "[encoded data removed]",
      "text/plain": [
       "<Figure size 720x432 with 1 Axes>"
      ]
     },
     "metadata": {
      "needs_background": "light"
     },
     "output_type": "display_data"
    }
   ],
   "source": [
    "plt.figure(figsize=(15,5))\n",
    "ax =  contract_split[[\"No. of customers\"]].plot.bar(title = 'Customers by Payment Method',legend =True, table = False, \n",
    "grid = False,  subplots = False,figsize =(10, 6), color ='#ec838a', \n",
    "fontsize = 15, stacked=False)\n",
    "plt.ylabel('No. of Customers\\n',\n",
    "horizontalalignment=\"center\",fontstyle = \"normal\", \n",
    "fontsize = \"large\", fontfamily = \"sans-serif\")\n",
    "plt.xlabel('\\n Payment Method',\n",
    "horizontalalignment=\"center\",fontstyle = \"normal\", \n",
    "fontsize = \"large\", fontfamily = \"sans-serif\")\n",
    "plt.title('Customers by  Payment Method Type \\n',\n",
    "horizontalalignment=\"center\",fontstyle = \"normal\", \n",
    "fontsize = \"22\", fontfamily = \"sans-serif\")\n",
    "plt.legend(loc='upper right', fontsize = \"medium\")\n",
    "plt.xticks(rotation=0, horizontalalignment=\"center\")\n",
    "plt.yticks(rotation=0, horizontalalignment=\"right\")"
   ]
  },
  {
   "cell_type": "code",
   "execution_count": 45,
   "metadata": {},
   "outputs": [
    {
     "data": {
      "image/png": "[encoded data removed]",
      "text/plain": [
       "<Figure size 1080x864 with 4 Axes>"
      ]
     },
     "metadata": {
      "needs_background": "light"
     },
     "output_type": "display_data"
    }
   ],
   "source": [
    "services= ['Payment','account_segment',\n",
    "'Marital_Status','Login_device']\n",
    "fig, axes = plt.subplots(nrows = 2,ncols = 2,\n",
    "figsize = (15,12))\n",
    "for i, item in enumerate(services):\n",
    "    if i < 2:\n",
    "        ax = df[item].value_counts().plot(kind = 'bar',ax=axes[i,0],rot = 0, color ='#f3babc' )\n",
    "        ax.set_title(item)\n",
    "        \n",
    "    elif i >=2 and i < 4:\n",
    "        ax = df[item].value_counts().plot(kind = 'bar',ax=axes[i-3,1],rot = 0,color ='#9b9c9a')\n",
    "        ax.set_title(item)"
   ]
  },
  {
   "cell_type": "code",
   "execution_count": 46,
   "metadata": {},
   "outputs": [
    {
     "data": {
      "text/plain": [
       "<Figure size 1080x360 with 0 Axes>"
      ]
     },
     "metadata": {},
     "output_type": "display_data"
    },
    {
     "data": {
      "image/png": "[encoded data removed]",
      "text/plain": [
       "<Figure size 864x504 with 1 Axes>"
      ]
     },
     "metadata": {
      "needs_background": "light"
     },
     "output_type": "display_data"
    }
   ],
   "source": [
    "import matplotlib.ticker as mtick\n",
    "plt.figure(figsize=(15,5))\n",
    "contract_churn =df.groupby(['Marital_Status','Churn']).size().unstack()\n",
    "contract_churn.rename(columns={0:'No', 1:'Yes'}, inplace=True)\n",
    "colors  = ['#ec838a','#9b9c9a']\n",
    "ax = (contract_churn.T*100.0 / contract_churn.T.sum()).T.plot(kind='bar',width = 0.3,stacked = True,rot = 0,figsize = (12,7),color = colors)\n",
    "plt.ylabel('Proportion of Customers\\n',\n",
    "horizontalalignment=\"center\",fontstyle = \"normal\", \n",
    "fontsize = \"large\", fontfamily = \"sans-serif\")\n",
    "plt.xlabel('Marriage Status\\n',horizontalalignment=\"center\",\n",
    "fontstyle = \"normal\", fontsize = \"large\", \n",
    "fontfamily = \"sans-serif\")\n",
    "plt.title('Churn Rate by Marriage Status  \\n',\n",
    "horizontalalignment=\"center\", fontstyle = \"normal\", \n",
    "fontsize = \"22\", fontfamily = \"sans-serif\")\n",
    "plt.legend(loc='upper right', fontsize = \"medium\")\n",
    "plt.xticks(rotation=0, horizontalalignment=\"center\")\n",
    "plt.yticks(rotation=0, horizontalalignment=\"right\")\n",
    "ax.yaxis.set_major_formatter(mtick.PercentFormatter())\n",
    "for p in ax.patches:\n",
    "    width, height = p.get_width(), p.get_height()\n",
    "    x, y = p.get_xy() \n",
    "    ax.text(x+width/2, \n",
    "            y+height/2, \n",
    "            '{:.1f}%'.format(height), \n",
    "            horizontalalignment='center', \n",
    "            verticalalignment='center')\n",
    "ax.autoscale(enable=False, axis='both', tight=False)\n"
   ]
  },
  {
   "cell_type": "code",
   "execution_count": 47,
   "metadata": {
    "scrolled": false
   },
   "outputs": [
    {
     "data": {
      "text/plain": [
       "<Figure size 1080x360 with 0 Axes>"
      ]
     },
     "metadata": {},
     "output_type": "display_data"
    },
    {
     "data": {
      "image/png": "[encoded data removed]",
      "text/plain": [
       "<Figure size 864x504 with 1 Axes>"
      ]
     },
     "metadata": {
      "needs_background": "light"
     },
     "output_type": "display_data"
    }
   ],
   "source": [
    "\n",
    "plt.figure(figsize=(15,5))\n",
    "segment_churn = df.groupby(['account_segment','Payment']).size().unstack()\n",
    "segment_churn.rename(columns={0:'No', 1:'Yes'}, inplace=True)\n",
    "colors  = ['#ec838b','#9b9c9a', '#f3cabc' , '#4d4f4c']\n",
    "ax = (segment_churn.T*100.0 / segment_churn.T.sum()).T.plot(kind='bar',width = 0.3,stacked = True,rot = 0,figsize = (12,7),color = colors)\n",
    "plt.ylabel('Proportion of Customers\\n',\n",
    "horizontalalignment=\"center\",fontstyle = \"normal\", \n",
    "fontsize = \"large\", fontfamily = \"sans-serif\")\n",
    "plt.xlabel('Contract Type\\n',horizontalalignment=\"center\",fontstyle = \"normal\", fontsize = \"large\", fontfamily = \"sans-serif\")\n",
    "plt.title('Churn Rate by Payment Method \\n',horizontalalignment=\"center\", fontstyle = \"normal\", fontsize = \"22\", fontfamily = \"sans-serif\")\n",
    "plt.legend(loc='upper right', fontsize = \"medium\")\n",
    "plt.xticks(rotation=0, horizontalalignment=\"center\")\n",
    "plt.yticks(rotation=0, horizontalalignment=\"right\")\n",
    "ax.yaxis.set_major_formatter(mtick.PercentFormatter())\n",
    "for p in ax.patches:\n",
    "    width, height = p.get_width(), p.get_height()\n",
    "    x, y = p.get_xy() \n",
    "    ax.text(x+width/2, \n",
    "            y+height/2, \n",
    "            '{:.1f}%'.format(height), \n",
    "            horizontalalignment='center', \n",
    "            verticalalignment='center')\n",
    "ax.autoscale(enable=False, axis='both', tight=False)\n"
   ]
  },
  {
   "cell_type": "code",
   "execution_count": 48,
   "metadata": {},
   "outputs": [
    {
     "data": {
      "text/html": [
       "<div>\n",
       "<style scoped>\n",
       "    .dataframe tbody tr th:only-of-type {\n",
       "        vertical-align: middle;\n",
       "    }\n",
       "\n",
       "    .dataframe tbody tr th {\n",
       "        vertical-align: top;\n",
       "    }\n",
       "\n",
       "    .dataframe thead th {\n",
       "        text-align: right;\n",
       "    }\n",
       "</style>\n",
       "<table border=\"1\" class=\"dataframe\">\n",
       "  <thead>\n",
       "    <tr style=\"text-align: right;\">\n",
       "      <th></th>\n",
       "      <th>Payment</th>\n",
       "      <th>account_segment</th>\n",
       "      <th>Marital_Status</th>\n",
       "      <th>Login_device</th>\n",
       "    </tr>\n",
       "  </thead>\n",
       "  <tbody>\n",
       "    <tr>\n",
       "      <th>0</th>\n",
       "      <td>Debit Card</td>\n",
       "      <td>Super</td>\n",
       "      <td>Single</td>\n",
       "      <td>Mobile</td>\n",
       "    </tr>\n",
       "    <tr>\n",
       "      <th>1</th>\n",
       "      <td>UPI</td>\n",
       "      <td>Regular Plus</td>\n",
       "      <td>Single</td>\n",
       "      <td>Mobile</td>\n",
       "    </tr>\n",
       "    <tr>\n",
       "      <th>2</th>\n",
       "      <td>Debit Card</td>\n",
       "      <td>Regular Plus</td>\n",
       "      <td>Single</td>\n",
       "      <td>Mobile</td>\n",
       "    </tr>\n",
       "    <tr>\n",
       "      <th>3</th>\n",
       "      <td>Debit Card</td>\n",
       "      <td>Super</td>\n",
       "      <td>Single</td>\n",
       "      <td>Mobile</td>\n",
       "    </tr>\n",
       "    <tr>\n",
       "      <th>4</th>\n",
       "      <td>Credit Card</td>\n",
       "      <td>Regular Plus</td>\n",
       "      <td>Single</td>\n",
       "      <td>Mobile</td>\n",
       "    </tr>\n",
       "  </tbody>\n",
       "</table>\n",
       "</div>"
      ],
      "text/plain": [
       "       Payment account_segment Marital_Status Login_device\n",
       "0   Debit Card           Super         Single       Mobile\n",
       "1          UPI    Regular Plus         Single       Mobile\n",
       "2   Debit Card    Regular Plus         Single       Mobile\n",
       "3   Debit Card           Super         Single       Mobile\n",
       "4  Credit Card    Regular Plus         Single       Mobile"
      ]
     },
     "execution_count": 48,
     "metadata": {},
     "output_type": "execute_result"
    }
   ],
   "source": [
    "dataset2 = df[['Payment','account_segment','Marital_Status','Login_device']]\n",
    "dataset2.head()"
   ]
  },
  {
   "cell_type": "code",
   "execution_count": 49,
   "metadata": {
    "scrolled": false
   },
   "outputs": [
    {
     "name": "stdout",
     "output_type": "stream",
     "text": [
      "1.0\n",
      "0.24635002235367898\n",
      "0.10516514573086404\n",
      "0.10453363862808077\n",
      "0.08352172721244512\n",
      "0.07173463778259558\n",
      "0.021882320010373057\n",
      "0.008935889933337287\n",
      "-0.009541386555324641\n",
      "-0.013870049488837405\n",
      "-0.014838399408950705\n",
      "-0.0316573039176082\n",
      "-0.145355904311918\n",
      "-0.23032682555327275\n"
     ]
    }
   ],
   "source": [
    "correlations = df.corr()['Churn'].sort_values(ascending = False)\n",
    "for i in correlations:\n",
    "    print(i)"
   ]
  },
  {
   "cell_type": "code",
   "execution_count": null,
   "metadata": {},
   "outputs": [],
   "source": []
  },
  {
   "cell_type": "code",
   "execution_count": 50,
   "metadata": {
    "scrolled": false
   },
   "outputs": [
    {
     "data": {
      "text/plain": [
       "Text(0.5, 0, 'Login Device')"
      ]
     },
     "execution_count": 50,
     "metadata": {},
     "output_type": "execute_result"
    },
    {
     "data": {
      "image/png": "[encoded data removed]",
      "text/plain": [
       "<Figure size 1080x360 with 1 Axes>"
      ]
     },
     "metadata": {
      "needs_background": "light"
     },
     "output_type": "display_data"
    }
   ],
   "source": [
    "plt.figure(figsize=(15,5))\n",
    "sns.countplot(data=df,x='Login_device',hue='Churn',palette='viridis')\n",
    "plt.xlabel('Login Device')"
   ]
  },
  {
   "cell_type": "code",
   "execution_count": 51,
   "metadata": {
    "scrolled": true
   },
   "outputs": [
    {
     "data": {
      "text/html": [
       "<div>\n",
       "<style scoped>\n",
       "    .dataframe tbody tr th:only-of-type {\n",
       "        vertical-align: middle;\n",
       "    }\n",
       "\n",
       "    .dataframe tbody tr th {\n",
       "        vertical-align: top;\n",
       "    }\n",
       "\n",
       "    .dataframe thead th {\n",
       "        text-align: right;\n",
       "    }\n",
       "</style>\n",
       "<table border=\"1\" class=\"dataframe\">\n",
       "  <thead>\n",
       "    <tr style=\"text-align: right;\">\n",
       "      <th></th>\n",
       "      <th>AccountID</th>\n",
       "      <th>Churn</th>\n",
       "      <th>Tenure</th>\n",
       "      <th>City_Tier</th>\n",
       "      <th>CC_Contacted_LY</th>\n",
       "      <th>Payment</th>\n",
       "      <th>Gender</th>\n",
       "      <th>Service_Score</th>\n",
       "      <th>Account_user_count</th>\n",
       "      <th>account_segment</th>\n",
       "      <th>CC_Agent_Score</th>\n",
       "      <th>Marital_Status</th>\n",
       "      <th>rev_per_month</th>\n",
       "      <th>Complain_ly</th>\n",
       "      <th>rev_growth_yoy</th>\n",
       "      <th>coupon_used_for_payment</th>\n",
       "      <th>Day_Since_CC_connect</th>\n",
       "      <th>cashback</th>\n",
       "      <th>Login_device</th>\n",
       "    </tr>\n",
       "  </thead>\n",
       "  <tbody>\n",
       "    <tr>\n",
       "      <th>0</th>\n",
       "      <td>20000</td>\n",
       "      <td>1</td>\n",
       "      <td>4.0</td>\n",
       "      <td>3.0</td>\n",
       "      <td>6.0</td>\n",
       "      <td>Debit Card</td>\n",
       "      <td>Female</td>\n",
       "      <td>3.0</td>\n",
       "      <td>3.0</td>\n",
       "      <td>Super</td>\n",
       "      <td>2.0</td>\n",
       "      <td>Single</td>\n",
       "      <td>9.0</td>\n",
       "      <td>1.0</td>\n",
       "      <td>11.0</td>\n",
       "      <td>1.0</td>\n",
       "      <td>5.0</td>\n",
       "      <td>160.0</td>\n",
       "      <td>Mobile</td>\n",
       "    </tr>\n",
       "    <tr>\n",
       "      <th>1</th>\n",
       "      <td>20001</td>\n",
       "      <td>1</td>\n",
       "      <td>0.0</td>\n",
       "      <td>1.0</td>\n",
       "      <td>8.0</td>\n",
       "      <td>UPI</td>\n",
       "      <td>Male</td>\n",
       "      <td>3.0</td>\n",
       "      <td>4.0</td>\n",
       "      <td>Regular Plus</td>\n",
       "      <td>3.0</td>\n",
       "      <td>Single</td>\n",
       "      <td>7.0</td>\n",
       "      <td>1.0</td>\n",
       "      <td>15.0</td>\n",
       "      <td>0.0</td>\n",
       "      <td>0.0</td>\n",
       "      <td>121.0</td>\n",
       "      <td>Mobile</td>\n",
       "    </tr>\n",
       "    <tr>\n",
       "      <th>2</th>\n",
       "      <td>20002</td>\n",
       "      <td>1</td>\n",
       "      <td>0.0</td>\n",
       "      <td>1.0</td>\n",
       "      <td>30.0</td>\n",
       "      <td>Debit Card</td>\n",
       "      <td>Male</td>\n",
       "      <td>2.0</td>\n",
       "      <td>4.0</td>\n",
       "      <td>Regular Plus</td>\n",
       "      <td>3.0</td>\n",
       "      <td>Single</td>\n",
       "      <td>6.0</td>\n",
       "      <td>1.0</td>\n",
       "      <td>14.0</td>\n",
       "      <td>0.0</td>\n",
       "      <td>3.0</td>\n",
       "      <td>196.0</td>\n",
       "      <td>Mobile</td>\n",
       "    </tr>\n",
       "    <tr>\n",
       "      <th>3</th>\n",
       "      <td>20003</td>\n",
       "      <td>1</td>\n",
       "      <td>0.0</td>\n",
       "      <td>3.0</td>\n",
       "      <td>15.0</td>\n",
       "      <td>Debit Card</td>\n",
       "      <td>Male</td>\n",
       "      <td>2.0</td>\n",
       "      <td>4.0</td>\n",
       "      <td>Super</td>\n",
       "      <td>5.0</td>\n",
       "      <td>Single</td>\n",
       "      <td>8.0</td>\n",
       "      <td>0.0</td>\n",
       "      <td>23.0</td>\n",
       "      <td>0.0</td>\n",
       "      <td>3.0</td>\n",
       "      <td>134.0</td>\n",
       "      <td>Mobile</td>\n",
       "    </tr>\n",
       "    <tr>\n",
       "      <th>4</th>\n",
       "      <td>20004</td>\n",
       "      <td>1</td>\n",
       "      <td>0.0</td>\n",
       "      <td>1.0</td>\n",
       "      <td>12.0</td>\n",
       "      <td>Credit Card</td>\n",
       "      <td>Male</td>\n",
       "      <td>2.0</td>\n",
       "      <td>3.0</td>\n",
       "      <td>Regular Plus</td>\n",
       "      <td>5.0</td>\n",
       "      <td>Single</td>\n",
       "      <td>3.0</td>\n",
       "      <td>0.0</td>\n",
       "      <td>11.0</td>\n",
       "      <td>1.0</td>\n",
       "      <td>3.0</td>\n",
       "      <td>130.0</td>\n",
       "      <td>Mobile</td>\n",
       "    </tr>\n",
       "  </tbody>\n",
       "</table>\n",
       "</div>"
      ],
      "text/plain": [
       "   AccountID  Churn  Tenure  City_Tier  CC_Contacted_LY      Payment  Gender  \\\n",
       "0      20000      1     4.0        3.0              6.0   Debit Card  Female   \n",
       "1      20001      1     0.0        1.0              8.0          UPI    Male   \n",
       "2      20002      1     0.0        1.0             30.0   Debit Card    Male   \n",
       "3      20003      1     0.0        3.0             15.0   Debit Card    Male   \n",
       "4      20004      1     0.0        1.0             12.0  Credit Card    Male   \n",
       "\n",
       "   Service_Score  Account_user_count account_segment  CC_Agent_Score  \\\n",
       "0            3.0                 3.0           Super             2.0   \n",
       "1            3.0                 4.0    Regular Plus             3.0   \n",
       "2            2.0                 4.0    Regular Plus             3.0   \n",
       "3            2.0                 4.0           Super             5.0   \n",
       "4            2.0                 3.0    Regular Plus             5.0   \n",
       "\n",
       "  Marital_Status  rev_per_month  Complain_ly  rev_growth_yoy  \\\n",
       "0         Single            9.0          1.0            11.0   \n",
       "1         Single            7.0          1.0            15.0   \n",
       "2         Single            6.0          1.0            14.0   \n",
       "3         Single            8.0          0.0            23.0   \n",
       "4         Single            3.0          0.0            11.0   \n",
       "\n",
       "   coupon_used_for_payment  Day_Since_CC_connect  cashback Login_device  \n",
       "0                      1.0                   5.0     160.0       Mobile  \n",
       "1                      0.0                   0.0     121.0       Mobile  \n",
       "2                      0.0                   3.0     196.0       Mobile  \n",
       "3                      0.0                   3.0     134.0       Mobile  \n",
       "4                      1.0                   3.0     130.0       Mobile  "
      ]
     },
     "execution_count": 51,
     "metadata": {},
     "output_type": "execute_result"
    }
   ],
   "source": [
    "df.head()"
   ]
  },
  {
   "cell_type": "markdown",
   "metadata": {},
   "source": [
    "## All Variables with churn"
   ]
  },
  {
   "cell_type": "code",
   "execution_count": 52,
   "metadata": {},
   "outputs": [
    {
     "data": {
      "text/plain": [
       "Text(0.5, 0, 'User Per Account')"
      ]
     },
     "execution_count": 52,
     "metadata": {},
     "output_type": "execute_result"
    },
    {
     "data": {
      "image/png": "[encoded data removed]",
      "text/plain": [
       "<Figure size 1080x360 with 1 Axes>"
      ]
     },
     "metadata": {
      "needs_background": "light"
     },
     "output_type": "display_data"
    }
   ],
   "source": [
    "plt.figure(figsize=(15,5))\n",
    "sns.countplot(data=df,x='Account_user_count',hue='Churn',palette='viridis')\n",
    "plt.xlabel('User Per Account')\n"
   ]
  },
  {
   "cell_type": "code",
   "execution_count": 53,
   "metadata": {},
   "outputs": [
    {
     "data": {
      "text/plain": [
       "Text(0.5, 0, 'Payment')"
      ]
     },
     "execution_count": 53,
     "metadata": {},
     "output_type": "execute_result"
    },
    {
     "data": {
      "image/png": "[encoded data removed]",
      "text/plain": [
       "<Figure size 1080x360 with 1 Axes>"
      ]
     },
     "metadata": {
      "needs_background": "light"
     },
     "output_type": "display_data"
    }
   ],
   "source": [
    "plt.figure(figsize=(15,5))\n",
    "sns.countplot(data=df,x='Payment',hue='Churn',palette='viridis')\n",
    "plt.xlabel('Payment')"
   ]
  },
  {
   "cell_type": "code",
   "execution_count": 54,
   "metadata": {},
   "outputs": [
    {
     "data": {
      "text/plain": [
       "Text(0.5, 0, 'Service Score')"
      ]
     },
     "execution_count": 54,
     "metadata": {},
     "output_type": "execute_result"
    },
    {
     "data": {
      "image/png": "[encoded data removed]",
      "text/plain": [
       "<Figure size 1080x360 with 1 Axes>"
      ]
     },
     "metadata": {
      "needs_background": "light"
     },
     "output_type": "display_data"
    }
   ],
   "source": [
    "plt.figure(figsize=(15,5))\n",
    "sns.countplot(data=df,x='account_segment',hue='Churn',palette='viridis')\n",
    "plt.xlabel('Service Score')"
   ]
  },
  {
   "cell_type": "code",
   "execution_count": 55,
   "metadata": {},
   "outputs": [
    {
     "data": {
      "text/plain": [
       "<AxesSubplot:>"
      ]
     },
     "execution_count": 55,
     "metadata": {},
     "output_type": "execute_result"
    },
    {
     "data": {
      "image/png": "[encoded data removed]",
      "text/plain": [
       "<Figure size 1080x360 with 1 Axes>"
      ]
     },
     "metadata": {
      "needs_background": "light"
     },
     "output_type": "display_data"
    }
   ],
   "source": [
    "plt.figure(figsize=(15,5))\n",
    "df['rev_per_month'].hist(bins=100)"
   ]
  },
  {
   "cell_type": "code",
   "execution_count": 56,
   "metadata": {},
   "outputs": [
    {
     "data": {
      "text/plain": [
       "Index(['AccountID', 'Churn', 'Tenure', 'City_Tier', 'CC_Contacted_LY',\n",
       "       'Payment', 'Gender', 'Service_Score', 'Account_user_count',\n",
       "       'account_segment', 'CC_Agent_Score', 'Marital_Status', 'rev_per_month',\n",
       "       'Complain_ly', 'rev_growth_yoy', 'coupon_used_for_payment',\n",
       "       'Day_Since_CC_connect', 'cashback', 'Login_device'],\n",
       "      dtype='object')"
      ]
     },
     "execution_count": 56,
     "metadata": {},
     "output_type": "execute_result"
    }
   ],
   "source": [
    "df.columns"
   ]
  },
  {
   "cell_type": "code",
   "execution_count": 57,
   "metadata": {},
   "outputs": [
    {
     "data": {
      "text/plain": [
       "<Figure size 360x360 with 0 Axes>"
      ]
     },
     "execution_count": 57,
     "metadata": {},
     "output_type": "execute_result"
    },
    {
     "data": {
      "image/png": "[encoded data removed]",
      "text/plain": [
       "<Figure size 906.375x216 with 1 Axes>"
      ]
     },
     "metadata": {
      "needs_background": "light"
     },
     "output_type": "display_data"
    },
    {
     "data": {
      "text/plain": [
       "<Figure size 360x360 with 0 Axes>"
      ]
     },
     "metadata": {},
     "output_type": "display_data"
    }
   ],
   "source": [
    "fig = sns.FacetGrid(df, hue='Churn', aspect=4)\n",
    "fig.map(sns.kdeplot, 'Tenure', shade=True)\n",
    "oldest = df['Tenure'].max()\n",
    "fig.set(xlim=(0,oldest))\n",
    "fig.set(title='Distribution of Tenure Grouped by Gender')\n",
    "fig.add_legend()\n",
    "plt.figure(figsize=(5,5))"
   ]
  },
  {
   "cell_type": "code",
   "execution_count": 58,
   "metadata": {},
   "outputs": [
    {
     "data": {
      "text/plain": [
       "<seaborn.axisgrid.FacetGrid at 0x1e634d307c0>"
      ]
     },
     "execution_count": 58,
     "metadata": {},
     "output_type": "execute_result"
    },
    {
     "data": {
      "text/plain": [
       "<Figure size 1080x360 with 0 Axes>"
      ]
     },
     "metadata": {},
     "output_type": "display_data"
    },
    {
     "data": {
      "image/png": "[encoded data removed]",
      "text/plain": [
       "<Figure size 984.875x216 with 1 Axes>"
      ]
     },
     "metadata": {
      "needs_background": "light"
     },
     "output_type": "display_data"
    }
   ],
   "source": [
    "plt.figure(figsize=(15,5))\n",
    "fig = sns.FacetGrid(df, hue='Payment', aspect=4)\n",
    "fig.map(sns.kdeplot, 'Tenure', shade=True)\n",
    "oldest = df['Tenure'].max()\n",
    "fig.set(xlim=(0,oldest))\n",
    "fig.set(title='Distribution of Tenure Grouped by Payment')\n",
    "fig.add_legend()"
   ]
  },
  {
   "cell_type": "code",
   "execution_count": 59,
   "metadata": {},
   "outputs": [
    {
     "data": {
      "text/plain": [
       "<seaborn.axisgrid.FacetGrid at 0x1e6354677c0>"
      ]
     },
     "execution_count": 59,
     "metadata": {},
     "output_type": "execute_result"
    },
    {
     "data": {
      "text/plain": [
       "<Figure size 1080x360 with 0 Axes>"
      ]
     },
     "metadata": {},
     "output_type": "display_data"
    },
    {
     "data": {
      "image/png": "[encoded data removed]",
      "text/plain": [
       "<Figure size 906.375x216 with 1 Axes>"
      ]
     },
     "metadata": {
      "needs_background": "light"
     },
     "output_type": "display_data"
    }
   ],
   "source": [
    "plt.figure(figsize=(15,5))\n",
    "fig = sns.FacetGrid(df, hue='Churn', aspect=4)\n",
    "fig.map(sns.kdeplot, 'cashback', shade=True)\n",
    "oldest = df['cashback'].max()\n",
    "fig.set(xlim=(0,oldest))\n",
    "fig.set(title='Distribution of Contact times Grouped by Gender')\n",
    "fig.add_legend()"
   ]
  },
  {
   "cell_type": "code",
   "execution_count": 60,
   "metadata": {},
   "outputs": [
    {
     "data": {
      "text/plain": [
       "<seaborn.axisgrid.FacetGrid at 0x1e634d299a0>"
      ]
     },
     "execution_count": 60,
     "metadata": {},
     "output_type": "execute_result"
    },
    {
     "data": {
      "text/plain": [
       "<Figure size 1080x360 with 0 Axes>"
      ]
     },
     "metadata": {},
     "output_type": "display_data"
    },
    {
     "data": {
      "image/png": "[encoded data removed]",
      "text/plain": [
       "<Figure size 916x216 with 1 Axes>"
      ]
     },
     "metadata": {
      "needs_background": "light"
     },
     "output_type": "display_data"
    }
   ],
   "source": [
    "plt.figure(figsize=(15,5))\n",
    "fig = sns.FacetGrid(df, hue='City_Tier', aspect=4)\n",
    "fig.map(sns.kdeplot, 'rev_per_month', shade=True)\n",
    "oldest = df['rev_per_month'].max()\n",
    "fig.set(xlim=(0,oldest))\n",
    "fig.set(title='Distribution of Revenue Per Month by Gender')\n",
    "fig.add_legend()"
   ]
  },
  {
   "cell_type": "code",
   "execution_count": 61,
   "metadata": {
    "scrolled": false
   },
   "outputs": [
    {
     "data": {
      "text/plain": [
       "<seaborn.axisgrid.FacetGrid at 0x1e634d7c370>"
      ]
     },
     "execution_count": 61,
     "metadata": {},
     "output_type": "execute_result"
    },
    {
     "data": {
      "text/plain": [
       "<Figure size 1080x360 with 0 Axes>"
      ]
     },
     "metadata": {},
     "output_type": "display_data"
    },
    {
     "data": {
      "image/png": "[encoded data removed]",
      "text/plain": [
       "<Figure size 432.125x360 with 1 Axes>"
      ]
     },
     "metadata": {
      "needs_background": "light"
     },
     "output_type": "display_data"
    }
   ],
   "source": [
    "plt.figure(figsize=(15,5))\n",
    "sns.lmplot('Tenure', 'Churn', data=df,hue='Gender')"
   ]
  },
  {
   "cell_type": "code",
   "execution_count": 62,
   "metadata": {},
   "outputs": [
    {
     "data": {
      "text/plain": [
       "<AxesSubplot:xlabel='Tenure', ylabel='Density'>"
      ]
     },
     "execution_count": 62,
     "metadata": {},
     "output_type": "execute_result"
    },
    {
     "data": {
      "image/png": "[encoded data removed]",
      "text/plain": [
       "<Figure size 1080x360 with 1 Axes>"
      ]
     },
     "metadata": {
      "needs_background": "light"
     },
     "output_type": "display_data"
    }
   ],
   "source": [
    "plt.figure(figsize=(15,5))\n",
    "sns.kdeplot(df['Tenure'],shade=True)"
   ]
  },
  {
   "cell_type": "code",
   "execution_count": 63,
   "metadata": {
    "scrolled": true
   },
   "outputs": [
    {
     "data": {
      "text/plain": [
       "<seaborn.axisgrid.FacetGrid at 0x1e634f76910>"
      ]
     },
     "execution_count": 63,
     "metadata": {},
     "output_type": "execute_result"
    },
    {
     "data": {
      "text/plain": [
       "<Figure size 360x360 with 0 Axes>"
      ]
     },
     "metadata": {},
     "output_type": "display_data"
    },
    {
     "data": {
      "image/png": "[encoded data removed]",
      "text/plain": [
       "<Figure size 411.375x360 with 1 Axes>"
      ]
     },
     "metadata": {
      "needs_background": "light"
     },
     "output_type": "display_data"
    }
   ],
   "source": [
    "plt.figure(figsize=(5,5))\n",
    "sns.lmplot('Tenure', 'Churn', hue='City_Tier', data=df, palette='winter', hue_order=range(1,4))\n"
   ]
  },
  {
   "cell_type": "code",
   "execution_count": null,
   "metadata": {},
   "outputs": [],
   "source": []
  },
  {
   "cell_type": "code",
   "execution_count": 64,
   "metadata": {},
   "outputs": [
    {
     "data": {
      "text/plain": [
       "<seaborn.axisgrid.FacetGrid at 0x1e634f85820>"
      ]
     },
     "execution_count": 64,
     "metadata": {},
     "output_type": "execute_result"
    },
    {
     "data": {
      "text/plain": [
       "<Figure size 1080x360 with 0 Axes>"
      ]
     },
     "metadata": {},
     "output_type": "display_data"
    },
    {
     "data": {
      "image/png": "[encoded data removed]",
      "text/plain": [
       "<Figure size 360x360 with 1 Axes>"
      ]
     },
     "metadata": {
      "needs_background": "light"
     },
     "output_type": "display_data"
    }
   ],
   "source": [
    "plt.figure(figsize=(15,5))\n",
    "sns.factorplot('City_Tier', 'Churn', data=df)\n"
   ]
  },
  {
   "cell_type": "code",
   "execution_count": 65,
   "metadata": {},
   "outputs": [
    {
     "data": {
      "text/plain": [
       "Text(0.5, 1.0, 'Correlation with Churn Rate \\n')"
      ]
     },
     "execution_count": 65,
     "metadata": {},
     "output_type": "execute_result"
    },
    {
     "data": {
      "image/png": "[encoded data removed]",
      "text/plain": [
       "<Figure size 1296x720 with 1 Axes>"
      ]
     },
     "metadata": {
      "needs_background": "light"
     },
     "output_type": "display_data"
    }
   ],
   "source": [
    "correlations = correlations[correlations!=1]\n",
    "correlations.plot.bar(\n",
    "        figsize = (18, 10), \n",
    "        fontsize = 15, \n",
    "        color = '#ec838a',\n",
    "        rot = 45, grid = True)\n",
    "plt.title('Correlation with Churn Rate \\n',\n",
    "horizontalalignment=\"center\", fontstyle = \"normal\", \n",
    "fontsize = \"22\", fontfamily = \"sans-serif\")"
   ]
  },
  {
   "cell_type": "code",
   "execution_count": 66,
   "metadata": {
    "scrolled": true
   },
   "outputs": [
    {
     "data": {
      "image/png": "[encoded data removed]",
      "text/plain": [
       "<Figure size 432x288 with 1 Axes>"
      ]
     },
     "metadata": {
      "needs_background": "light"
     },
     "output_type": "display_data"
    }
   ],
   "source": [
    "import seaborn as sns\n",
    "#sns.boxplot(x=boston_df['DIS'])\n",
    "sns.boxplot(x=df['Tenure'])\n",
    " \n",
    "# show plot\n",
    "plt.show()\n"
   ]
  },
  {
   "cell_type": "code",
   "execution_count": 67,
   "metadata": {},
   "outputs": [
    {
     "data": {
      "image/png": "[encoded data removed]",
      "text/plain": [
       "<Figure size 1152x576 with 1 Axes>"
      ]
     },
     "metadata": {
      "needs_background": "light"
     },
     "output_type": "display_data"
    }
   ],
   "source": [
    "fig, ax = plt.subplots(figsize=(16,8))\n",
    "ax.scatter(df['rev_per_month'], df['Tenure'])\n",
    "ax.set_xlabel('Proportion of non-retail business acres per town')\n",
    "ax.set_ylabel('Full-value property-tax rate per $10,000')\n",
    "plt.show()"
   ]
  },
  {
   "cell_type": "code",
   "execution_count": 68,
   "metadata": {
    "scrolled": false
   },
   "outputs": [
    {
     "data": {
      "text/html": [
       "<div>\n",
       "<style scoped>\n",
       "    .dataframe tbody tr th:only-of-type {\n",
       "        vertical-align: middle;\n",
       "    }\n",
       "\n",
       "    .dataframe tbody tr th {\n",
       "        vertical-align: top;\n",
       "    }\n",
       "\n",
       "    .dataframe thead th {\n",
       "        text-align: right;\n",
       "    }\n",
       "</style>\n",
       "<table border=\"1\" class=\"dataframe\">\n",
       "  <thead>\n",
       "    <tr style=\"text-align: right;\">\n",
       "      <th></th>\n",
       "      <th>AccountID</th>\n",
       "      <th>Churn</th>\n",
       "      <th>Tenure</th>\n",
       "      <th>City_Tier</th>\n",
       "      <th>CC_Contacted_LY</th>\n",
       "      <th>Service_Score</th>\n",
       "      <th>Account_user_count</th>\n",
       "      <th>CC_Agent_Score</th>\n",
       "      <th>rev_per_month</th>\n",
       "      <th>Complain_ly</th>\n",
       "      <th>rev_growth_yoy</th>\n",
       "      <th>coupon_used_for_payment</th>\n",
       "      <th>Day_Since_CC_connect</th>\n",
       "      <th>cashback</th>\n",
       "    </tr>\n",
       "  </thead>\n",
       "  <tbody>\n",
       "    <tr>\n",
       "      <th>count</th>\n",
       "      <td>11260.00000</td>\n",
       "      <td>11260.000000</td>\n",
       "      <td>11260.000000</td>\n",
       "      <td>11260.000000</td>\n",
       "      <td>11260.000000</td>\n",
       "      <td>11260.000000</td>\n",
       "      <td>11260.000000</td>\n",
       "      <td>11260.000000</td>\n",
       "      <td>11260.000000</td>\n",
       "      <td>11260.000000</td>\n",
       "      <td>11260.000000</td>\n",
       "      <td>11260.000000</td>\n",
       "      <td>11260.000000</td>\n",
       "      <td>11260.000000</td>\n",
       "    </tr>\n",
       "    <tr>\n",
       "      <th>mean</th>\n",
       "      <td>25629.50000</td>\n",
       "      <td>0.168384</td>\n",
       "      <td>11.024600</td>\n",
       "      <td>1.657371</td>\n",
       "      <td>17.868295</td>\n",
       "      <td>2.903375</td>\n",
       "      <td>3.704973</td>\n",
       "      <td>3.065808</td>\n",
       "      <td>6.337123</td>\n",
       "      <td>0.276288</td>\n",
       "      <td>16.193339</td>\n",
       "      <td>1.790675</td>\n",
       "      <td>4.644849</td>\n",
       "      <td>196.222114</td>\n",
       "    </tr>\n",
       "    <tr>\n",
       "      <th>std</th>\n",
       "      <td>3250.62635</td>\n",
       "      <td>0.374223</td>\n",
       "      <td>12.754482</td>\n",
       "      <td>0.911100</td>\n",
       "      <td>8.813084</td>\n",
       "      <td>0.722476</td>\n",
       "      <td>1.004383</td>\n",
       "      <td>1.372663</td>\n",
       "      <td>11.484085</td>\n",
       "      <td>0.447181</td>\n",
       "      <td>3.757222</td>\n",
       "      <td>1.969291</td>\n",
       "      <td>3.638945</td>\n",
       "      <td>174.864197</td>\n",
       "    </tr>\n",
       "    <tr>\n",
       "      <th>min</th>\n",
       "      <td>20000.00000</td>\n",
       "      <td>0.000000</td>\n",
       "      <td>0.000000</td>\n",
       "      <td>1.000000</td>\n",
       "      <td>4.000000</td>\n",
       "      <td>0.000000</td>\n",
       "      <td>1.000000</td>\n",
       "      <td>1.000000</td>\n",
       "      <td>1.000000</td>\n",
       "      <td>0.000000</td>\n",
       "      <td>4.000000</td>\n",
       "      <td>0.000000</td>\n",
       "      <td>0.000000</td>\n",
       "      <td>0.000000</td>\n",
       "    </tr>\n",
       "    <tr>\n",
       "      <th>25%</th>\n",
       "      <td>22814.75000</td>\n",
       "      <td>0.000000</td>\n",
       "      <td>2.000000</td>\n",
       "      <td>1.000000</td>\n",
       "      <td>11.000000</td>\n",
       "      <td>2.000000</td>\n",
       "      <td>3.000000</td>\n",
       "      <td>2.000000</td>\n",
       "      <td>3.000000</td>\n",
       "      <td>0.000000</td>\n",
       "      <td>13.000000</td>\n",
       "      <td>1.000000</td>\n",
       "      <td>2.000000</td>\n",
       "      <td>148.000000</td>\n",
       "    </tr>\n",
       "    <tr>\n",
       "      <th>50%</th>\n",
       "      <td>25629.50000</td>\n",
       "      <td>0.000000</td>\n",
       "      <td>9.000000</td>\n",
       "      <td>1.000000</td>\n",
       "      <td>16.000000</td>\n",
       "      <td>3.000000</td>\n",
       "      <td>4.000000</td>\n",
       "      <td>3.000000</td>\n",
       "      <td>5.000000</td>\n",
       "      <td>0.000000</td>\n",
       "      <td>15.000000</td>\n",
       "      <td>1.000000</td>\n",
       "      <td>4.000000</td>\n",
       "      <td>167.000000</td>\n",
       "    </tr>\n",
       "    <tr>\n",
       "      <th>75%</th>\n",
       "      <td>28444.25000</td>\n",
       "      <td>0.000000</td>\n",
       "      <td>16.000000</td>\n",
       "      <td>3.000000</td>\n",
       "      <td>23.000000</td>\n",
       "      <td>3.000000</td>\n",
       "      <td>4.000000</td>\n",
       "      <td>4.000000</td>\n",
       "      <td>7.000000</td>\n",
       "      <td>1.000000</td>\n",
       "      <td>19.000000</td>\n",
       "      <td>2.000000</td>\n",
       "      <td>7.000000</td>\n",
       "      <td>197.000000</td>\n",
       "    </tr>\n",
       "    <tr>\n",
       "      <th>max</th>\n",
       "      <td>31259.00000</td>\n",
       "      <td>1.000000</td>\n",
       "      <td>99.000000</td>\n",
       "      <td>3.000000</td>\n",
       "      <td>132.000000</td>\n",
       "      <td>5.000000</td>\n",
       "      <td>6.000000</td>\n",
       "      <td>5.000000</td>\n",
       "      <td>140.000000</td>\n",
       "      <td>1.000000</td>\n",
       "      <td>28.000000</td>\n",
       "      <td>16.000000</td>\n",
       "      <td>47.000000</td>\n",
       "      <td>1997.000000</td>\n",
       "    </tr>\n",
       "  </tbody>\n",
       "</table>\n",
       "</div>"
      ],
      "text/plain": [
       "         AccountID         Churn        Tenure     City_Tier  CC_Contacted_LY  \\\n",
       "count  11260.00000  11260.000000  11260.000000  11260.000000     11260.000000   \n",
       "mean   25629.50000      0.168384     11.024600      1.657371        17.868295   \n",
       "std     3250.62635      0.374223     12.754482      0.911100         8.813084   \n",
       "min    20000.00000      0.000000      0.000000      1.000000         4.000000   \n",
       "25%    22814.75000      0.000000      2.000000      1.000000        11.000000   \n",
       "50%    25629.50000      0.000000      9.000000      1.000000        16.000000   \n",
       "75%    28444.25000      0.000000     16.000000      3.000000        23.000000   \n",
       "max    31259.00000      1.000000     99.000000      3.000000       132.000000   \n",
       "\n",
       "       Service_Score  Account_user_count  CC_Agent_Score  rev_per_month  \\\n",
       "count   11260.000000        11260.000000    11260.000000   11260.000000   \n",
       "mean        2.903375            3.704973        3.065808       6.337123   \n",
       "std         0.722476            1.004383        1.372663      11.484085   \n",
       "min         0.000000            1.000000        1.000000       1.000000   \n",
       "25%         2.000000            3.000000        2.000000       3.000000   \n",
       "50%         3.000000            4.000000        3.000000       5.000000   \n",
       "75%         3.000000            4.000000        4.000000       7.000000   \n",
       "max         5.000000            6.000000        5.000000     140.000000   \n",
       "\n",
       "        Complain_ly  rev_growth_yoy  coupon_used_for_payment  \\\n",
       "count  11260.000000    11260.000000             11260.000000   \n",
       "mean       0.276288       16.193339                 1.790675   \n",
       "std        0.447181        3.757222                 1.969291   \n",
       "min        0.000000        4.000000                 0.000000   \n",
       "25%        0.000000       13.000000                 1.000000   \n",
       "50%        0.000000       15.000000                 1.000000   \n",
       "75%        1.000000       19.000000                 2.000000   \n",
       "max        1.000000       28.000000                16.000000   \n",
       "\n",
       "       Day_Since_CC_connect      cashback  \n",
       "count          11260.000000  11260.000000  \n",
       "mean               4.644849    196.222114  \n",
       "std                3.638945    174.864197  \n",
       "min                0.000000      0.000000  \n",
       "25%                2.000000    148.000000  \n",
       "50%                4.000000    167.000000  \n",
       "75%                7.000000    197.000000  \n",
       "max               47.000000   1997.000000  "
      ]
     },
     "execution_count": 68,
     "metadata": {},
     "output_type": "execute_result"
    }
   ],
   "source": [
    "df.describe()"
   ]
  },
  {
   "cell_type": "code",
   "execution_count": 69,
   "metadata": {},
   "outputs": [],
   "source": [
    "col1=[]\n",
    "for col in df.columns[1:]:\n",
    "    if df[col].dtype == 'object':\n",
    "        col1.append(col)\n",
    "\n"
   ]
  },
  {
   "cell_type": "code",
   "execution_count": 70,
   "metadata": {},
   "outputs": [
    {
     "data": {
      "text/plain": [
       "['Payment', 'Gender', 'account_segment', 'Marital_Status', 'Login_device']"
      ]
     },
     "execution_count": 70,
     "metadata": {},
     "output_type": "execute_result"
    }
   ],
   "source": [
    "col1"
   ]
  },
  {
   "cell_type": "code",
   "execution_count": 71,
   "metadata": {},
   "outputs": [
    {
     "data": {
      "text/plain": [
       "Index(['AccountID', 'Churn', 'Tenure', 'City_Tier', 'CC_Contacted_LY',\n",
       "       'Service_Score', 'Account_user_count', 'CC_Agent_Score',\n",
       "       'rev_per_month', 'Complain_ly', 'rev_growth_yoy',\n",
       "       'coupon_used_for_payment', 'Day_Since_CC_connect', 'cashback',\n",
       "       'Payment_Cash on Delivery', 'Payment_Credit Card', 'Payment_Debit Card',\n",
       "       'Payment_E wallet', 'Payment_UPI', 'Gender_Female', 'Gender_Male',\n",
       "       'account_segment_HNI', 'account_segment_Regular',\n",
       "       'account_segment_Regular Plus', 'account_segment_Super',\n",
       "       'account_segment_Super Plus', 'Marital_Status_Divorced',\n",
       "       'Marital_Status_Married', 'Marital_Status_Single',\n",
       "       'Login_device_Computer', 'Login_device_Mobile', 'Login_device_Tab'],\n",
       "      dtype='object')"
      ]
     },
     "execution_count": 71,
     "metadata": {},
     "output_type": "execute_result"
    }
   ],
   "source": [
    "df2 = pd.get_dummies(data=df, columns=col1)\n",
    "df2.columns"
   ]
  },
  {
   "cell_type": "code",
   "execution_count": 72,
   "metadata": {},
   "outputs": [],
   "source": [
    "# identify outliers\n",
    "data_mean, data_std = np.mean(df2['Tenure']), np.std(df2['Tenure'])\n",
    "cut_off = data_std * 3\n",
    "lower, upper = data_mean - cut_off, data_mean + cut_off"
   ]
  },
  {
   "cell_type": "code",
   "execution_count": 73,
   "metadata": {},
   "outputs": [],
   "source": [
    "outliers = [x for x in df['Tenure'] if x < lower or x > upper]"
   ]
  },
  {
   "cell_type": "code",
   "execution_count": 74,
   "metadata": {},
   "outputs": [
    {
     "data": {
      "text/plain": [
       "139"
      ]
     },
     "execution_count": 74,
     "metadata": {},
     "output_type": "execute_result"
    }
   ],
   "source": [
    "len(outliers)"
   ]
  },
  {
   "cell_type": "code",
   "execution_count": 76,
   "metadata": {},
   "outputs": [
    {
     "name": "stdout",
     "output_type": "stream",
     "text": [
      "AccountID                       5629.5\n",
      "Churn                              0.0\n",
      "Tenure                            14.0\n",
      "City_Tier                          2.0\n",
      "CC_Contacted_LY                   12.0\n",
      "Service_Score                      1.0\n",
      "Account_user_count                 1.0\n",
      "CC_Agent_Score                     2.0\n",
      "rev_per_month                      4.0\n",
      "Complain_ly                        1.0\n",
      "rev_growth_yoy                     6.0\n",
      "coupon_used_for_payment            1.0\n",
      "Day_Since_CC_connect               5.0\n",
      "cashback                          49.0\n",
      "Payment_Cash on Delivery           0.0\n",
      "Payment_Credit Card                1.0\n",
      "Payment_Debit Card                 1.0\n",
      "Payment_E wallet                   0.0\n",
      "Payment_UPI                        0.0\n",
      "Gender_Female                      1.0\n",
      "Gender_Male                        1.0\n",
      "account_segment_HNI                0.0\n",
      "account_segment_Regular            0.0\n",
      "account_segment_Regular Plus       1.0\n",
      "account_segment_Super              1.0\n",
      "account_segment_Super Plus         0.0\n",
      "Marital_Status_Divorced            0.0\n",
      "Marital_Status_Married             1.0\n",
      "Marital_Status_Single              1.0\n",
      "Login_device_Computer              1.0\n",
      "Login_device_Mobile                1.0\n",
      "Login_device_Tab                   0.0\n",
      "dtype: float64\n"
     ]
    }
   ],
   "source": [
    "Q1 = df2.quantile(0.25)\n",
    "Q3 = df2.quantile(0.75)\n",
    "IQR = Q3 - Q1\n",
    "print(IQR)"
   ]
  },
  {
   "cell_type": "code",
   "execution_count": 77,
   "metadata": {},
   "outputs": [],
   "source": [
    "def remove_outliers(x):\n",
    "\n",
    "    ## storing names of columns in Column_Names\n",
    "    Column_Names=x.columns\n",
    "\n",
    "    ## importing matplotlib and seaborn for visualisation of outliers\n",
    "    import matplotlib.pyplot as plt\n",
    "    import seaborn as sns   \n",
    "\n",
    "    ## iterating through Column_Names using try and except for distinguishing between numerical and categorical columns\n",
    "    for j in Column_Names:\n",
    "        try:\n",
    "            print('Before Removing Outliers')\n",
    "\n",
    "            ##visualisation of outliers\n",
    "            a = sns.boxplot(data=x,x=x[j])\n",
    "            plt.tight_layout() \n",
    "            plt.show() \n",
    "\n",
    "            xy=x[j]    \n",
    "            mydata=pd.DataFrame()\n",
    "\n",
    "            updated=[]\n",
    "            Q1,Q3=np.percentile(xy,[25,75])\n",
    "            IQR=Q3-Q1\n",
    "            minimum=Q1-1.5*IQR\n",
    "            maximum=Q3+1.5*IQR\n",
    "\n",
    "            ## using the maximum and minimum values obtained from quartiles and inter-quartile range\n",
    "            ## any outliers greater than maximum are updated to be equal to maximum\n",
    "            ## any outliers lesser than minimum are updated to be equal to minimum\n",
    "            ## here, no outliers have been removed to prevent loss of data\n",
    "\n",
    "            for i in xy:\n",
    "                if(i>maximum):\n",
    "                    i=maximum\n",
    "                    updated.append(i)\n",
    "                elif(i<minimum):\n",
    "                    i=minimum\n",
    "                    updated.append(i)\n",
    "                else:\n",
    "                    updated.append(i)\n",
    "\n",
    "            x[j]=updated\n",
    "            print('After Removing Outliers')\n",
    "\n",
    "            ## visualising after removing outliers\n",
    "            b= sns.boxplot(data=x,x=x[j])\n",
    "            plt.tight_layout() \n",
    "            plt.show()\n",
    "\n",
    "        except:\n",
    "            continue\n",
    "\n",
    "    return x"
   ]
  },
  {
   "cell_type": "code",
   "execution_count": 78,
   "metadata": {
    "scrolled": false
   },
   "outputs": [],
   "source": [
    "\n",
    "df1=df2.drop('Churn', axis=1)"
   ]
  },
  {
   "cell_type": "code",
   "execution_count": 79,
   "metadata": {},
   "outputs": [
    {
     "data": {
      "text/plain": [
       "Index(['AccountID', 'Tenure', 'City_Tier', 'CC_Contacted_LY', 'Service_Score',\n",
       "       'Account_user_count', 'CC_Agent_Score', 'rev_per_month', 'Complain_ly',\n",
       "       'rev_growth_yoy', 'coupon_used_for_payment', 'Day_Since_CC_connect',\n",
       "       'cashback', 'Payment_Cash on Delivery', 'Payment_Credit Card',\n",
       "       'Payment_Debit Card', 'Payment_E wallet', 'Payment_UPI',\n",
       "       'Gender_Female', 'Gender_Male', 'account_segment_HNI',\n",
       "       'account_segment_Regular', 'account_segment_Regular Plus',\n",
       "       'account_segment_Super', 'account_segment_Super Plus',\n",
       "       'Marital_Status_Divorced', 'Marital_Status_Married',\n",
       "       'Marital_Status_Single', 'Login_device_Computer', 'Login_device_Mobile',\n",
       "       'Login_device_Tab'],\n",
       "      dtype='object')"
      ]
     },
     "execution_count": 79,
     "metadata": {},
     "output_type": "execute_result"
    }
   ],
   "source": [
    "df1.columns"
   ]
  },
  {
   "cell_type": "code",
   "execution_count": 80,
   "metadata": {},
   "outputs": [
    {
     "data": {
      "text/html": [
       "<div>\n",
       "<style scoped>\n",
       "    .dataframe tbody tr th:only-of-type {\n",
       "        vertical-align: middle;\n",
       "    }\n",
       "\n",
       "    .dataframe tbody tr th {\n",
       "        vertical-align: top;\n",
       "    }\n",
       "\n",
       "    .dataframe thead th {\n",
       "        text-align: right;\n",
       "    }\n",
       "</style>\n",
       "<table border=\"1\" class=\"dataframe\">\n",
       "  <thead>\n",
       "    <tr style=\"text-align: right;\">\n",
       "      <th></th>\n",
       "      <th>AccountID</th>\n",
       "      <th>Tenure</th>\n",
       "      <th>City_Tier</th>\n",
       "      <th>CC_Contacted_LY</th>\n",
       "      <th>Service_Score</th>\n",
       "      <th>Account_user_count</th>\n",
       "      <th>CC_Agent_Score</th>\n",
       "      <th>rev_per_month</th>\n",
       "      <th>Complain_ly</th>\n",
       "      <th>rev_growth_yoy</th>\n",
       "      <th>...</th>\n",
       "      <th>account_segment_Regular</th>\n",
       "      <th>account_segment_Regular Plus</th>\n",
       "      <th>account_segment_Super</th>\n",
       "      <th>account_segment_Super Plus</th>\n",
       "      <th>Marital_Status_Divorced</th>\n",
       "      <th>Marital_Status_Married</th>\n",
       "      <th>Marital_Status_Single</th>\n",
       "      <th>Login_device_Computer</th>\n",
       "      <th>Login_device_Mobile</th>\n",
       "      <th>Login_device_Tab</th>\n",
       "    </tr>\n",
       "  </thead>\n",
       "  <tbody>\n",
       "    <tr>\n",
       "      <th>0</th>\n",
       "      <td>20000</td>\n",
       "      <td>4.0</td>\n",
       "      <td>3.0</td>\n",
       "      <td>6.0</td>\n",
       "      <td>3.0</td>\n",
       "      <td>3.0</td>\n",
       "      <td>2.0</td>\n",
       "      <td>9.0</td>\n",
       "      <td>1.0</td>\n",
       "      <td>11.0</td>\n",
       "      <td>...</td>\n",
       "      <td>0</td>\n",
       "      <td>0</td>\n",
       "      <td>1</td>\n",
       "      <td>0</td>\n",
       "      <td>0</td>\n",
       "      <td>0</td>\n",
       "      <td>1</td>\n",
       "      <td>0</td>\n",
       "      <td>1</td>\n",
       "      <td>0</td>\n",
       "    </tr>\n",
       "    <tr>\n",
       "      <th>1</th>\n",
       "      <td>20001</td>\n",
       "      <td>0.0</td>\n",
       "      <td>1.0</td>\n",
       "      <td>8.0</td>\n",
       "      <td>3.0</td>\n",
       "      <td>4.0</td>\n",
       "      <td>3.0</td>\n",
       "      <td>7.0</td>\n",
       "      <td>1.0</td>\n",
       "      <td>15.0</td>\n",
       "      <td>...</td>\n",
       "      <td>0</td>\n",
       "      <td>1</td>\n",
       "      <td>0</td>\n",
       "      <td>0</td>\n",
       "      <td>0</td>\n",
       "      <td>0</td>\n",
       "      <td>1</td>\n",
       "      <td>0</td>\n",
       "      <td>1</td>\n",
       "      <td>0</td>\n",
       "    </tr>\n",
       "    <tr>\n",
       "      <th>2</th>\n",
       "      <td>20002</td>\n",
       "      <td>0.0</td>\n",
       "      <td>1.0</td>\n",
       "      <td>30.0</td>\n",
       "      <td>2.0</td>\n",
       "      <td>4.0</td>\n",
       "      <td>3.0</td>\n",
       "      <td>6.0</td>\n",
       "      <td>1.0</td>\n",
       "      <td>14.0</td>\n",
       "      <td>...</td>\n",
       "      <td>0</td>\n",
       "      <td>1</td>\n",
       "      <td>0</td>\n",
       "      <td>0</td>\n",
       "      <td>0</td>\n",
       "      <td>0</td>\n",
       "      <td>1</td>\n",
       "      <td>0</td>\n",
       "      <td>1</td>\n",
       "      <td>0</td>\n",
       "    </tr>\n",
       "    <tr>\n",
       "      <th>3</th>\n",
       "      <td>20003</td>\n",
       "      <td>0.0</td>\n",
       "      <td>3.0</td>\n",
       "      <td>15.0</td>\n",
       "      <td>2.0</td>\n",
       "      <td>4.0</td>\n",
       "      <td>5.0</td>\n",
       "      <td>8.0</td>\n",
       "      <td>0.0</td>\n",
       "      <td>23.0</td>\n",
       "      <td>...</td>\n",
       "      <td>0</td>\n",
       "      <td>0</td>\n",
       "      <td>1</td>\n",
       "      <td>0</td>\n",
       "      <td>0</td>\n",
       "      <td>0</td>\n",
       "      <td>1</td>\n",
       "      <td>0</td>\n",
       "      <td>1</td>\n",
       "      <td>0</td>\n",
       "    </tr>\n",
       "    <tr>\n",
       "      <th>4</th>\n",
       "      <td>20004</td>\n",
       "      <td>0.0</td>\n",
       "      <td>1.0</td>\n",
       "      <td>12.0</td>\n",
       "      <td>2.0</td>\n",
       "      <td>3.0</td>\n",
       "      <td>5.0</td>\n",
       "      <td>3.0</td>\n",
       "      <td>0.0</td>\n",
       "      <td>11.0</td>\n",
       "      <td>...</td>\n",
       "      <td>0</td>\n",
       "      <td>1</td>\n",
       "      <td>0</td>\n",
       "      <td>0</td>\n",
       "      <td>0</td>\n",
       "      <td>0</td>\n",
       "      <td>1</td>\n",
       "      <td>0</td>\n",
       "      <td>1</td>\n",
       "      <td>0</td>\n",
       "    </tr>\n",
       "  </tbody>\n",
       "</table>\n",
       "<p>5 rows × 31 columns</p>\n",
       "</div>"
      ],
      "text/plain": [
       "   AccountID  Tenure  City_Tier  CC_Contacted_LY  Service_Score  \\\n",
       "0      20000     4.0        3.0              6.0            3.0   \n",
       "1      20001     0.0        1.0              8.0            3.0   \n",
       "2      20002     0.0        1.0             30.0            2.0   \n",
       "3      20003     0.0        3.0             15.0            2.0   \n",
       "4      20004     0.0        1.0             12.0            2.0   \n",
       "\n",
       "   Account_user_count  CC_Agent_Score  rev_per_month  Complain_ly  \\\n",
       "0                 3.0             2.0            9.0          1.0   \n",
       "1                 4.0             3.0            7.0          1.0   \n",
       "2                 4.0             3.0            6.0          1.0   \n",
       "3                 4.0             5.0            8.0          0.0   \n",
       "4                 3.0             5.0            3.0          0.0   \n",
       "\n",
       "   rev_growth_yoy  ...  account_segment_Regular  account_segment_Regular Plus  \\\n",
       "0            11.0  ...                        0                             0   \n",
       "1            15.0  ...                        0                             1   \n",
       "2            14.0  ...                        0                             1   \n",
       "3            23.0  ...                        0                             0   \n",
       "4            11.0  ...                        0                             1   \n",
       "\n",
       "   account_segment_Super  account_segment_Super Plus  Marital_Status_Divorced  \\\n",
       "0                      1                           0                        0   \n",
       "1                      0                           0                        0   \n",
       "2                      0                           0                        0   \n",
       "3                      1                           0                        0   \n",
       "4                      0                           0                        0   \n",
       "\n",
       "   Marital_Status_Married  Marital_Status_Single  Login_device_Computer  \\\n",
       "0                       0                      1                      0   \n",
       "1                       0                      1                      0   \n",
       "2                       0                      1                      0   \n",
       "3                       0                      1                      0   \n",
       "4                       0                      1                      0   \n",
       "\n",
       "   Login_device_Mobile  Login_device_Tab  \n",
       "0                    1                 0  \n",
       "1                    1                 0  \n",
       "2                    1                 0  \n",
       "3                    1                 0  \n",
       "4                    1                 0  \n",
       "\n",
       "[5 rows x 31 columns]"
      ]
     },
     "execution_count": 80,
     "metadata": {},
     "output_type": "execute_result"
    }
   ],
   "source": [
    "df1.head()"
   ]
  },
  {
   "cell_type": "code",
   "execution_count": 81,
   "metadata": {
    "scrolled": true
   },
   "outputs": [
    {
     "name": "stdout",
     "output_type": "stream",
     "text": [
      "(11260, 32)\n"
     ]
    },
    {
     "data": {
      "text/html": [
       "<div>\n",
       "<style scoped>\n",
       "    .dataframe tbody tr th:only-of-type {\n",
       "        vertical-align: middle;\n",
       "    }\n",
       "\n",
       "    .dataframe tbody tr th {\n",
       "        vertical-align: top;\n",
       "    }\n",
       "\n",
       "    .dataframe thead th {\n",
       "        text-align: right;\n",
       "    }\n",
       "</style>\n",
       "<table border=\"1\" class=\"dataframe\">\n",
       "  <thead>\n",
       "    <tr style=\"text-align: right;\">\n",
       "      <th></th>\n",
       "      <th>AccountID</th>\n",
       "      <th>Churn</th>\n",
       "      <th>Tenure</th>\n",
       "      <th>City_Tier</th>\n",
       "      <th>CC_Contacted_LY</th>\n",
       "      <th>Service_Score</th>\n",
       "      <th>Account_user_count</th>\n",
       "      <th>CC_Agent_Score</th>\n",
       "      <th>rev_per_month</th>\n",
       "      <th>Complain_ly</th>\n",
       "      <th>...</th>\n",
       "      <th>account_segment_Regular</th>\n",
       "      <th>account_segment_Regular Plus</th>\n",
       "      <th>account_segment_Super</th>\n",
       "      <th>account_segment_Super Plus</th>\n",
       "      <th>Marital_Status_Divorced</th>\n",
       "      <th>Marital_Status_Married</th>\n",
       "      <th>Marital_Status_Single</th>\n",
       "      <th>Login_device_Computer</th>\n",
       "      <th>Login_device_Mobile</th>\n",
       "      <th>Login_device_Tab</th>\n",
       "    </tr>\n",
       "  </thead>\n",
       "  <tbody>\n",
       "    <tr>\n",
       "      <th>0</th>\n",
       "      <td>20000</td>\n",
       "      <td>1</td>\n",
       "      <td>4.0</td>\n",
       "      <td>3.0</td>\n",
       "      <td>6.0</td>\n",
       "      <td>3.0</td>\n",
       "      <td>3.0</td>\n",
       "      <td>2.0</td>\n",
       "      <td>9.0</td>\n",
       "      <td>1.0</td>\n",
       "      <td>...</td>\n",
       "      <td>0</td>\n",
       "      <td>0</td>\n",
       "      <td>1</td>\n",
       "      <td>0</td>\n",
       "      <td>0</td>\n",
       "      <td>0</td>\n",
       "      <td>1</td>\n",
       "      <td>0</td>\n",
       "      <td>1</td>\n",
       "      <td>0</td>\n",
       "    </tr>\n",
       "    <tr>\n",
       "      <th>1</th>\n",
       "      <td>20001</td>\n",
       "      <td>1</td>\n",
       "      <td>0.0</td>\n",
       "      <td>1.0</td>\n",
       "      <td>8.0</td>\n",
       "      <td>3.0</td>\n",
       "      <td>4.0</td>\n",
       "      <td>3.0</td>\n",
       "      <td>7.0</td>\n",
       "      <td>1.0</td>\n",
       "      <td>...</td>\n",
       "      <td>0</td>\n",
       "      <td>1</td>\n",
       "      <td>0</td>\n",
       "      <td>0</td>\n",
       "      <td>0</td>\n",
       "      <td>0</td>\n",
       "      <td>1</td>\n",
       "      <td>0</td>\n",
       "      <td>1</td>\n",
       "      <td>0</td>\n",
       "    </tr>\n",
       "    <tr>\n",
       "      <th>2</th>\n",
       "      <td>20002</td>\n",
       "      <td>1</td>\n",
       "      <td>0.0</td>\n",
       "      <td>1.0</td>\n",
       "      <td>30.0</td>\n",
       "      <td>2.0</td>\n",
       "      <td>4.0</td>\n",
       "      <td>3.0</td>\n",
       "      <td>6.0</td>\n",
       "      <td>1.0</td>\n",
       "      <td>...</td>\n",
       "      <td>0</td>\n",
       "      <td>1</td>\n",
       "      <td>0</td>\n",
       "      <td>0</td>\n",
       "      <td>0</td>\n",
       "      <td>0</td>\n",
       "      <td>1</td>\n",
       "      <td>0</td>\n",
       "      <td>1</td>\n",
       "      <td>0</td>\n",
       "    </tr>\n",
       "    <tr>\n",
       "      <th>3</th>\n",
       "      <td>20003</td>\n",
       "      <td>1</td>\n",
       "      <td>0.0</td>\n",
       "      <td>3.0</td>\n",
       "      <td>15.0</td>\n",
       "      <td>2.0</td>\n",
       "      <td>4.0</td>\n",
       "      <td>5.0</td>\n",
       "      <td>8.0</td>\n",
       "      <td>0.0</td>\n",
       "      <td>...</td>\n",
       "      <td>0</td>\n",
       "      <td>0</td>\n",
       "      <td>1</td>\n",
       "      <td>0</td>\n",
       "      <td>0</td>\n",
       "      <td>0</td>\n",
       "      <td>1</td>\n",
       "      <td>0</td>\n",
       "      <td>1</td>\n",
       "      <td>0</td>\n",
       "    </tr>\n",
       "    <tr>\n",
       "      <th>4</th>\n",
       "      <td>20004</td>\n",
       "      <td>1</td>\n",
       "      <td>0.0</td>\n",
       "      <td>1.0</td>\n",
       "      <td>12.0</td>\n",
       "      <td>2.0</td>\n",
       "      <td>3.0</td>\n",
       "      <td>5.0</td>\n",
       "      <td>3.0</td>\n",
       "      <td>0.0</td>\n",
       "      <td>...</td>\n",
       "      <td>0</td>\n",
       "      <td>1</td>\n",
       "      <td>0</td>\n",
       "      <td>0</td>\n",
       "      <td>0</td>\n",
       "      <td>0</td>\n",
       "      <td>1</td>\n",
       "      <td>0</td>\n",
       "      <td>1</td>\n",
       "      <td>0</td>\n",
       "    </tr>\n",
       "  </tbody>\n",
       "</table>\n",
       "<p>5 rows × 32 columns</p>\n",
       "</div>"
      ],
      "text/plain": [
       "   AccountID  Churn  Tenure  City_Tier  CC_Contacted_LY  Service_Score  \\\n",
       "0      20000      1     4.0        3.0              6.0            3.0   \n",
       "1      20001      1     0.0        1.0              8.0            3.0   \n",
       "2      20002      1     0.0        1.0             30.0            2.0   \n",
       "3      20003      1     0.0        3.0             15.0            2.0   \n",
       "4      20004      1     0.0        1.0             12.0            2.0   \n",
       "\n",
       "   Account_user_count  CC_Agent_Score  rev_per_month  Complain_ly  ...  \\\n",
       "0                 3.0             2.0            9.0          1.0  ...   \n",
       "1                 4.0             3.0            7.0          1.0  ...   \n",
       "2                 4.0             3.0            6.0          1.0  ...   \n",
       "3                 4.0             5.0            8.0          0.0  ...   \n",
       "4                 3.0             5.0            3.0          0.0  ...   \n",
       "\n",
       "   account_segment_Regular  account_segment_Regular Plus  \\\n",
       "0                        0                             0   \n",
       "1                        0                             1   \n",
       "2                        0                             1   \n",
       "3                        0                             0   \n",
       "4                        0                             1   \n",
       "\n",
       "   account_segment_Super  account_segment_Super Plus  Marital_Status_Divorced  \\\n",
       "0                      1                           0                        0   \n",
       "1                      0                           0                        0   \n",
       "2                      0                           0                        0   \n",
       "3                      1                           0                        0   \n",
       "4                      0                           0                        0   \n",
       "\n",
       "   Marital_Status_Married  Marital_Status_Single  Login_device_Computer  \\\n",
       "0                       0                      1                      0   \n",
       "1                       0                      1                      0   \n",
       "2                       0                      1                      0   \n",
       "3                       0                      1                      0   \n",
       "4                       0                      1                      0   \n",
       "\n",
       "   Login_device_Mobile  Login_device_Tab  \n",
       "0                    1                 0  \n",
       "1                    1                 0  \n",
       "2                    1                 0  \n",
       "3                    1                 0  \n",
       "4                    1                 0  \n",
       "\n",
       "[5 rows x 32 columns]"
      ]
     },
     "execution_count": 81,
     "metadata": {},
     "output_type": "execute_result"
    }
   ],
   "source": [
    "print(df2.shape)\n",
    "df2.head()"
   ]
  },
  {
   "cell_type": "code",
   "execution_count": 82,
   "metadata": {},
   "outputs": [
    {
     "data": {
      "text/plain": [
       "<matplotlib.legend.Legend at 0x1e6351e5ee0>"
      ]
     },
     "execution_count": 82,
     "metadata": {},
     "output_type": "execute_result"
    },
    {
     "data": {
      "image/png": "[encoded data removed]",
      "text/plain": [
       "<Figure size 1000x800 with 1 Axes>"
      ]
     },
     "metadata": {
      "needs_background": "light"
     },
     "output_type": "display_data"
    }
   ],
   "source": [
    "plt.figure(figsize=(10,8),dpi=100)\n",
    "sns.scatterplot(data=df2,x='Tenure',y='rev_growth_yoy',hue='Churn',alpha=0.8)\n",
    "plt.legend(loc=(1,0.5),title = \"Churn\")"
   ]
  },
  {
   "cell_type": "code",
   "execution_count": 83,
   "metadata": {},
   "outputs": [],
   "source": [
    "df_corr=dataset2.corr()"
   ]
  },
  {
   "cell_type": "code",
   "execution_count": 84,
   "metadata": {},
   "outputs": [
    {
     "data": {
      "text/plain": [
       "count    11260.000000\n",
       "mean        11.024600\n",
       "std         12.754482\n",
       "min          0.000000\n",
       "25%          2.000000\n",
       "50%          9.000000\n",
       "75%         16.000000\n",
       "max         99.000000\n",
       "Name: Tenure, dtype: float64"
      ]
     },
     "execution_count": 84,
     "metadata": {},
     "output_type": "execute_result"
    }
   ],
   "source": [
    "df['Tenure'].describe()"
   ]
  },
  {
   "cell_type": "code",
   "execution_count": 85,
   "metadata": {},
   "outputs": [],
   "source": [
    "def yearly_tenure(tenure):\n",
    "    if tenure <= 12:\n",
    "        return 1\n",
    "    elif tenure >12 and tenure <=24:\n",
    "        return 2\n",
    "    elif tenure >24 and tenure <=36:\n",
    "        return 3\n",
    "    elif tenure >36 and tenure <=48:\n",
    "        return 4\n",
    "    elif tenure >48 and tenure <=60:\n",
    "        return 5\n",
    "    elif tenure > 60 and tenure <=72:\n",
    "        return 6"
   ]
  },
  {
   "cell_type": "code",
   "execution_count": null,
   "metadata": {},
   "outputs": [],
   "source": []
  },
  {
   "cell_type": "code",
   "execution_count": 86,
   "metadata": {
    "scrolled": true
   },
   "outputs": [
    {
     "data": {
      "text/html": [
       "<div>\n",
       "<style scoped>\n",
       "    .dataframe tbody tr th:only-of-type {\n",
       "        vertical-align: middle;\n",
       "    }\n",
       "\n",
       "    .dataframe tbody tr th {\n",
       "        vertical-align: top;\n",
       "    }\n",
       "\n",
       "    .dataframe thead th {\n",
       "        text-align: right;\n",
       "    }\n",
       "</style>\n",
       "<table border=\"1\" class=\"dataframe\">\n",
       "  <thead>\n",
       "    <tr style=\"text-align: right;\">\n",
       "      <th></th>\n",
       "      <th>AccountID</th>\n",
       "      <th>Churn</th>\n",
       "      <th>Tenure</th>\n",
       "      <th>City_Tier</th>\n",
       "      <th>CC_Contacted_LY</th>\n",
       "      <th>Service_Score</th>\n",
       "      <th>Account_user_count</th>\n",
       "      <th>CC_Agent_Score</th>\n",
       "      <th>rev_per_month</th>\n",
       "      <th>Complain_ly</th>\n",
       "      <th>...</th>\n",
       "      <th>account_segment_Regular</th>\n",
       "      <th>account_segment_Regular Plus</th>\n",
       "      <th>account_segment_Super</th>\n",
       "      <th>account_segment_Super Plus</th>\n",
       "      <th>Marital_Status_Divorced</th>\n",
       "      <th>Marital_Status_Married</th>\n",
       "      <th>Marital_Status_Single</th>\n",
       "      <th>Login_device_Computer</th>\n",
       "      <th>Login_device_Mobile</th>\n",
       "      <th>Login_device_Tab</th>\n",
       "    </tr>\n",
       "  </thead>\n",
       "  <tbody>\n",
       "    <tr>\n",
       "      <th>0</th>\n",
       "      <td>20000</td>\n",
       "      <td>1</td>\n",
       "      <td>4.0</td>\n",
       "      <td>3.0</td>\n",
       "      <td>6.0</td>\n",
       "      <td>3.0</td>\n",
       "      <td>3.0</td>\n",
       "      <td>2.0</td>\n",
       "      <td>9.0</td>\n",
       "      <td>1.0</td>\n",
       "      <td>...</td>\n",
       "      <td>0</td>\n",
       "      <td>0</td>\n",
       "      <td>1</td>\n",
       "      <td>0</td>\n",
       "      <td>0</td>\n",
       "      <td>0</td>\n",
       "      <td>1</td>\n",
       "      <td>0</td>\n",
       "      <td>1</td>\n",
       "      <td>0</td>\n",
       "    </tr>\n",
       "    <tr>\n",
       "      <th>1</th>\n",
       "      <td>20001</td>\n",
       "      <td>1</td>\n",
       "      <td>0.0</td>\n",
       "      <td>1.0</td>\n",
       "      <td>8.0</td>\n",
       "      <td>3.0</td>\n",
       "      <td>4.0</td>\n",
       "      <td>3.0</td>\n",
       "      <td>7.0</td>\n",
       "      <td>1.0</td>\n",
       "      <td>...</td>\n",
       "      <td>0</td>\n",
       "      <td>1</td>\n",
       "      <td>0</td>\n",
       "      <td>0</td>\n",
       "      <td>0</td>\n",
       "      <td>0</td>\n",
       "      <td>1</td>\n",
       "      <td>0</td>\n",
       "      <td>1</td>\n",
       "      <td>0</td>\n",
       "    </tr>\n",
       "    <tr>\n",
       "      <th>2</th>\n",
       "      <td>20002</td>\n",
       "      <td>1</td>\n",
       "      <td>0.0</td>\n",
       "      <td>1.0</td>\n",
       "      <td>30.0</td>\n",
       "      <td>2.0</td>\n",
       "      <td>4.0</td>\n",
       "      <td>3.0</td>\n",
       "      <td>6.0</td>\n",
       "      <td>1.0</td>\n",
       "      <td>...</td>\n",
       "      <td>0</td>\n",
       "      <td>1</td>\n",
       "      <td>0</td>\n",
       "      <td>0</td>\n",
       "      <td>0</td>\n",
       "      <td>0</td>\n",
       "      <td>1</td>\n",
       "      <td>0</td>\n",
       "      <td>1</td>\n",
       "      <td>0</td>\n",
       "    </tr>\n",
       "    <tr>\n",
       "      <th>3</th>\n",
       "      <td>20003</td>\n",
       "      <td>1</td>\n",
       "      <td>0.0</td>\n",
       "      <td>3.0</td>\n",
       "      <td>15.0</td>\n",
       "      <td>2.0</td>\n",
       "      <td>4.0</td>\n",
       "      <td>5.0</td>\n",
       "      <td>8.0</td>\n",
       "      <td>0.0</td>\n",
       "      <td>...</td>\n",
       "      <td>0</td>\n",
       "      <td>0</td>\n",
       "      <td>1</td>\n",
       "      <td>0</td>\n",
       "      <td>0</td>\n",
       "      <td>0</td>\n",
       "      <td>1</td>\n",
       "      <td>0</td>\n",
       "      <td>1</td>\n",
       "      <td>0</td>\n",
       "    </tr>\n",
       "    <tr>\n",
       "      <th>4</th>\n",
       "      <td>20004</td>\n",
       "      <td>1</td>\n",
       "      <td>0.0</td>\n",
       "      <td>1.0</td>\n",
       "      <td>12.0</td>\n",
       "      <td>2.0</td>\n",
       "      <td>3.0</td>\n",
       "      <td>5.0</td>\n",
       "      <td>3.0</td>\n",
       "      <td>0.0</td>\n",
       "      <td>...</td>\n",
       "      <td>0</td>\n",
       "      <td>1</td>\n",
       "      <td>0</td>\n",
       "      <td>0</td>\n",
       "      <td>0</td>\n",
       "      <td>0</td>\n",
       "      <td>1</td>\n",
       "      <td>0</td>\n",
       "      <td>1</td>\n",
       "      <td>0</td>\n",
       "    </tr>\n",
       "  </tbody>\n",
       "</table>\n",
       "<p>5 rows × 32 columns</p>\n",
       "</div>"
      ],
      "text/plain": [
       "   AccountID  Churn  Tenure  City_Tier  CC_Contacted_LY  Service_Score  \\\n",
       "0      20000      1     4.0        3.0              6.0            3.0   \n",
       "1      20001      1     0.0        1.0              8.0            3.0   \n",
       "2      20002      1     0.0        1.0             30.0            2.0   \n",
       "3      20003      1     0.0        3.0             15.0            2.0   \n",
       "4      20004      1     0.0        1.0             12.0            2.0   \n",
       "\n",
       "   Account_user_count  CC_Agent_Score  rev_per_month  Complain_ly  ...  \\\n",
       "0                 3.0             2.0            9.0          1.0  ...   \n",
       "1                 4.0             3.0            7.0          1.0  ...   \n",
       "2                 4.0             3.0            6.0          1.0  ...   \n",
       "3                 4.0             5.0            8.0          0.0  ...   \n",
       "4                 3.0             5.0            3.0          0.0  ...   \n",
       "\n",
       "   account_segment_Regular  account_segment_Regular Plus  \\\n",
       "0                        0                             0   \n",
       "1                        0                             1   \n",
       "2                        0                             1   \n",
       "3                        0                             0   \n",
       "4                        0                             1   \n",
       "\n",
       "   account_segment_Super  account_segment_Super Plus  Marital_Status_Divorced  \\\n",
       "0                      1                           0                        0   \n",
       "1                      0                           0                        0   \n",
       "2                      0                           0                        0   \n",
       "3                      1                           0                        0   \n",
       "4                      0                           0                        0   \n",
       "\n",
       "   Marital_Status_Married  Marital_Status_Single  Login_device_Computer  \\\n",
       "0                       0                      1                      0   \n",
       "1                       0                      1                      0   \n",
       "2                       0                      1                      0   \n",
       "3                       0                      1                      0   \n",
       "4                       0                      1                      0   \n",
       "\n",
       "   Login_device_Mobile  Login_device_Tab  \n",
       "0                    1                 0  \n",
       "1                    1                 0  \n",
       "2                    1                 0  \n",
       "3                    1                 0  \n",
       "4                    1                 0  \n",
       "\n",
       "[5 rows x 32 columns]"
      ]
     },
     "execution_count": 86,
     "metadata": {},
     "output_type": "execute_result"
    }
   ],
   "source": [
    "df2.head()"
   ]
  },
  {
   "cell_type": "markdown",
   "metadata": {},
   "source": [
    "## All variables with churn rate"
   ]
  },
  {
   "cell_type": "code",
   "execution_count": 87,
   "metadata": {},
   "outputs": [
    {
     "data": {
      "text/plain": [
       "count    11260.000000\n",
       "mean         6.337123\n",
       "std         11.484085\n",
       "min          1.000000\n",
       "25%          3.000000\n",
       "50%          5.000000\n",
       "75%          7.000000\n",
       "max        140.000000\n",
       "Name: rev_per_month, dtype: float64"
      ]
     },
     "execution_count": 87,
     "metadata": {},
     "output_type": "execute_result"
    }
   ],
   "source": [
    "df1['rev_per_month'].describe()"
   ]
  },
  {
   "cell_type": "code",
   "execution_count": 88,
   "metadata": {},
   "outputs": [],
   "source": [
    "from sklearn.model_selection import train_test_split"
   ]
  },
  {
   "cell_type": "code",
   "execution_count": 89,
   "metadata": {},
   "outputs": [
    {
     "name": "stdout",
     "output_type": "stream",
     "text": [
      "Index(['AccountID', 'Tenure', 'City_Tier', 'CC_Contacted_LY', 'Service_Score',\n",
      "       'Account_user_count', 'CC_Agent_Score', 'rev_per_month', 'Complain_ly',\n",
      "       'rev_growth_yoy', 'coupon_used_for_payment', 'Day_Since_CC_connect',\n",
      "       'cashback', 'Payment_Cash on Delivery', 'Payment_Credit Card',\n",
      "       'Payment_Debit Card', 'Payment_E wallet', 'Payment_UPI',\n",
      "       'Gender_Female', 'Gender_Male', 'account_segment_HNI',\n",
      "       'account_segment_Regular', 'account_segment_Regular Plus',\n",
      "       'account_segment_Super', 'account_segment_Super Plus',\n",
      "       'Marital_Status_Divorced', 'Marital_Status_Married',\n",
      "       'Marital_Status_Single', 'Login_device_Computer', 'Login_device_Mobile',\n",
      "       'Login_device_Tab'],\n",
      "      dtype='object')\n"
     ]
    }
   ],
   "source": [
    "cols_to_scale =df1.columns\n",
    "print(cols_to_scale)\n"
   ]
  },
  {
   "cell_type": "code",
   "execution_count": 90,
   "metadata": {
    "scrolled": true
   },
   "outputs": [
    {
     "data": {
      "text/plain": [
       "AccountID                         int64\n",
       "Churn                             int64\n",
       "Tenure                          float64\n",
       "City_Tier                       float64\n",
       "CC_Contacted_LY                 float64\n",
       "Service_Score                   float64\n",
       "Account_user_count              float64\n",
       "CC_Agent_Score                  float64\n",
       "rev_per_month                   float64\n",
       "Complain_ly                     float64\n",
       "rev_growth_yoy                  float64\n",
       "coupon_used_for_payment         float64\n",
       "Day_Since_CC_connect            float64\n",
       "cashback                        float64\n",
       "Payment_Cash on Delivery          uint8\n",
       "Payment_Credit Card               uint8\n",
       "Payment_Debit Card                uint8\n",
       "Payment_E wallet                  uint8\n",
       "Payment_UPI                       uint8\n",
       "Gender_Female                     uint8\n",
       "Gender_Male                       uint8\n",
       "account_segment_HNI               uint8\n",
       "account_segment_Regular           uint8\n",
       "account_segment_Regular Plus      uint8\n",
       "account_segment_Super             uint8\n",
       "account_segment_Super Plus        uint8\n",
       "Marital_Status_Divorced           uint8\n",
       "Marital_Status_Married            uint8\n",
       "Marital_Status_Single             uint8\n",
       "Login_device_Computer             uint8\n",
       "Login_device_Mobile               uint8\n",
       "Login_device_Tab                  uint8\n",
       "dtype: object"
      ]
     },
     "execution_count": 90,
     "metadata": {},
     "output_type": "execute_result"
    }
   ],
   "source": [
    "df2.dtypes"
   ]
  },
  {
   "cell_type": "code",
   "execution_count": 91,
   "metadata": {
    "scrolled": true
   },
   "outputs": [
    {
     "data": {
      "text/html": [
       "<div>\n",
       "<style scoped>\n",
       "    .dataframe tbody tr th:only-of-type {\n",
       "        vertical-align: middle;\n",
       "    }\n",
       "\n",
       "    .dataframe tbody tr th {\n",
       "        vertical-align: top;\n",
       "    }\n",
       "\n",
       "    .dataframe thead th {\n",
       "        text-align: right;\n",
       "    }\n",
       "</style>\n",
       "<table border=\"1\" class=\"dataframe\">\n",
       "  <thead>\n",
       "    <tr style=\"text-align: right;\">\n",
       "      <th></th>\n",
       "      <th>AccountID</th>\n",
       "      <th>Churn</th>\n",
       "      <th>Tenure</th>\n",
       "      <th>City_Tier</th>\n",
       "      <th>CC_Contacted_LY</th>\n",
       "      <th>Service_Score</th>\n",
       "      <th>Account_user_count</th>\n",
       "      <th>CC_Agent_Score</th>\n",
       "      <th>rev_per_month</th>\n",
       "      <th>Complain_ly</th>\n",
       "      <th>...</th>\n",
       "      <th>account_segment_Regular</th>\n",
       "      <th>account_segment_Regular Plus</th>\n",
       "      <th>account_segment_Super</th>\n",
       "      <th>account_segment_Super Plus</th>\n",
       "      <th>Marital_Status_Divorced</th>\n",
       "      <th>Marital_Status_Married</th>\n",
       "      <th>Marital_Status_Single</th>\n",
       "      <th>Login_device_Computer</th>\n",
       "      <th>Login_device_Mobile</th>\n",
       "      <th>Login_device_Tab</th>\n",
       "    </tr>\n",
       "  </thead>\n",
       "  <tbody>\n",
       "    <tr>\n",
       "      <th>0</th>\n",
       "      <td>20000</td>\n",
       "      <td>1</td>\n",
       "      <td>4.0</td>\n",
       "      <td>3.0</td>\n",
       "      <td>6.0</td>\n",
       "      <td>3.0</td>\n",
       "      <td>3.0</td>\n",
       "      <td>2.0</td>\n",
       "      <td>9.0</td>\n",
       "      <td>1.0</td>\n",
       "      <td>...</td>\n",
       "      <td>0</td>\n",
       "      <td>0</td>\n",
       "      <td>1</td>\n",
       "      <td>0</td>\n",
       "      <td>0</td>\n",
       "      <td>0</td>\n",
       "      <td>1</td>\n",
       "      <td>0</td>\n",
       "      <td>1</td>\n",
       "      <td>0</td>\n",
       "    </tr>\n",
       "    <tr>\n",
       "      <th>1</th>\n",
       "      <td>20001</td>\n",
       "      <td>1</td>\n",
       "      <td>0.0</td>\n",
       "      <td>1.0</td>\n",
       "      <td>8.0</td>\n",
       "      <td>3.0</td>\n",
       "      <td>4.0</td>\n",
       "      <td>3.0</td>\n",
       "      <td>7.0</td>\n",
       "      <td>1.0</td>\n",
       "      <td>...</td>\n",
       "      <td>0</td>\n",
       "      <td>1</td>\n",
       "      <td>0</td>\n",
       "      <td>0</td>\n",
       "      <td>0</td>\n",
       "      <td>0</td>\n",
       "      <td>1</td>\n",
       "      <td>0</td>\n",
       "      <td>1</td>\n",
       "      <td>0</td>\n",
       "    </tr>\n",
       "    <tr>\n",
       "      <th>2</th>\n",
       "      <td>20002</td>\n",
       "      <td>1</td>\n",
       "      <td>0.0</td>\n",
       "      <td>1.0</td>\n",
       "      <td>30.0</td>\n",
       "      <td>2.0</td>\n",
       "      <td>4.0</td>\n",
       "      <td>3.0</td>\n",
       "      <td>6.0</td>\n",
       "      <td>1.0</td>\n",
       "      <td>...</td>\n",
       "      <td>0</td>\n",
       "      <td>1</td>\n",
       "      <td>0</td>\n",
       "      <td>0</td>\n",
       "      <td>0</td>\n",
       "      <td>0</td>\n",
       "      <td>1</td>\n",
       "      <td>0</td>\n",
       "      <td>1</td>\n",
       "      <td>0</td>\n",
       "    </tr>\n",
       "    <tr>\n",
       "      <th>3</th>\n",
       "      <td>20003</td>\n",
       "      <td>1</td>\n",
       "      <td>0.0</td>\n",
       "      <td>3.0</td>\n",
       "      <td>15.0</td>\n",
       "      <td>2.0</td>\n",
       "      <td>4.0</td>\n",
       "      <td>5.0</td>\n",
       "      <td>8.0</td>\n",
       "      <td>0.0</td>\n",
       "      <td>...</td>\n",
       "      <td>0</td>\n",
       "      <td>0</td>\n",
       "      <td>1</td>\n",
       "      <td>0</td>\n",
       "      <td>0</td>\n",
       "      <td>0</td>\n",
       "      <td>1</td>\n",
       "      <td>0</td>\n",
       "      <td>1</td>\n",
       "      <td>0</td>\n",
       "    </tr>\n",
       "    <tr>\n",
       "      <th>4</th>\n",
       "      <td>20004</td>\n",
       "      <td>1</td>\n",
       "      <td>0.0</td>\n",
       "      <td>1.0</td>\n",
       "      <td>12.0</td>\n",
       "      <td>2.0</td>\n",
       "      <td>3.0</td>\n",
       "      <td>5.0</td>\n",
       "      <td>3.0</td>\n",
       "      <td>0.0</td>\n",
       "      <td>...</td>\n",
       "      <td>0</td>\n",
       "      <td>1</td>\n",
       "      <td>0</td>\n",
       "      <td>0</td>\n",
       "      <td>0</td>\n",
       "      <td>0</td>\n",
       "      <td>1</td>\n",
       "      <td>0</td>\n",
       "      <td>1</td>\n",
       "      <td>0</td>\n",
       "    </tr>\n",
       "  </tbody>\n",
       "</table>\n",
       "<p>5 rows × 32 columns</p>\n",
       "</div>"
      ],
      "text/plain": [
       "   AccountID  Churn  Tenure  City_Tier  CC_Contacted_LY  Service_Score  \\\n",
       "0      20000      1     4.0        3.0              6.0            3.0   \n",
       "1      20001      1     0.0        1.0              8.0            3.0   \n",
       "2      20002      1     0.0        1.0             30.0            2.0   \n",
       "3      20003      1     0.0        3.0             15.0            2.0   \n",
       "4      20004      1     0.0        1.0             12.0            2.0   \n",
       "\n",
       "   Account_user_count  CC_Agent_Score  rev_per_month  Complain_ly  ...  \\\n",
       "0                 3.0             2.0            9.0          1.0  ...   \n",
       "1                 4.0             3.0            7.0          1.0  ...   \n",
       "2                 4.0             3.0            6.0          1.0  ...   \n",
       "3                 4.0             5.0            8.0          0.0  ...   \n",
       "4                 3.0             5.0            3.0          0.0  ...   \n",
       "\n",
       "   account_segment_Regular  account_segment_Regular Plus  \\\n",
       "0                        0                             0   \n",
       "1                        0                             1   \n",
       "2                        0                             1   \n",
       "3                        0                             0   \n",
       "4                        0                             1   \n",
       "\n",
       "   account_segment_Super  account_segment_Super Plus  Marital_Status_Divorced  \\\n",
       "0                      1                           0                        0   \n",
       "1                      0                           0                        0   \n",
       "2                      0                           0                        0   \n",
       "3                      1                           0                        0   \n",
       "4                      0                           0                        0   \n",
       "\n",
       "   Marital_Status_Married  Marital_Status_Single  Login_device_Computer  \\\n",
       "0                       0                      1                      0   \n",
       "1                       0                      1                      0   \n",
       "2                       0                      1                      0   \n",
       "3                       0                      1                      0   \n",
       "4                       0                      1                      0   \n",
       "\n",
       "   Login_device_Mobile  Login_device_Tab  \n",
       "0                    1                 0  \n",
       "1                    1                 0  \n",
       "2                    1                 0  \n",
       "3                    1                 0  \n",
       "4                    1                 0  \n",
       "\n",
       "[5 rows x 32 columns]"
      ]
     },
     "execution_count": 91,
     "metadata": {},
     "output_type": "execute_result"
    }
   ],
   "source": [
    "df2.head()"
   ]
  },
  {
   "cell_type": "code",
   "execution_count": 92,
   "metadata": {},
   "outputs": [],
   "source": [
    "cols_to_scale=['Tenure','CC_Contacted_LY','City_Tier','Service_Score','Account_user_count','rev_growth_yoy','Day_Since_CC_connect','coupon_used_for_payment','Complain_ly','CC_Agent_Score','rev_per_month']"
   ]
  },
  {
   "cell_type": "code",
   "execution_count": 93,
   "metadata": {},
   "outputs": [],
   "source": [
    "from sklearn.preprocessing import MinMaxScaler\n",
    "scaler = MinMaxScaler()\n",
    "df1[cols_to_scale] = scaler.fit_transform(df1[cols_to_scale])"
   ]
  },
  {
   "cell_type": "code",
   "execution_count": 94,
   "metadata": {},
   "outputs": [
    {
     "data": {
      "text/html": [
       "<div>\n",
       "<style scoped>\n",
       "    .dataframe tbody tr th:only-of-type {\n",
       "        vertical-align: middle;\n",
       "    }\n",
       "\n",
       "    .dataframe tbody tr th {\n",
       "        vertical-align: top;\n",
       "    }\n",
       "\n",
       "    .dataframe thead th {\n",
       "        text-align: right;\n",
       "    }\n",
       "</style>\n",
       "<table border=\"1\" class=\"dataframe\">\n",
       "  <thead>\n",
       "    <tr style=\"text-align: right;\">\n",
       "      <th></th>\n",
       "      <th>AccountID</th>\n",
       "      <th>Tenure</th>\n",
       "      <th>City_Tier</th>\n",
       "      <th>CC_Contacted_LY</th>\n",
       "      <th>Service_Score</th>\n",
       "      <th>Account_user_count</th>\n",
       "      <th>CC_Agent_Score</th>\n",
       "      <th>rev_per_month</th>\n",
       "      <th>Complain_ly</th>\n",
       "      <th>rev_growth_yoy</th>\n",
       "      <th>...</th>\n",
       "      <th>account_segment_Regular</th>\n",
       "      <th>account_segment_Regular Plus</th>\n",
       "      <th>account_segment_Super</th>\n",
       "      <th>account_segment_Super Plus</th>\n",
       "      <th>Marital_Status_Divorced</th>\n",
       "      <th>Marital_Status_Married</th>\n",
       "      <th>Marital_Status_Single</th>\n",
       "      <th>Login_device_Computer</th>\n",
       "      <th>Login_device_Mobile</th>\n",
       "      <th>Login_device_Tab</th>\n",
       "    </tr>\n",
       "  </thead>\n",
       "  <tbody>\n",
       "    <tr>\n",
       "      <th>0</th>\n",
       "      <td>20000</td>\n",
       "      <td>0.040404</td>\n",
       "      <td>1.0</td>\n",
       "      <td>0.015625</td>\n",
       "      <td>0.6</td>\n",
       "      <td>0.4</td>\n",
       "      <td>0.25</td>\n",
       "      <td>0.057554</td>\n",
       "      <td>1.0</td>\n",
       "      <td>0.291667</td>\n",
       "      <td>...</td>\n",
       "      <td>0</td>\n",
       "      <td>0</td>\n",
       "      <td>1</td>\n",
       "      <td>0</td>\n",
       "      <td>0</td>\n",
       "      <td>0</td>\n",
       "      <td>1</td>\n",
       "      <td>0</td>\n",
       "      <td>1</td>\n",
       "      <td>0</td>\n",
       "    </tr>\n",
       "    <tr>\n",
       "      <th>1</th>\n",
       "      <td>20001</td>\n",
       "      <td>0.000000</td>\n",
       "      <td>0.0</td>\n",
       "      <td>0.031250</td>\n",
       "      <td>0.6</td>\n",
       "      <td>0.6</td>\n",
       "      <td>0.50</td>\n",
       "      <td>0.043165</td>\n",
       "      <td>1.0</td>\n",
       "      <td>0.458333</td>\n",
       "      <td>...</td>\n",
       "      <td>0</td>\n",
       "      <td>1</td>\n",
       "      <td>0</td>\n",
       "      <td>0</td>\n",
       "      <td>0</td>\n",
       "      <td>0</td>\n",
       "      <td>1</td>\n",
       "      <td>0</td>\n",
       "      <td>1</td>\n",
       "      <td>0</td>\n",
       "    </tr>\n",
       "    <tr>\n",
       "      <th>2</th>\n",
       "      <td>20002</td>\n",
       "      <td>0.000000</td>\n",
       "      <td>0.0</td>\n",
       "      <td>0.203125</td>\n",
       "      <td>0.4</td>\n",
       "      <td>0.6</td>\n",
       "      <td>0.50</td>\n",
       "      <td>0.035971</td>\n",
       "      <td>1.0</td>\n",
       "      <td>0.416667</td>\n",
       "      <td>...</td>\n",
       "      <td>0</td>\n",
       "      <td>1</td>\n",
       "      <td>0</td>\n",
       "      <td>0</td>\n",
       "      <td>0</td>\n",
       "      <td>0</td>\n",
       "      <td>1</td>\n",
       "      <td>0</td>\n",
       "      <td>1</td>\n",
       "      <td>0</td>\n",
       "    </tr>\n",
       "    <tr>\n",
       "      <th>3</th>\n",
       "      <td>20003</td>\n",
       "      <td>0.000000</td>\n",
       "      <td>1.0</td>\n",
       "      <td>0.085938</td>\n",
       "      <td>0.4</td>\n",
       "      <td>0.6</td>\n",
       "      <td>1.00</td>\n",
       "      <td>0.050360</td>\n",
       "      <td>0.0</td>\n",
       "      <td>0.791667</td>\n",
       "      <td>...</td>\n",
       "      <td>0</td>\n",
       "      <td>0</td>\n",
       "      <td>1</td>\n",
       "      <td>0</td>\n",
       "      <td>0</td>\n",
       "      <td>0</td>\n",
       "      <td>1</td>\n",
       "      <td>0</td>\n",
       "      <td>1</td>\n",
       "      <td>0</td>\n",
       "    </tr>\n",
       "    <tr>\n",
       "      <th>4</th>\n",
       "      <td>20004</td>\n",
       "      <td>0.000000</td>\n",
       "      <td>0.0</td>\n",
       "      <td>0.062500</td>\n",
       "      <td>0.4</td>\n",
       "      <td>0.4</td>\n",
       "      <td>1.00</td>\n",
       "      <td>0.014388</td>\n",
       "      <td>0.0</td>\n",
       "      <td>0.291667</td>\n",
       "      <td>...</td>\n",
       "      <td>0</td>\n",
       "      <td>1</td>\n",
       "      <td>0</td>\n",
       "      <td>0</td>\n",
       "      <td>0</td>\n",
       "      <td>0</td>\n",
       "      <td>1</td>\n",
       "      <td>0</td>\n",
       "      <td>1</td>\n",
       "      <td>0</td>\n",
       "    </tr>\n",
       "  </tbody>\n",
       "</table>\n",
       "<p>5 rows × 31 columns</p>\n",
       "</div>"
      ],
      "text/plain": [
       "   AccountID    Tenure  City_Tier  CC_Contacted_LY  Service_Score  \\\n",
       "0      20000  0.040404        1.0         0.015625            0.6   \n",
       "1      20001  0.000000        0.0         0.031250            0.6   \n",
       "2      20002  0.000000        0.0         0.203125            0.4   \n",
       "3      20003  0.000000        1.0         0.085938            0.4   \n",
       "4      20004  0.000000        0.0         0.062500            0.4   \n",
       "\n",
       "   Account_user_count  CC_Agent_Score  rev_per_month  Complain_ly  \\\n",
       "0                 0.4            0.25       0.057554          1.0   \n",
       "1                 0.6            0.50       0.043165          1.0   \n",
       "2                 0.6            0.50       0.035971          1.0   \n",
       "3                 0.6            1.00       0.050360          0.0   \n",
       "4                 0.4            1.00       0.014388          0.0   \n",
       "\n",
       "   rev_growth_yoy  ...  account_segment_Regular  account_segment_Regular Plus  \\\n",
       "0        0.291667  ...                        0                             0   \n",
       "1        0.458333  ...                        0                             1   \n",
       "2        0.416667  ...                        0                             1   \n",
       "3        0.791667  ...                        0                             0   \n",
       "4        0.291667  ...                        0                             1   \n",
       "\n",
       "   account_segment_Super  account_segment_Super Plus  Marital_Status_Divorced  \\\n",
       "0                      1                           0                        0   \n",
       "1                      0                           0                        0   \n",
       "2                      0                           0                        0   \n",
       "3                      1                           0                        0   \n",
       "4                      0                           0                        0   \n",
       "\n",
       "   Marital_Status_Married  Marital_Status_Single  Login_device_Computer  \\\n",
       "0                       0                      1                      0   \n",
       "1                       0                      1                      0   \n",
       "2                       0                      1                      0   \n",
       "3                       0                      1                      0   \n",
       "4                       0                      1                      0   \n",
       "\n",
       "   Login_device_Mobile  Login_device_Tab  \n",
       "0                    1                 0  \n",
       "1                    1                 0  \n",
       "2                    1                 0  \n",
       "3                    1                 0  \n",
       "4                    1                 0  \n",
       "\n",
       "[5 rows x 31 columns]"
      ]
     },
     "execution_count": 94,
     "metadata": {},
     "output_type": "execute_result"
    }
   ],
   "source": [
    "df1.head()"
   ]
  },
  {
   "cell_type": "code",
   "execution_count": 95,
   "metadata": {},
   "outputs": [
    {
     "name": "stdout",
     "output_type": "stream",
     "text": [
      "AccountID: [20000 20001 20002 ... 31257 31258 31259]\n",
      "Tenure: [0.04040404 0.         0.02020202 0.13131313 0.11111111 0.09090909\n",
      " 1.         0.19191919 0.2020202  0.14141414 0.08080808 0.26262626\n",
      " 0.18181818 0.05050505 0.3030303  0.07070707 0.01010101 0.23232323\n",
      " 0.03030303 0.29292929 0.06060606 0.28282828 0.24242424 0.25252525\n",
      " 0.16161616 0.1010101  0.15151515 0.22222222 0.27272727 0.12121212\n",
      " 0.21212121 0.17171717 0.50505051 0.60606061 0.31313131 0.51515152\n",
      " 0.61616162]\n",
      "City_Tier: [1.  0.  0.5]\n",
      "CC_Contacted_LY: [0.015625  0.03125   0.203125  0.0859375 0.0625    0.140625  0.0546875\n",
      " 0.0390625 0.2109375 0.109375  0.0703125 0.125     0.1953125 0.1875\n",
      " 0.171875  0.078125  0.046875  0.1640625 0.1796875 0.1015625 0.1484375\n",
      " 0.2265625 0.1171875 0.2421875 0.15625   0.09375   0.21875   0.1328125\n",
      " 0.234375  0.0078125 0.        0.953125  0.0234375 0.25      0.9609375\n",
      " 0.296875  0.265625  0.2578125 0.2734375 0.28125   0.2890625 1.\n",
      " 0.3046875 0.9765625]\n",
      "Service_Score: [0.6 0.4 0.2 0.  0.8 1. ]\n",
      "Account_user_count: [0.4 0.6 0.8 0.2 0.  1. ]\n",
      "CC_Agent_Score: [0.25 0.5  1.   0.75 0.  ]\n",
      "rev_per_month: [0.05755396 0.04316547 0.03597122 0.05035971 0.01438849 0.00719424\n",
      " 0.02158273 0.0647482  0.         0.02877698 0.92805755 0.1294964\n",
      " 0.99280576 0.72661871 0.85611511 0.98561151 0.90647482 0.87769784\n",
      " 0.88489209 0.82733813 0.14388489 0.89928058 0.95683453 0.8057554\n",
      " 0.81294964 0.76978417 1.         0.94964029 0.92086331 0.76258993\n",
      " 0.84172662 0.07194245 0.74820144 0.13669065 0.84892086 0.86330935\n",
      " 0.97841727 0.78417266 0.15107914 0.71942446 0.97122302 0.89208633\n",
      " 0.09352518 0.08633094 0.07913669 0.82014388 0.15827338 0.8705036\n",
      " 0.83453237 0.9352518  0.74100719 0.10071942 0.17266187 0.96402878\n",
      " 0.79136691 0.77697842 0.71223022 0.73381295]\n",
      "Complain_ly: [1. 0.]\n",
      "rev_growth_yoy: [0.29166667 0.45833333 0.41666667 0.79166667 0.75       0.5\n",
      " 0.33333333 0.375      0.54166667 0.58333333 0.83333333 0.625\n",
      " 0.66666667 0.70833333 0.875      0.91666667 0.         0.95833333\n",
      " 1.        ]\n",
      "coupon_used_for_payment: [0.0625 0.     0.25   0.125  0.5625 0.375  0.6875 0.4375 0.75   0.625\n",
      " 0.3125 0.1875 0.8125 0.9375 0.5    0.875  1.    ]\n",
      "Day_Since_CC_connect: [0.10638298 0.         0.06382979 0.14893617 0.04255319 0.0212766\n",
      " 0.17021277 0.12765957 0.08510638 0.31914894 0.23404255 0.21276596\n",
      " 0.19148936 0.27659574 0.25531915 0.36170213 0.34042553 0.29787234\n",
      " 0.63829787 0.9787234  0.38297872 0.65957447 1.        ]\n",
      "cashback: [ 160.  121.  196.  134.  130.  139.  123.  127.  295.  154.  129.  157.\n",
      "  161.  150.  162.  203.  117.  206.  142.  173.  190.  143. 1974.  133.\n",
      "  209.  122.  120.  194.  126.  299.  125.  187.  131.  111.  205.  144.\n",
      "  128.  290.  287.  195.  237.  300.  159.  268.  136.  153.  166.  163.\n",
      "  168.  138.  167.  176.  149.  204.  185.  200.  225.  236.  189.  222.\n",
      "    0.  179.  188.  124.  132.  292.  261.  291.  137.  145. 1955.  164.\n",
      "  165.  169.  294.  135.  152.  269.  156.  140.  235.  218.  220.  276.\n",
      "  146.  147.  158.  114.  180.  155.  260.  112.  221.  148.  219.  271.\n",
      " 1813.  175.  151.  293.  283.  215.  171.  183. 1862.  197.  267.  243.\n",
      " 1982.  184.  266.  296.  280.  241.  270.  279.  191.  198.  141.  232.\n",
      "  174.  262.  216.  119.  282.  254.  177.  110.  113.  186.  212.  248.\n",
      "  217.  238.  211.  284.  116.  272.  202.  263.  208.  207.  249.  178.\n",
      "  274.  240. 1840.  210.  227.  298.  233.  234.  277.  275.  231.  182.\n",
      "  286. 1920.  278.  297.  288. 1908.  281. 1865. 1945.  199.  273.  247.\n",
      "  193.  264.  192.  201. 1843. 1803. 1844.  252.  170.  229.  230.  258.\n",
      "  115. 1894.  289. 1917.  239. 1992. 1807.  181. 1912. 1985.   56.  228.\n",
      " 1896. 1983.  214. 1943. 1918. 1967.  244. 1944. 1921.  118.  320.  324.\n",
      "  315.  312.  325.  250.   25.  213.  317.  316. 1931.  319.  245.  301.\n",
      "  172. 1907.  285.  246.  265.  318.  308. 1890.  257.  321.  305.  304.\n",
      "  223.  224.  307. 1804. 1923. 1916.  242.  309.  253. 1826.  323.  302.\n",
      "  259.  256.  311.  303.  322.  313.  306. 1971.  226. 1839. 1965. 1928.\n",
      "  255.   37.  314. 1997. 1878. 1833. 1835. 1877. 1913. 1984.   81. 1879.\n",
      " 1934. 1991. 1827. 1954. 1869. 1964. 1953. 1978. 1958. 1914. 1850. 1902.\n",
      " 1888.    2. 1824. 1951. 1946.    5. 1937.    4. 1829.    3. 1972.   13.\n",
      " 1853. 1895. 1812. 1858.   57. 1961. 1838. 1800. 1963. 1911. 1903.  326.\n",
      "  331.  330.  251.   30.  327. 1919.  310. 1817. 1880.  328.  329. 1979.\n",
      " 1941.   28.   41. 1957. 1925. 1866. 1929. 1882.]\n",
      "Payment_Cash on Delivery: [0 1]\n",
      "Payment_Credit Card: [0 1]\n",
      "Payment_Debit Card: [1 0]\n",
      "Payment_E wallet: [0 1]\n",
      "Payment_UPI: [0 1]\n",
      "Gender_Female: [1 0]\n",
      "Gender_Male: [0 1]\n",
      "account_segment_HNI: [0 1]\n",
      "account_segment_Regular: [0 1]\n",
      "account_segment_Regular Plus: [0 1]\n",
      "account_segment_Super: [1 0]\n",
      "account_segment_Super Plus: [0 1]\n",
      "Marital_Status_Divorced: [0 1]\n",
      "Marital_Status_Married: [0 1]\n",
      "Marital_Status_Single: [1 0]\n",
      "Login_device_Computer: [0 1]\n",
      "Login_device_Mobile: [1 0]\n",
      "Login_device_Tab: [0 1]\n"
     ]
    }
   ],
   "source": [
    "for col in df1:\n",
    "    print(f'{col}: {df1[col].unique()}')"
   ]
  },
  {
   "cell_type": "code",
   "execution_count": null,
   "metadata": {},
   "outputs": [],
   "source": []
  },
  {
   "cell_type": "code",
   "execution_count": null,
   "metadata": {},
   "outputs": [],
   "source": []
  },
  {
   "cell_type": "code",
   "execution_count": null,
   "metadata": {},
   "outputs": [],
   "source": []
  },
  {
   "cell_type": "code",
   "execution_count": 96,
   "metadata": {},
   "outputs": [],
   "source": [
    "X= pd.get_dummies(df1.drop(['AccountID'],axis=1),drop_first=True)\n",
    "y= df2['Churn']"
   ]
  },
  {
   "cell_type": "code",
   "execution_count": 97,
   "metadata": {},
   "outputs": [
    {
     "data": {
      "text/plain": [
       "1    9364\n",
       "0    9364\n",
       "Name: Churn, dtype: int64"
      ]
     },
     "execution_count": 97,
     "metadata": {},
     "output_type": "execute_result"
    }
   ],
   "source": [
    "from imblearn.over_sampling import SMOTE\n",
    "\n",
    "smote = SMOTE(sampling_strategy='minority')\n",
    "X_sm, y_sm = smote.fit_resample(X, y)\n",
    "\n",
    "y_sm.value_counts()"
   ]
  },
  {
   "cell_type": "code",
   "execution_count": 98,
   "metadata": {},
   "outputs": [
    {
     "data": {
      "text/plain": [
       "array([1, 0], dtype=int64)"
      ]
     },
     "execution_count": 98,
     "metadata": {},
     "output_type": "execute_result"
    }
   ],
   "source": [
    "y_sm.unique()"
   ]
  },
  {
   "cell_type": "code",
   "execution_count": 99,
   "metadata": {
    "scrolled": true
   },
   "outputs": [
    {
     "data": {
      "text/html": [
       "<div>\n",
       "<style scoped>\n",
       "    .dataframe tbody tr th:only-of-type {\n",
       "        vertical-align: middle;\n",
       "    }\n",
       "\n",
       "    .dataframe tbody tr th {\n",
       "        vertical-align: top;\n",
       "    }\n",
       "\n",
       "    .dataframe thead th {\n",
       "        text-align: right;\n",
       "    }\n",
       "</style>\n",
       "<table border=\"1\" class=\"dataframe\">\n",
       "  <thead>\n",
       "    <tr style=\"text-align: right;\">\n",
       "      <th></th>\n",
       "      <th>Tenure</th>\n",
       "      <th>City_Tier</th>\n",
       "      <th>CC_Contacted_LY</th>\n",
       "      <th>Service_Score</th>\n",
       "      <th>Account_user_count</th>\n",
       "      <th>CC_Agent_Score</th>\n",
       "      <th>rev_per_month</th>\n",
       "      <th>Complain_ly</th>\n",
       "      <th>rev_growth_yoy</th>\n",
       "      <th>coupon_used_for_payment</th>\n",
       "      <th>...</th>\n",
       "      <th>account_segment_Regular</th>\n",
       "      <th>account_segment_Regular Plus</th>\n",
       "      <th>account_segment_Super</th>\n",
       "      <th>account_segment_Super Plus</th>\n",
       "      <th>Marital_Status_Divorced</th>\n",
       "      <th>Marital_Status_Married</th>\n",
       "      <th>Marital_Status_Single</th>\n",
       "      <th>Login_device_Computer</th>\n",
       "      <th>Login_device_Mobile</th>\n",
       "      <th>Login_device_Tab</th>\n",
       "    </tr>\n",
       "  </thead>\n",
       "  <tbody>\n",
       "    <tr>\n",
       "      <th>0</th>\n",
       "      <td>0.040404</td>\n",
       "      <td>1.0</td>\n",
       "      <td>0.015625</td>\n",
       "      <td>0.6</td>\n",
       "      <td>0.4</td>\n",
       "      <td>0.25</td>\n",
       "      <td>0.057554</td>\n",
       "      <td>1.0</td>\n",
       "      <td>0.291667</td>\n",
       "      <td>0.0625</td>\n",
       "      <td>...</td>\n",
       "      <td>0</td>\n",
       "      <td>0</td>\n",
       "      <td>1</td>\n",
       "      <td>0</td>\n",
       "      <td>0</td>\n",
       "      <td>0</td>\n",
       "      <td>1</td>\n",
       "      <td>0</td>\n",
       "      <td>1</td>\n",
       "      <td>0</td>\n",
       "    </tr>\n",
       "    <tr>\n",
       "      <th>1</th>\n",
       "      <td>0.000000</td>\n",
       "      <td>0.0</td>\n",
       "      <td>0.031250</td>\n",
       "      <td>0.6</td>\n",
       "      <td>0.6</td>\n",
       "      <td>0.50</td>\n",
       "      <td>0.043165</td>\n",
       "      <td>1.0</td>\n",
       "      <td>0.458333</td>\n",
       "      <td>0.0000</td>\n",
       "      <td>...</td>\n",
       "      <td>0</td>\n",
       "      <td>1</td>\n",
       "      <td>0</td>\n",
       "      <td>0</td>\n",
       "      <td>0</td>\n",
       "      <td>0</td>\n",
       "      <td>1</td>\n",
       "      <td>0</td>\n",
       "      <td>1</td>\n",
       "      <td>0</td>\n",
       "    </tr>\n",
       "    <tr>\n",
       "      <th>2</th>\n",
       "      <td>0.000000</td>\n",
       "      <td>0.0</td>\n",
       "      <td>0.203125</td>\n",
       "      <td>0.4</td>\n",
       "      <td>0.6</td>\n",
       "      <td>0.50</td>\n",
       "      <td>0.035971</td>\n",
       "      <td>1.0</td>\n",
       "      <td>0.416667</td>\n",
       "      <td>0.0000</td>\n",
       "      <td>...</td>\n",
       "      <td>0</td>\n",
       "      <td>1</td>\n",
       "      <td>0</td>\n",
       "      <td>0</td>\n",
       "      <td>0</td>\n",
       "      <td>0</td>\n",
       "      <td>1</td>\n",
       "      <td>0</td>\n",
       "      <td>1</td>\n",
       "      <td>0</td>\n",
       "    </tr>\n",
       "    <tr>\n",
       "      <th>3</th>\n",
       "      <td>0.000000</td>\n",
       "      <td>1.0</td>\n",
       "      <td>0.085938</td>\n",
       "      <td>0.4</td>\n",
       "      <td>0.6</td>\n",
       "      <td>1.00</td>\n",
       "      <td>0.050360</td>\n",
       "      <td>0.0</td>\n",
       "      <td>0.791667</td>\n",
       "      <td>0.0000</td>\n",
       "      <td>...</td>\n",
       "      <td>0</td>\n",
       "      <td>0</td>\n",
       "      <td>1</td>\n",
       "      <td>0</td>\n",
       "      <td>0</td>\n",
       "      <td>0</td>\n",
       "      <td>1</td>\n",
       "      <td>0</td>\n",
       "      <td>1</td>\n",
       "      <td>0</td>\n",
       "    </tr>\n",
       "    <tr>\n",
       "      <th>4</th>\n",
       "      <td>0.000000</td>\n",
       "      <td>0.0</td>\n",
       "      <td>0.062500</td>\n",
       "      <td>0.4</td>\n",
       "      <td>0.4</td>\n",
       "      <td>1.00</td>\n",
       "      <td>0.014388</td>\n",
       "      <td>0.0</td>\n",
       "      <td>0.291667</td>\n",
       "      <td>0.0625</td>\n",
       "      <td>...</td>\n",
       "      <td>0</td>\n",
       "      <td>1</td>\n",
       "      <td>0</td>\n",
       "      <td>0</td>\n",
       "      <td>0</td>\n",
       "      <td>0</td>\n",
       "      <td>1</td>\n",
       "      <td>0</td>\n",
       "      <td>1</td>\n",
       "      <td>0</td>\n",
       "    </tr>\n",
       "  </tbody>\n",
       "</table>\n",
       "<p>5 rows × 30 columns</p>\n",
       "</div>"
      ],
      "text/plain": [
       "     Tenure  City_Tier  CC_Contacted_LY  Service_Score  Account_user_count  \\\n",
       "0  0.040404        1.0         0.015625            0.6                 0.4   \n",
       "1  0.000000        0.0         0.031250            0.6                 0.6   \n",
       "2  0.000000        0.0         0.203125            0.4                 0.6   \n",
       "3  0.000000        1.0         0.085938            0.4                 0.6   \n",
       "4  0.000000        0.0         0.062500            0.4                 0.4   \n",
       "\n",
       "   CC_Agent_Score  rev_per_month  Complain_ly  rev_growth_yoy  \\\n",
       "0            0.25       0.057554          1.0        0.291667   \n",
       "1            0.50       0.043165          1.0        0.458333   \n",
       "2            0.50       0.035971          1.0        0.416667   \n",
       "3            1.00       0.050360          0.0        0.791667   \n",
       "4            1.00       0.014388          0.0        0.291667   \n",
       "\n",
       "   coupon_used_for_payment  ...  account_segment_Regular  \\\n",
       "0                   0.0625  ...                        0   \n",
       "1                   0.0000  ...                        0   \n",
       "2                   0.0000  ...                        0   \n",
       "3                   0.0000  ...                        0   \n",
       "4                   0.0625  ...                        0   \n",
       "\n",
       "   account_segment_Regular Plus  account_segment_Super  \\\n",
       "0                             0                      1   \n",
       "1                             1                      0   \n",
       "2                             1                      0   \n",
       "3                             0                      1   \n",
       "4                             1                      0   \n",
       "\n",
       "   account_segment_Super Plus  Marital_Status_Divorced  \\\n",
       "0                           0                        0   \n",
       "1                           0                        0   \n",
       "2                           0                        0   \n",
       "3                           0                        0   \n",
       "4                           0                        0   \n",
       "\n",
       "   Marital_Status_Married  Marital_Status_Single  Login_device_Computer  \\\n",
       "0                       0                      1                      0   \n",
       "1                       0                      1                      0   \n",
       "2                       0                      1                      0   \n",
       "3                       0                      1                      0   \n",
       "4                       0                      1                      0   \n",
       "\n",
       "   Login_device_Mobile  Login_device_Tab  \n",
       "0                    1                 0  \n",
       "1                    1                 0  \n",
       "2                    1                 0  \n",
       "3                    1                 0  \n",
       "4                    1                 0  \n",
       "\n",
       "[5 rows x 30 columns]"
      ]
     },
     "execution_count": 99,
     "metadata": {},
     "output_type": "execute_result"
    }
   ],
   "source": [
    "X_sm[:5]"
   ]
  },
  {
   "cell_type": "code",
   "execution_count": 100,
   "metadata": {},
   "outputs": [],
   "source": [
    "from sklearn.model_selection import train_test_split\n",
    "X_train, X_test, y_train, y_test = train_test_split(X_sm,y_sm,test_size=0.2,random_state=5)"
   ]
  },
  {
   "cell_type": "code",
   "execution_count": 101,
   "metadata": {},
   "outputs": [
    {
     "data": {
      "text/plain": [
       "30"
      ]
     },
     "execution_count": 101,
     "metadata": {},
     "output_type": "execute_result"
    }
   ],
   "source": [
    "len(X_train.columns)"
   ]
  },
  {
   "cell_type": "code",
   "execution_count": 102,
   "metadata": {},
   "outputs": [],
   "source": [
    "df2 = X_train.copy()\n",
    "df2['Exited'] = y_train"
   ]
  },
  {
   "cell_type": "code",
   "execution_count": 103,
   "metadata": {},
   "outputs": [
    {
     "data": {
      "text/html": [
       "<div>\n",
       "<style scoped>\n",
       "    .dataframe tbody tr th:only-of-type {\n",
       "        vertical-align: middle;\n",
       "    }\n",
       "\n",
       "    .dataframe tbody tr th {\n",
       "        vertical-align: top;\n",
       "    }\n",
       "\n",
       "    .dataframe thead th {\n",
       "        text-align: right;\n",
       "    }\n",
       "</style>\n",
       "<table border=\"1\" class=\"dataframe\">\n",
       "  <thead>\n",
       "    <tr style=\"text-align: right;\">\n",
       "      <th></th>\n",
       "      <th>Tenure</th>\n",
       "      <th>City_Tier</th>\n",
       "      <th>CC_Contacted_LY</th>\n",
       "      <th>Service_Score</th>\n",
       "      <th>Account_user_count</th>\n",
       "      <th>CC_Agent_Score</th>\n",
       "      <th>rev_per_month</th>\n",
       "      <th>Complain_ly</th>\n",
       "      <th>rev_growth_yoy</th>\n",
       "      <th>coupon_used_for_payment</th>\n",
       "      <th>...</th>\n",
       "      <th>account_segment_Regular Plus</th>\n",
       "      <th>account_segment_Super</th>\n",
       "      <th>account_segment_Super Plus</th>\n",
       "      <th>Marital_Status_Divorced</th>\n",
       "      <th>Marital_Status_Married</th>\n",
       "      <th>Marital_Status_Single</th>\n",
       "      <th>Login_device_Computer</th>\n",
       "      <th>Login_device_Mobile</th>\n",
       "      <th>Login_device_Tab</th>\n",
       "      <th>Exited</th>\n",
       "    </tr>\n",
       "  </thead>\n",
       "  <tbody>\n",
       "    <tr>\n",
       "      <th>18660</th>\n",
       "      <td>0.000000</td>\n",
       "      <td>1.0</td>\n",
       "      <td>0.093750</td>\n",
       "      <td>0.4</td>\n",
       "      <td>0.6</td>\n",
       "      <td>1.00</td>\n",
       "      <td>0.040011</td>\n",
       "      <td>0.0</td>\n",
       "      <td>0.541667</td>\n",
       "      <td>0.214908</td>\n",
       "      <td>...</td>\n",
       "      <td>0</td>\n",
       "      <td>0</td>\n",
       "      <td>0</td>\n",
       "      <td>0</td>\n",
       "      <td>1</td>\n",
       "      <td>0</td>\n",
       "      <td>0</td>\n",
       "      <td>1</td>\n",
       "      <td>0</td>\n",
       "      <td>1</td>\n",
       "    </tr>\n",
       "    <tr>\n",
       "      <th>7658</th>\n",
       "      <td>0.000000</td>\n",
       "      <td>1.0</td>\n",
       "      <td>0.195312</td>\n",
       "      <td>0.4</td>\n",
       "      <td>0.6</td>\n",
       "      <td>0.75</td>\n",
       "      <td>0.007194</td>\n",
       "      <td>1.0</td>\n",
       "      <td>0.625000</td>\n",
       "      <td>0.000000</td>\n",
       "      <td>...</td>\n",
       "      <td>1</td>\n",
       "      <td>0</td>\n",
       "      <td>0</td>\n",
       "      <td>0</td>\n",
       "      <td>1</td>\n",
       "      <td>0</td>\n",
       "      <td>0</td>\n",
       "      <td>1</td>\n",
       "      <td>0</td>\n",
       "      <td>1</td>\n",
       "    </tr>\n",
       "    <tr>\n",
       "      <th>5640</th>\n",
       "      <td>0.040404</td>\n",
       "      <td>0.0</td>\n",
       "      <td>0.132812</td>\n",
       "      <td>0.4</td>\n",
       "      <td>0.4</td>\n",
       "      <td>0.50</td>\n",
       "      <td>0.035971</td>\n",
       "      <td>0.0</td>\n",
       "      <td>0.375000</td>\n",
       "      <td>0.562500</td>\n",
       "      <td>...</td>\n",
       "      <td>0</td>\n",
       "      <td>0</td>\n",
       "      <td>0</td>\n",
       "      <td>1</td>\n",
       "      <td>0</td>\n",
       "      <td>0</td>\n",
       "      <td>0</td>\n",
       "      <td>1</td>\n",
       "      <td>0</td>\n",
       "      <td>1</td>\n",
       "    </tr>\n",
       "    <tr>\n",
       "      <th>6365</th>\n",
       "      <td>0.000000</td>\n",
       "      <td>0.0</td>\n",
       "      <td>0.054688</td>\n",
       "      <td>0.4</td>\n",
       "      <td>0.6</td>\n",
       "      <td>0.25</td>\n",
       "      <td>0.007194</td>\n",
       "      <td>1.0</td>\n",
       "      <td>0.375000</td>\n",
       "      <td>0.000000</td>\n",
       "      <td>...</td>\n",
       "      <td>1</td>\n",
       "      <td>0</td>\n",
       "      <td>0</td>\n",
       "      <td>1</td>\n",
       "      <td>0</td>\n",
       "      <td>0</td>\n",
       "      <td>1</td>\n",
       "      <td>0</td>\n",
       "      <td>0</td>\n",
       "      <td>1</td>\n",
       "    </tr>\n",
       "    <tr>\n",
       "      <th>1898</th>\n",
       "      <td>0.131313</td>\n",
       "      <td>0.0</td>\n",
       "      <td>0.031250</td>\n",
       "      <td>0.4</td>\n",
       "      <td>0.6</td>\n",
       "      <td>0.00</td>\n",
       "      <td>0.000000</td>\n",
       "      <td>1.0</td>\n",
       "      <td>0.666667</td>\n",
       "      <td>0.000000</td>\n",
       "      <td>...</td>\n",
       "      <td>1</td>\n",
       "      <td>0</td>\n",
       "      <td>0</td>\n",
       "      <td>0</td>\n",
       "      <td>0</td>\n",
       "      <td>1</td>\n",
       "      <td>0</td>\n",
       "      <td>1</td>\n",
       "      <td>0</td>\n",
       "      <td>0</td>\n",
       "    </tr>\n",
       "  </tbody>\n",
       "</table>\n",
       "<p>5 rows × 31 columns</p>\n",
       "</div>"
      ],
      "text/plain": [
       "         Tenure  City_Tier  CC_Contacted_LY  Service_Score  \\\n",
       "18660  0.000000        1.0         0.093750            0.4   \n",
       "7658   0.000000        1.0         0.195312            0.4   \n",
       "5640   0.040404        0.0         0.132812            0.4   \n",
       "6365   0.000000        0.0         0.054688            0.4   \n",
       "1898   0.131313        0.0         0.031250            0.4   \n",
       "\n",
       "       Account_user_count  CC_Agent_Score  rev_per_month  Complain_ly  \\\n",
       "18660                 0.6            1.00       0.040011          0.0   \n",
       "7658                  0.6            0.75       0.007194          1.0   \n",
       "5640                  0.4            0.50       0.035971          0.0   \n",
       "6365                  0.6            0.25       0.007194          1.0   \n",
       "1898                  0.6            0.00       0.000000          1.0   \n",
       "\n",
       "       rev_growth_yoy  coupon_used_for_payment  ...  \\\n",
       "18660        0.541667                 0.214908  ...   \n",
       "7658         0.625000                 0.000000  ...   \n",
       "5640         0.375000                 0.562500  ...   \n",
       "6365         0.375000                 0.000000  ...   \n",
       "1898         0.666667                 0.000000  ...   \n",
       "\n",
       "       account_segment_Regular Plus  account_segment_Super  \\\n",
       "18660                             0                      0   \n",
       "7658                              1                      0   \n",
       "5640                              0                      0   \n",
       "6365                              1                      0   \n",
       "1898                              1                      0   \n",
       "\n",
       "       account_segment_Super Plus  Marital_Status_Divorced  \\\n",
       "18660                           0                        0   \n",
       "7658                            0                        0   \n",
       "5640                            0                        1   \n",
       "6365                            0                        1   \n",
       "1898                            0                        0   \n",
       "\n",
       "       Marital_Status_Married  Marital_Status_Single  Login_device_Computer  \\\n",
       "18660                       1                      0                      0   \n",
       "7658                        1                      0                      0   \n",
       "5640                        0                      0                      0   \n",
       "6365                        0                      0                      1   \n",
       "1898                        0                      1                      0   \n",
       "\n",
       "       Login_device_Mobile  Login_device_Tab  Exited  \n",
       "18660                    1                 0       1  \n",
       "7658                     1                 0       1  \n",
       "5640                     1                 0       1  \n",
       "6365                     0                 0       1  \n",
       "1898                     1                 0       0  \n",
       "\n",
       "[5 rows x 31 columns]"
      ]
     },
     "execution_count": 103,
     "metadata": {},
     "output_type": "execute_result"
    }
   ],
   "source": [
    "df2.head()"
   ]
  },
  {
   "cell_type": "code",
   "execution_count": 104,
   "metadata": {},
   "outputs": [],
   "source": [
    "df2_class0 = df2[df2.Exited == 0]\n",
    "df2_class1 = df2[df2.Exited == 1]"
   ]
  },
  {
   "cell_type": "code",
   "execution_count": 105,
   "metadata": {},
   "outputs": [],
   "source": [
    "# Class count\n",
    "count_class_0, count_class_1 = df2.Exited.value_counts()\n",
    "\n",
    "# Divide by class\n",
    "df2_class_0 = df2[df2['Exited'] == 0]\n",
    "df2_class_1 = df2[df2['Exited'] == 1]"
   ]
  },
  {
   "cell_type": "code",
   "execution_count": 106,
   "metadata": {},
   "outputs": [
    {
     "data": {
      "text/plain": [
       "(14982, 30)"
      ]
     },
     "execution_count": 106,
     "metadata": {},
     "output_type": "execute_result"
    }
   ],
   "source": [
    "X_train.shape"
   ]
  },
  {
   "cell_type": "code",
   "execution_count": 107,
   "metadata": {},
   "outputs": [],
   "source": [
    "def get_train_batch(df_majority, df_minority, start, end):\n",
    "    df_train = pd.concat([df_majority[start:end], df_minority], axis=0)\n",
    "\n",
    "    X_train = df_train.drop('Exited', axis='columns')\n",
    "    y_train = df_train.Exited\n",
    "    return X_train, y_train"
   ]
  },
  {
   "cell_type": "code",
   "execution_count": 108,
   "metadata": {},
   "outputs": [],
   "source": [
    "def ANN(X_train, y_train, X_test, y_test, loss):\n",
    "    model = keras.Sequential([\n",
    "        keras.layers.Dense(30, input_dim=30, activation='relu'),\n",
    "        keras.layers.Dense(10, activation='relu'),\n",
    "        keras.layers.Dense(1, activation='sigmoid')\n",
    "    ])\n",
    "\n",
    "    model.compile(optimizer='adam', loss=loss, metrics=['accuracy'])\n",
    "\n",
    "    \n",
    "    model.fit(X_train, y_train, epochs=100)\n",
    "\n",
    "    print(model.evaluate(X_test, y_test))\n",
    "\n",
    "    y_preds = model.predict(X_test)\n",
    "    y_preds = np.round(y_preds)\n",
    "\n",
    "    print(\"Classification Report: \\n\", classification_report(y_test, y_preds))\n",
    "\n",
    "    return y_preds"
   ]
  },
  {
   "cell_type": "code",
   "execution_count": 112,
   "metadata": {},
   "outputs": [
    {
     "name": "stdout",
     "output_type": "stream",
     "text": [
      "Epoch 1/100\n",
      "280/280 [==============================] - 0s 407us/step - loss: 0.4795 - accuracy: 0.8280\n",
      "Epoch 2/100\n",
      "280/280 [==============================] - 0s 414us/step - loss: 0.4105 - accuracy: 0.8373\n",
      "Epoch 3/100\n",
      "280/280 [==============================] - 0s 436us/step - loss: 0.3707 - accuracy: 0.8465\n",
      "Epoch 4/100\n",
      "280/280 [==============================] - 0s 414us/step - loss: 0.3550 - accuracy: 0.8491\n",
      "Epoch 5/100\n",
      "280/280 [==============================] - 0s 427us/step - loss: 0.3339 - accuracy: 0.8565\n",
      "Epoch 6/100\n",
      "280/280 [==============================] - 0s 414us/step - loss: 0.3407 - accuracy: 0.8566\n",
      "Epoch 7/100\n",
      "280/280 [==============================] - 0s 413us/step - loss: 0.3282 - accuracy: 0.8613\n",
      "Epoch 8/100\n",
      "280/280 [==============================] - 0s 408us/step - loss: 0.3292 - accuracy: 0.8624\n",
      "Epoch 9/100\n",
      "280/280 [==============================] - 0s 395us/step - loss: 0.3206 - accuracy: 0.8639\n",
      "Epoch 10/100\n",
      "280/280 [==============================] - 0s 395us/step - loss: 0.3268 - accuracy: 0.8645\n",
      "Epoch 11/100\n",
      "280/280 [==============================] - 0s 408us/step - loss: 0.3372 - accuracy: 0.8605\n",
      "Epoch 12/100\n",
      "280/280 [==============================] - 0s 396us/step - loss: 0.3089 - accuracy: 0.8701\n",
      "Epoch 13/100\n",
      "280/280 [==============================] - 0s 399us/step - loss: 0.3198 - accuracy: 0.8680\n",
      "Epoch 14/100\n",
      "280/280 [==============================] - 0s 476us/step - loss: 0.3279 - accuracy: 0.8624\n",
      "Epoch 15/100\n",
      "280/280 [==============================] - 0s 406us/step - loss: 0.3067 - accuracy: 0.8718\n",
      "Epoch 16/100\n",
      "280/280 [==============================] - 0s 400us/step - loss: 0.3049 - accuracy: 0.8725\n",
      "Epoch 17/100\n",
      "280/280 [==============================] - 0s 414us/step - loss: 0.3064 - accuracy: 0.8714\n",
      "Epoch 18/100\n",
      "280/280 [==============================] - 0s 417us/step - loss: 0.3056 - accuracy: 0.8717\n",
      "Epoch 19/100\n",
      "280/280 [==============================] - 0s 429us/step - loss: 0.3025 - accuracy: 0.8728\n",
      "Epoch 20/100\n",
      "280/280 [==============================] - 0s 419us/step - loss: 0.3103 - accuracy: 0.8712\n",
      "Epoch 21/100\n",
      "280/280 [==============================] - 0s 414us/step - loss: 0.3099 - accuracy: 0.8688\n",
      "Epoch 22/100\n",
      "280/280 [==============================] - 0s 421us/step - loss: 0.3060 - accuracy: 0.8748\n",
      "Epoch 23/100\n",
      "280/280 [==============================] - 0s 423us/step - loss: 0.3088 - accuracy: 0.8680\n",
      "Epoch 24/100\n",
      "280/280 [==============================] - 0s 437us/step - loss: 0.3167 - accuracy: 0.8699\n",
      "Epoch 25/100\n",
      "280/280 [==============================] - 0s 488us/step - loss: 0.2959 - accuracy: 0.8749\n",
      "Epoch 26/100\n",
      "280/280 [==============================] - 0s 489us/step - loss: 0.3141 - accuracy: 0.8683\n",
      "Epoch 27/100\n",
      "280/280 [==============================] - 0s 508us/step - loss: 0.2953 - accuracy: 0.8758\n",
      "Epoch 28/100\n",
      "280/280 [==============================] - 0s 513us/step - loss: 0.2868 - accuracy: 0.8772\n",
      "Epoch 29/100\n",
      "280/280 [==============================] - 0s 521us/step - loss: 0.3029 - accuracy: 0.8740\n",
      "Epoch 30/100\n",
      "280/280 [==============================] - 0s 492us/step - loss: 0.2950 - accuracy: 0.8752\n",
      "Epoch 31/100\n",
      "280/280 [==============================] - 0s 420us/step - loss: 0.2944 - accuracy: 0.8771\n",
      "Epoch 32/100\n",
      "280/280 [==============================] - 0s 445us/step - loss: 0.3127 - accuracy: 0.8726\n",
      "Epoch 33/100\n",
      "280/280 [==============================] - 0s 503us/step - loss: 0.2861 - accuracy: 0.8765\n",
      "Epoch 34/100\n",
      "280/280 [==============================] - 0s 565us/step - loss: 0.2944 - accuracy: 0.8767\n",
      "Epoch 35/100\n",
      "280/280 [==============================] - 0s 587us/step - loss: 0.2876 - accuracy: 0.8759\n",
      "Epoch 36/100\n",
      "280/280 [==============================] - 0s 577us/step - loss: 0.2945 - accuracy: 0.8749\n",
      "Epoch 37/100\n",
      "280/280 [==============================] - 0s 480us/step - loss: 0.2914 - accuracy: 0.8754\n",
      "Epoch 38/100\n",
      "280/280 [==============================] - 0s 426us/step - loss: 0.2884 - accuracy: 0.8757\n",
      "Epoch 39/100\n",
      "280/280 [==============================] - 0s 409us/step - loss: 0.3039 - accuracy: 0.8757\n",
      "Epoch 40/100\n",
      "280/280 [==============================] - 0s 432us/step - loss: 0.2799 - accuracy: 0.8824\n",
      "Epoch 41/100\n",
      "280/280 [==============================] - 0s 475us/step - loss: 0.2840 - accuracy: 0.8797\n",
      "Epoch 42/100\n",
      "280/280 [==============================] - 0s 471us/step - loss: 0.2895 - accuracy: 0.8764\n",
      "Epoch 43/100\n",
      "280/280 [==============================] - 0s 468us/step - loss: 0.2912 - accuracy: 0.8764\n",
      "Epoch 44/100\n",
      "280/280 [==============================] - 0s 469us/step - loss: 0.2820 - accuracy: 0.8795\n",
      "Epoch 45/100\n",
      "280/280 [==============================] - 0s 446us/step - loss: 0.2979 - accuracy: 0.8736\n",
      "Epoch 46/100\n",
      "280/280 [==============================] - 0s 444us/step - loss: 0.2849 - accuracy: 0.8803\n",
      "Epoch 47/100\n",
      "280/280 [==============================] - 0s 436us/step - loss: 0.2832 - accuracy: 0.8782\n",
      "Epoch 48/100\n",
      "280/280 [==============================] - 0s 462us/step - loss: 0.2811 - accuracy: 0.8788\n",
      "Epoch 49/100\n",
      "280/280 [==============================] - 0s 532us/step - loss: 0.2876 - accuracy: 0.8791\n",
      "Epoch 50/100\n",
      "280/280 [==============================] - 0s 454us/step - loss: 0.2818 - accuracy: 0.8772\n",
      "Epoch 51/100\n",
      "280/280 [==============================] - 0s 450us/step - loss: 0.2998 - accuracy: 0.8727\n",
      "Epoch 52/100\n",
      "280/280 [==============================] - 0s 418us/step - loss: 0.2772 - accuracy: 0.8824\n",
      "Epoch 53/100\n",
      "280/280 [==============================] - 0s 428us/step - loss: 0.2907 - accuracy: 0.8773\n",
      "Epoch 54/100\n",
      "280/280 [==============================] - 0s 407us/step - loss: 0.2898 - accuracy: 0.8775\n",
      "Epoch 55/100\n",
      "280/280 [==============================] - 0s 387us/step - loss: 0.2776 - accuracy: 0.8800\n",
      "Epoch 56/100\n",
      "280/280 [==============================] - 0s 392us/step - loss: 0.2831 - accuracy: 0.8783\n",
      "Epoch 57/100\n",
      "280/280 [==============================] - 0s 407us/step - loss: 0.2705 - accuracy: 0.8821\n",
      "Epoch 58/100\n",
      "280/280 [==============================] - 0s 388us/step - loss: 0.2775 - accuracy: 0.8796\n",
      "Epoch 59/100\n",
      "280/280 [==============================] - 0s 389us/step - loss: 0.2692 - accuracy: 0.8825\n",
      "Epoch 60/100\n",
      "280/280 [==============================] - 0s 395us/step - loss: 0.2661 - accuracy: 0.8844\n",
      "Epoch 61/100\n",
      "280/280 [==============================] - 0s 386us/step - loss: 0.2950 - accuracy: 0.8703\n",
      "Epoch 62/100\n",
      "280/280 [==============================] - 0s 396us/step - loss: 0.2753 - accuracy: 0.8787\n",
      "Epoch 63/100\n",
      "280/280 [==============================] - 0s 392us/step - loss: 0.2757 - accuracy: 0.8802\n",
      "Epoch 64/100\n",
      "280/280 [==============================] - 0s 398us/step - loss: 0.2671 - accuracy: 0.8824\n",
      "Epoch 65/100\n",
      "280/280 [==============================] - 0s 391us/step - loss: 0.2835 - accuracy: 0.8811\n",
      "Epoch 66/100\n",
      "280/280 [==============================] - 0s 407us/step - loss: 0.2805 - accuracy: 0.8763\n",
      "Epoch 67/100\n",
      "280/280 [==============================] - 0s 400us/step - loss: 0.2701 - accuracy: 0.8822\n",
      "Epoch 68/100\n",
      "280/280 [==============================] - 0s 401us/step - loss: 0.2781 - accuracy: 0.8800\n",
      "Epoch 69/100\n",
      "280/280 [==============================] - 0s 412us/step - loss: 0.2629 - accuracy: 0.8849\n",
      "Epoch 70/100\n",
      "280/280 [==============================] - 0s 410us/step - loss: 0.2697 - accuracy: 0.8839\n",
      "Epoch 71/100\n",
      "280/280 [==============================] - 0s 406us/step - loss: 0.2773 - accuracy: 0.8807\n",
      "Epoch 72/100\n",
      "280/280 [==============================] - 0s 406us/step - loss: 0.2716 - accuracy: 0.8838\n",
      "Epoch 73/100\n",
      "280/280 [==============================] - 0s 386us/step - loss: 0.2580 - accuracy: 0.8845\n",
      "Epoch 74/100\n",
      "280/280 [==============================] - 0s 397us/step - loss: 0.2663 - accuracy: 0.8819\n",
      "Epoch 75/100\n",
      "280/280 [==============================] - 0s 394us/step - loss: 0.2688 - accuracy: 0.8826\n",
      "Epoch 76/100\n",
      "280/280 [==============================] - 0s 395us/step - loss: 0.2697 - accuracy: 0.8843\n",
      "Epoch 77/100\n",
      "280/280 [==============================] - 0s 387us/step - loss: 0.2683 - accuracy: 0.8833\n",
      "Epoch 78/100\n",
      "280/280 [==============================] - 0s 400us/step - loss: 0.2706 - accuracy: 0.8817\n",
      "Epoch 79/100\n"
     ]
    },
    {
     "name": "stdout",
     "output_type": "stream",
     "text": [
      "280/280 [==============================] - 0s 412us/step - loss: 0.2750 - accuracy: 0.8823\n",
      "Epoch 80/100\n",
      "280/280 [==============================] - 0s 390us/step - loss: 0.2530 - accuracy: 0.8857\n",
      "Epoch 81/100\n",
      "280/280 [==============================] - 0s 394us/step - loss: 0.2591 - accuracy: 0.8866\n",
      "Epoch 82/100\n",
      "280/280 [==============================] - 0s 401us/step - loss: 0.2633 - accuracy: 0.8871\n",
      "Epoch 83/100\n",
      "280/280 [==============================] - 0s 404us/step - loss: 0.2588 - accuracy: 0.8877\n",
      "Epoch 84/100\n",
      "280/280 [==============================] - 0s 399us/step - loss: 0.2567 - accuracy: 0.8825\n",
      "Epoch 85/100\n",
      "280/280 [==============================] - 0s 400us/step - loss: 0.2662 - accuracy: 0.8828\n",
      "Epoch 86/100\n",
      "280/280 [==============================] - 0s 407us/step - loss: 0.2571 - accuracy: 0.8859\n",
      "Epoch 87/100\n",
      "280/280 [==============================] - 0s 404us/step - loss: 0.2551 - accuracy: 0.8870\n",
      "Epoch 88/100\n",
      "280/280 [==============================] - 0s 429us/step - loss: 0.2530 - accuracy: 0.8901\n",
      "Epoch 89/100\n",
      "280/280 [==============================] - 0s 470us/step - loss: 0.2540 - accuracy: 0.8866\n",
      "Epoch 90/100\n",
      "280/280 [==============================] - 0s 407us/step - loss: 0.2625 - accuracy: 0.8864\n",
      "Epoch 91/100\n",
      "280/280 [==============================] - 0s 392us/step - loss: 0.2586 - accuracy: 0.8880\n",
      "Epoch 92/100\n",
      "280/280 [==============================] - 0s 395us/step - loss: 0.2561 - accuracy: 0.8883\n",
      "Epoch 93/100\n",
      "280/280 [==============================] - 0s 390us/step - loss: 0.2550 - accuracy: 0.8876\n",
      "Epoch 94/100\n",
      "280/280 [==============================] - 0s 388us/step - loss: 0.2620 - accuracy: 0.8876\n",
      "Epoch 95/100\n",
      "280/280 [==============================] - 0s 395us/step - loss: 0.2478 - accuracy: 0.8902\n",
      "Epoch 96/100\n",
      "280/280 [==============================] - 0s 399us/step - loss: 0.2537 - accuracy: 0.8891\n",
      "Epoch 97/100\n",
      "280/280 [==============================] - 0s 390us/step - loss: 0.2527 - accuracy: 0.8891\n",
      "Epoch 98/100\n",
      "280/280 [==============================] - 0s 386us/step - loss: 0.2526 - accuracy: 0.8907\n",
      "Epoch 99/100\n",
      "280/280 [==============================] - 0s 398us/step - loss: 0.2603 - accuracy: 0.8861\n",
      "Epoch 100/100\n",
      "280/280 [==============================] - 0s 407us/step - loss: 0.2644 - accuracy: 0.8826\n",
      "118/118 [==============================] - 0s 286us/step - loss: 0.6259 - accuracy: 0.6978\n",
      "[0.6259421706199646, 0.6978110074996948]\n",
      "Classification Report: \n",
      "               precision    recall  f1-score   support\n",
      "\n",
      "           0       0.94      0.41      0.57      1834\n",
      "           1       0.63      0.98      0.77      1912\n",
      "\n",
      "    accuracy                           0.70      3746\n",
      "   macro avg       0.79      0.69      0.67      3746\n",
      "weighted avg       0.78      0.70      0.67      3746\n",
      "\n"
     ]
    }
   ],
   "source": [
    "y_preds = ANN(X_train, y_train, X_test, y_test, 'binary_crossentropy')"
   ]
  },
  {
   "cell_type": "code",
   "execution_count": 113,
   "metadata": {
    "scrolled": true
   },
   "outputs": [
    {
     "name": "stdout",
     "output_type": "stream",
     "text": [
      "Epoch 1/100\n",
      "280/280 [==============================] - 0s 395us/step - loss: 0.7294 - accuracy: 0.8199\n",
      "Epoch 2/100\n",
      "280/280 [==============================] - 0s 397us/step - loss: 0.4140 - accuracy: 0.8346\n",
      "Epoch 3/100\n",
      "280/280 [==============================] - 0s 414us/step - loss: 0.3796 - accuracy: 0.8435\n",
      "Epoch 4/100\n",
      "280/280 [==============================] - 0s 406us/step - loss: 0.3853 - accuracy: 0.8473\n",
      "Epoch 5/100\n",
      "280/280 [==============================] - 0s 415us/step - loss: 0.3421 - accuracy: 0.8538\n",
      "Epoch 6/100\n",
      "280/280 [==============================] - 0s 407us/step - loss: 0.3507 - accuracy: 0.8545\n",
      "Epoch 7/100\n",
      "280/280 [==============================] - 0s 436us/step - loss: 0.3336 - accuracy: 0.8557\n",
      "Epoch 8/100\n",
      "280/280 [==============================] - 0s 531us/step - loss: 0.3359 - accuracy: 0.8607\n",
      "Epoch 9/100\n",
      "280/280 [==============================] - 0s 508us/step - loss: 0.3427 - accuracy: 0.8598\n",
      "Epoch 10/100\n",
      "280/280 [==============================] - 0s 517us/step - loss: 0.3253 - accuracy: 0.8611\n",
      "Epoch 11/100\n",
      "280/280 [==============================] - 0s 706us/step - loss: 0.3262 - accuracy: 0.8621\n",
      "Epoch 12/100\n",
      "280/280 [==============================] - 0s 427us/step - loss: 0.3174 - accuracy: 0.8691\n",
      "Epoch 13/100\n",
      "280/280 [==============================] - 0s 458us/step - loss: 0.3088 - accuracy: 0.8676\n",
      "Epoch 14/100\n",
      "280/280 [==============================] - 0s 464us/step - loss: 0.3451 - accuracy: 0.8626\n",
      "Epoch 15/100\n",
      "280/280 [==============================] - 0s 480us/step - loss: 0.3197 - accuracy: 0.8669\n",
      "Epoch 16/100\n",
      "280/280 [==============================] - 0s 491us/step - loss: 0.3063 - accuracy: 0.8658\n",
      "Epoch 17/100\n",
      "280/280 [==============================] - 0s 454us/step - loss: 0.3028 - accuracy: 0.8682\n",
      "Epoch 18/100\n",
      "280/280 [==============================] - 0s 432us/step - loss: 0.3027 - accuracy: 0.8716\n",
      "Epoch 19/100\n",
      "280/280 [==============================] - 0s 465us/step - loss: 0.3229 - accuracy: 0.8676\n",
      "Epoch 20/100\n",
      "280/280 [==============================] - 0s 442us/step - loss: 0.2956 - accuracy: 0.8734\n",
      "Epoch 21/100\n",
      "280/280 [==============================] - 0s 462us/step - loss: 0.3360 - accuracy: 0.8655\n",
      "Epoch 22/100\n",
      "280/280 [==============================] - 0s 442us/step - loss: 0.3037 - accuracy: 0.8692\n",
      "Epoch 23/100\n",
      "280/280 [==============================] - 0s 437us/step - loss: 0.3008 - accuracy: 0.8748\n",
      "Epoch 24/100\n",
      "280/280 [==============================] - 0s 458us/step - loss: 0.3004 - accuracy: 0.8721\n",
      "Epoch 25/100\n",
      "280/280 [==============================] - 0s 461us/step - loss: 0.2992 - accuracy: 0.8743\n",
      "Epoch 26/100\n",
      "280/280 [==============================] - 0s 450us/step - loss: 0.3073 - accuracy: 0.8700\n",
      "Epoch 27/100\n",
      "280/280 [==============================] - 0s 464us/step - loss: 0.3064 - accuracy: 0.8734\n",
      "Epoch 28/100\n",
      "280/280 [==============================] - 0s 436us/step - loss: 0.2993 - accuracy: 0.8720\n",
      "Epoch 29/100\n",
      "280/280 [==============================] - 0s 440us/step - loss: 0.2916 - accuracy: 0.8753\n",
      "Epoch 30/100\n",
      "280/280 [==============================] - 0s 436us/step - loss: 0.3220 - accuracy: 0.8747\n",
      "Epoch 31/100\n",
      "280/280 [==============================] - 0s 413us/step - loss: 0.2949 - accuracy: 0.8729\n",
      "Epoch 32/100\n",
      "280/280 [==============================] - 0s 403us/step - loss: 0.2861 - accuracy: 0.8771\n",
      "Epoch 33/100\n",
      "280/280 [==============================] - 0s 461us/step - loss: 0.2992 - accuracy: 0.8721\n",
      "Epoch 34/100\n",
      "280/280 [==============================] - 0s 469us/step - loss: 0.2978 - accuracy: 0.8721\n",
      "Epoch 35/100\n",
      "280/280 [==============================] - 0s 434us/step - loss: 0.2994 - accuracy: 0.8747\n",
      "Epoch 36/100\n",
      "280/280 [==============================] - 0s 436us/step - loss: 0.2905 - accuracy: 0.8755\n",
      "Epoch 37/100\n",
      "280/280 [==============================] - 0s 450us/step - loss: 0.2858 - accuracy: 0.8786\n",
      "Epoch 38/100\n",
      "280/280 [==============================] - 0s 451us/step - loss: 0.2802 - accuracy: 0.8794\n",
      "Epoch 39/100\n",
      "280/280 [==============================] - 0s 459us/step - loss: 0.2904 - accuracy: 0.8772\n",
      "Epoch 40/100\n",
      "280/280 [==============================] - 0s 466us/step - loss: 0.2890 - accuracy: 0.8778\n",
      "Epoch 41/100\n",
      "280/280 [==============================] - 0s 446us/step - loss: 0.2937 - accuracy: 0.8781\n",
      "Epoch 42/100\n",
      "280/280 [==============================] - 0s 395us/step - loss: 0.2840 - accuracy: 0.8783\n",
      "Epoch 43/100\n",
      "280/280 [==============================] - 0s 414us/step - loss: 0.2815 - accuracy: 0.8779\n",
      "Epoch 44/100\n",
      "280/280 [==============================] - 0s 405us/step - loss: 0.2795 - accuracy: 0.8764\n",
      "Epoch 45/100\n",
      "280/280 [==============================] - 0s 463us/step - loss: 0.2872 - accuracy: 0.8774\n",
      "Epoch 46/100\n",
      "280/280 [==============================] - 0s 439us/step - loss: 0.2819 - accuracy: 0.8790\n",
      "Epoch 47/100\n",
      "280/280 [==============================] - 0s 425us/step - loss: 0.2815 - accuracy: 0.8797\n",
      "Epoch 48/100\n",
      "280/280 [==============================] - 0s 558us/step - loss: 0.2915 - accuracy: 0.8783\n",
      "Epoch 49/100\n",
      "280/280 [==============================] - 0s 434us/step - loss: 0.2951 - accuracy: 0.8767\n",
      "Epoch 50/100\n",
      "280/280 [==============================] - 0s 432us/step - loss: 0.2689 - accuracy: 0.8834\n",
      "Epoch 51/100\n",
      "280/280 [==============================] - 0s 441us/step - loss: 0.2837 - accuracy: 0.8797\n",
      "Epoch 52/100\n",
      "280/280 [==============================] - 0s 464us/step - loss: 0.2738 - accuracy: 0.8810\n",
      "Epoch 53/100\n",
      "280/280 [==============================] - 0s 443us/step - loss: 0.2668 - accuracy: 0.8839\n",
      "Epoch 54/100\n",
      "280/280 [==============================] - 0s 504us/step - loss: 0.2733 - accuracy: 0.8836\n",
      "Epoch 55/100\n",
      "280/280 [==============================] - 0s 448us/step - loss: 0.2721 - accuracy: 0.8828\n",
      "Epoch 56/100\n",
      "280/280 [==============================] - 0s 452us/step - loss: 0.2694 - accuracy: 0.8829\n",
      "Epoch 57/100\n",
      "280/280 [==============================] - 0s 453us/step - loss: 0.2680 - accuracy: 0.8864\n",
      "Epoch 58/100\n",
      "280/280 [==============================] - 0s 451us/step - loss: 0.2676 - accuracy: 0.8889\n",
      "Epoch 59/100\n",
      "280/280 [==============================] - 0s 421us/step - loss: 0.2694 - accuracy: 0.8862\n",
      "Epoch 60/100\n",
      "280/280 [==============================] - 0s 427us/step - loss: 0.2611 - accuracy: 0.8896\n",
      "Epoch 61/100\n",
      "280/280 [==============================] - 0s 430us/step - loss: 0.2615 - accuracy: 0.8852\n",
      "Epoch 62/100\n",
      "280/280 [==============================] - 0s 447us/step - loss: 0.2515 - accuracy: 0.8927\n",
      "Epoch 63/100\n",
      "280/280 [==============================] - 0s 448us/step - loss: 0.2605 - accuracy: 0.8892\n",
      "Epoch 64/100\n",
      "280/280 [==============================] - 0s 445us/step - loss: 0.2603 - accuracy: 0.8871\n",
      "Epoch 65/100\n",
      "280/280 [==============================] - 0s 417us/step - loss: 0.2571 - accuracy: 0.8910\n",
      "Epoch 66/100\n",
      "280/280 [==============================] - 0s 447us/step - loss: 0.2545 - accuracy: 0.8927\n",
      "Epoch 67/100\n",
      "280/280 [==============================] - 0s 446us/step - loss: 0.2671 - accuracy: 0.8878\n",
      "Epoch 68/100\n",
      "280/280 [==============================] - 0s 510us/step - loss: 0.2498 - accuracy: 0.8938\n",
      "Epoch 69/100\n",
      "280/280 [==============================] - 0s 490us/step - loss: 0.2487 - accuracy: 0.8942\n",
      "Epoch 70/100\n",
      "280/280 [==============================] - 0s 473us/step - loss: 0.2410 - accuracy: 0.8964\n",
      "Epoch 71/100\n",
      "280/280 [==============================] - 0s 426us/step - loss: 0.2543 - accuracy: 0.8924\n",
      "Epoch 72/100\n",
      "280/280 [==============================] - 0s 461us/step - loss: 0.2435 - accuracy: 0.8976\n",
      "Epoch 73/100\n",
      "280/280 [==============================] - 0s 472us/step - loss: 0.2451 - accuracy: 0.8967\n",
      "Epoch 74/100\n",
      "280/280 [==============================] - 0s 477us/step - loss: 0.2436 - accuracy: 0.8967\n",
      "Epoch 75/100\n",
      "280/280 [==============================] - 0s 456us/step - loss: 0.2446 - accuracy: 0.8939\n",
      "Epoch 76/100\n",
      "280/280 [==============================] - 0s 434us/step - loss: 0.2478 - accuracy: 0.8995\n",
      "Epoch 77/100\n",
      "280/280 [==============================] - 0s 428us/step - loss: 0.2395 - accuracy: 0.8985\n",
      "Epoch 78/100\n",
      "280/280 [==============================] - 0s 444us/step - loss: 0.2494 - accuracy: 0.8949\n",
      "Epoch 79/100\n"
     ]
    },
    {
     "name": "stdout",
     "output_type": "stream",
     "text": [
      "280/280 [==============================] - 0s 471us/step - loss: 0.2368 - accuracy: 0.9021\n",
      "Epoch 80/100\n",
      "280/280 [==============================] - 0s 489us/step - loss: 0.2362 - accuracy: 0.8994\n",
      "Epoch 81/100\n",
      "280/280 [==============================] - 0s 423us/step - loss: 0.2324 - accuracy: 0.9023\n",
      "Epoch 82/100\n",
      "280/280 [==============================] - 0s 426us/step - loss: 0.2480 - accuracy: 0.8976\n",
      "Epoch 83/100\n",
      "280/280 [==============================] - 0s 441us/step - loss: 0.2339 - accuracy: 0.8978\n",
      "Epoch 84/100\n",
      "280/280 [==============================] - 0s 424us/step - loss: 0.2432 - accuracy: 0.8992\n",
      "Epoch 85/100\n",
      "280/280 [==============================] - 0s 464us/step - loss: 0.2333 - accuracy: 0.9007\n",
      "Epoch 86/100\n",
      "280/280 [==============================] - 0s 503us/step - loss: 0.2371 - accuracy: 0.8994\n",
      "Epoch 87/100\n",
      "280/280 [==============================] - 0s 416us/step - loss: 0.2383 - accuracy: 0.8997\n",
      "Epoch 88/100\n",
      "280/280 [==============================] - 0s 425us/step - loss: 0.2357 - accuracy: 0.9016\n",
      "Epoch 89/100\n",
      "280/280 [==============================] - 0s 482us/step - loss: 0.2239 - accuracy: 0.9018\n",
      "Epoch 90/100\n",
      "280/280 [==============================] - 0s 434us/step - loss: 0.2278 - accuracy: 0.9026\n",
      "Epoch 91/100\n",
      "280/280 [==============================] - 0s 415us/step - loss: 0.2306 - accuracy: 0.9020\n",
      "Epoch 92/100\n",
      "280/280 [==============================] - 0s 422us/step - loss: 0.2374 - accuracy: 0.8988\n",
      "Epoch 93/100\n",
      "280/280 [==============================] - 0s 409us/step - loss: 0.2372 - accuracy: 0.8996\n",
      "Epoch 94/100\n",
      "280/280 [==============================] - 0s 415us/step - loss: 0.2293 - accuracy: 0.9015\n",
      "Epoch 95/100\n",
      "280/280 [==============================] - 0s 399us/step - loss: 0.2276 - accuracy: 0.9022\n",
      "Epoch 96/100\n",
      "280/280 [==============================] - 0s 406us/step - loss: 0.2307 - accuracy: 0.9024\n",
      "Epoch 97/100\n",
      "280/280 [==============================] - 0s 416us/step - loss: 0.2236 - accuracy: 0.9052\n",
      "Epoch 98/100\n",
      "280/280 [==============================] - 0s 415us/step - loss: 0.2377 - accuracy: 0.8990\n",
      "Epoch 99/100\n",
      "280/280 [==============================] - 0s 436us/step - loss: 0.2324 - accuracy: 0.9011\n",
      "Epoch 100/100\n",
      "280/280 [==============================] - 0s 464us/step - loss: 0.2212 - accuracy: 0.9059\n",
      "118/118 [==============================] - 0s 338us/step - loss: 0.5013 - accuracy: 0.7645\n",
      "[0.501296877861023, 0.7645488381385803]\n",
      "Classification Report: \n",
      "               precision    recall  f1-score   support\n",
      "\n",
      "           0       0.95      0.55      0.70      1834\n",
      "           1       0.69      0.97      0.81      1912\n",
      "\n",
      "    accuracy                           0.76      3746\n",
      "   macro avg       0.82      0.76      0.75      3746\n",
      "weighted avg       0.82      0.76      0.75      3746\n",
      "\n"
     ]
    }
   ],
   "source": [
    "X_train, y_train = get_train_batch(df2_class0, df2_class1, 0, 1495)\n",
    "\n",
    "y_pred1 = ANN(X_train, y_train, X_test, y_test, 'binary_crossentropy')"
   ]
  },
  {
   "cell_type": "code",
   "execution_count": 114,
   "metadata": {},
   "outputs": [
    {
     "data": {
      "text/plain": [
       "Index(['AccountID', 'Tenure', 'City_Tier', 'CC_Contacted_LY', 'Service_Score',\n",
       "       'Account_user_count', 'CC_Agent_Score', 'rev_per_month', 'Complain_ly',\n",
       "       'rev_growth_yoy', 'coupon_used_for_payment', 'Day_Since_CC_connect',\n",
       "       'cashback', 'Payment_Cash on Delivery', 'Payment_Credit Card',\n",
       "       'Payment_Debit Card', 'Payment_E wallet', 'Payment_UPI',\n",
       "       'Gender_Female', 'Gender_Male', 'account_segment_HNI',\n",
       "       'account_segment_Regular', 'account_segment_Regular Plus',\n",
       "       'account_segment_Super', 'account_segment_Super Plus',\n",
       "       'Marital_Status_Divorced', 'Marital_Status_Married',\n",
       "       'Marital_Status_Single', 'Login_device_Computer', 'Login_device_Mobile',\n",
       "       'Login_device_Tab'],\n",
       "      dtype='object')"
      ]
     },
     "execution_count": 114,
     "metadata": {},
     "output_type": "execute_result"
    }
   ],
   "source": [
    "df1.columns"
   ]
  },
  {
   "cell_type": "code",
   "execution_count": null,
   "metadata": {},
   "outputs": [],
   "source": []
  },
  {
   "cell_type": "code",
   "execution_count": 115,
   "metadata": {},
   "outputs": [
    {
     "name": "stdout",
     "output_type": "stream",
     "text": [
      "Random over-sampling:\n",
      "0    7530\n",
      "1    7530\n",
      "Name: Exited, dtype: int64\n"
     ]
    }
   ],
   "source": [
    "# Oversample 1-class and concat the DataFrames of both classes\n",
    "df_class_1_over = df2_class_1.sample(count_class_0, replace=True)\n",
    "df_test_over = pd.concat([df2_class_0, df_class_1_over], axis=0)\n",
    "\n",
    "print('Random over-sampling:')\n",
    "print(df_test_over.Exited.value_counts())"
   ]
  },
  {
   "cell_type": "code",
   "execution_count": 116,
   "metadata": {},
   "outputs": [
    {
     "name": "stdout",
     "output_type": "stream",
     "text": [
      "Random under-sampling:\n",
      "0    7452\n",
      "1    7452\n",
      "Name: Exited, dtype: int64\n"
     ]
    }
   ],
   "source": [
    "df2_class_0_under = df2_class_0.sample(count_class_1)\n",
    "df_test_under = pd.concat([df2_class_0_under, df2_class_1], axis=0)\n",
    "\n",
    "print('Random under-sampling:')\n",
    "print(df_test_under.Exited.value_counts())"
   ]
  },
  {
   "cell_type": "code",
   "execution_count": 117,
   "metadata": {},
   "outputs": [],
   "source": [
    "from sklearn.model_selection import train_test_split\n",
    "X = df_test_under.drop('Exited', axis='columns')\n",
    "y = df_test_under['Exited']\n",
    "\n",
    "X_train, X_test, y_train, y_test = train_test_split( X, y, test_size=0.2, random_state=15, stratify=y)"
   ]
  },
  {
   "cell_type": "code",
   "execution_count": 118,
   "metadata": {},
   "outputs": [
    {
     "name": "stdout",
     "output_type": "stream",
     "text": [
      "Epoch 1/100\n",
      "  1/373 [..............................] - ETA: 0s - loss: 1.6430 - accuracy: 0.5625WARNING:tensorflow:Callbacks method `on_train_batch_end` is slow compared to the batch time (batch time: 0.0000s vs `on_train_batch_end` time: 0.0010s). Check your callbacks.\n",
      "373/373 [==============================] - 0s 430us/step - loss: 0.6706 - accuracy: 0.6238\n",
      "Epoch 2/100\n",
      "373/373 [==============================] - 0s 400us/step - loss: 0.5927 - accuracy: 0.7216\n",
      "Epoch 3/100\n",
      "373/373 [==============================] - 0s 401us/step - loss: 0.5306 - accuracy: 0.7627\n",
      "Epoch 4/100\n",
      "373/373 [==============================] - 0s 397us/step - loss: 0.5090 - accuracy: 0.7693\n",
      "Epoch 5/100\n",
      "373/373 [==============================] - 0s 448us/step - loss: 0.4825 - accuracy: 0.7808\n",
      "Epoch 6/100\n",
      "373/373 [==============================] - 0s 446us/step - loss: 0.4738 - accuracy: 0.7871\n",
      "Epoch 7/100\n",
      "373/373 [==============================] - 0s 462us/step - loss: 0.4597 - accuracy: 0.7975\n",
      "Epoch 8/100\n",
      "373/373 [==============================] - 0s 474us/step - loss: 0.4510 - accuracy: 0.7992\n",
      "Epoch 9/100\n",
      "373/373 [==============================] - 0s 416us/step - loss: 0.4516 - accuracy: 0.8025\n",
      "Epoch 10/100\n",
      "373/373 [==============================] - 0s 485us/step - loss: 0.4238 - accuracy: 0.8116\n",
      "Epoch 11/100\n",
      "373/373 [==============================] - 0s 506us/step - loss: 0.4352 - accuracy: 0.8106\n",
      "Epoch 12/100\n",
      "373/373 [==============================] - 0s 508us/step - loss: 0.4207 - accuracy: 0.8146\n",
      "Epoch 13/100\n",
      "373/373 [==============================] - 0s 440us/step - loss: 0.4283 - accuracy: 0.8124\n",
      "Epoch 14/100\n",
      "373/373 [==============================] - 0s 552us/step - loss: 0.4162 - accuracy: 0.8176\n",
      "Epoch 15/100\n",
      "373/373 [==============================] - 0s 485us/step - loss: 0.4135 - accuracy: 0.8214\n",
      "Epoch 16/100\n",
      "373/373 [==============================] - 0s 499us/step - loss: 0.3995 - accuracy: 0.8245\n",
      "Epoch 17/100\n",
      "373/373 [==============================] - 0s 461us/step - loss: 0.4091 - accuracy: 0.8226\n",
      "Epoch 18/100\n",
      "373/373 [==============================] - 0s 429us/step - loss: 0.4094 - accuracy: 0.8207\n",
      "Epoch 19/100\n",
      "373/373 [==============================] - 0s 413us/step - loss: 0.4038 - accuracy: 0.8200\n",
      "Epoch 20/100\n",
      "373/373 [==============================] - 0s 403us/step - loss: 0.3992 - accuracy: 0.8229\n",
      "Epoch 21/100\n",
      "373/373 [==============================] - 0s 423us/step - loss: 0.4102 - accuracy: 0.8200\n",
      "Epoch 22/100\n",
      "373/373 [==============================] - 0s 401us/step - loss: 0.4017 - accuracy: 0.8246\n",
      "Epoch 23/100\n",
      "373/373 [==============================] - 0s 400us/step - loss: 0.3892 - accuracy: 0.8326\n",
      "Epoch 24/100\n",
      "373/373 [==============================] - 0s 401us/step - loss: 0.4016 - accuracy: 0.8265\n",
      "Epoch 25/100\n",
      "373/373 [==============================] - 0s 416us/step - loss: 0.3965 - accuracy: 0.8307\n",
      "Epoch 26/100\n",
      "373/373 [==============================] - 0s 399us/step - loss: 0.3801 - accuracy: 0.8315\n",
      "Epoch 27/100\n",
      "373/373 [==============================] - 0s 397us/step - loss: 0.3914 - accuracy: 0.8282\n",
      "Epoch 28/100\n",
      "373/373 [==============================] - 0s 399us/step - loss: 0.3914 - accuracy: 0.8304\n",
      "Epoch 29/100\n",
      "373/373 [==============================] - 0s 420us/step - loss: 0.3816 - accuracy: 0.8323\n",
      "Epoch 30/100\n",
      "373/373 [==============================] - 0s 422us/step - loss: 0.3884 - accuracy: 0.8326\n",
      "Epoch 31/100\n",
      "373/373 [==============================] - 0s 425us/step - loss: 0.3900 - accuracy: 0.8317\n",
      "Epoch 32/100\n",
      "373/373 [==============================] - 0s 419us/step - loss: 0.3795 - accuracy: 0.8361\n",
      "Epoch 33/100\n",
      "373/373 [==============================] - 0s 417us/step - loss: 0.3918 - accuracy: 0.8302\n",
      "Epoch 34/100\n",
      "373/373 [==============================] - 0s 422us/step - loss: 0.3687 - accuracy: 0.8378\n",
      "Epoch 35/100\n",
      "373/373 [==============================] - 0s 453us/step - loss: 0.3770 - accuracy: 0.8374\n",
      "Epoch 36/100\n",
      "373/373 [==============================] - 0s 408us/step - loss: 0.3835 - accuracy: 0.8338\n",
      "Epoch 37/100\n",
      "373/373 [==============================] - 0s 405us/step - loss: 0.3821 - accuracy: 0.8364\n",
      "Epoch 38/100\n",
      "373/373 [==============================] - 0s 403us/step - loss: 0.3905 - accuracy: 0.8346\n",
      "Epoch 39/100\n",
      "373/373 [==============================] - 0s 394us/step - loss: 0.3718 - accuracy: 0.8409\n",
      "Epoch 40/100\n",
      "373/373 [==============================] - 0s 397us/step - loss: 0.3737 - accuracy: 0.8403\n",
      "Epoch 41/100\n",
      "373/373 [==============================] - 0s 404us/step - loss: 0.3641 - accuracy: 0.8404\n",
      "Epoch 42/100\n",
      "373/373 [==============================] - 0s 419us/step - loss: 0.3583 - accuracy: 0.8435\n",
      "Epoch 43/100\n",
      "373/373 [==============================] - 0s 547us/step - loss: 0.3626 - accuracy: 0.8419\n",
      "Epoch 44/100\n",
      "373/373 [==============================] - 0s 463us/step - loss: 0.3601 - accuracy: 0.8447\n",
      "Epoch 45/100\n",
      "373/373 [==============================] - 0s 420us/step - loss: 0.3643 - accuracy: 0.8426\n",
      "Epoch 46/100\n",
      "373/373 [==============================] - 0s 414us/step - loss: 0.3861 - accuracy: 0.8334\n",
      "Epoch 47/100\n",
      "373/373 [==============================] - 0s 420us/step - loss: 0.3610 - accuracy: 0.8444\n",
      "Epoch 48/100\n",
      "373/373 [==============================] - 0s 402us/step - loss: 0.3613 - accuracy: 0.8434\n",
      "Epoch 49/100\n",
      "373/373 [==============================] - 0s 403us/step - loss: 0.3671 - accuracy: 0.8420\n",
      "Epoch 50/100\n",
      "373/373 [==============================] - 0s 402us/step - loss: 0.3624 - accuracy: 0.8430\n",
      "Epoch 51/100\n",
      "373/373 [==============================] - 0s 411us/step - loss: 0.3646 - accuracy: 0.8429\n",
      "Epoch 52/100\n",
      "373/373 [==============================] - 0s 400us/step - loss: 0.3437 - accuracy: 0.8518\n",
      "Epoch 53/100\n",
      "373/373 [==============================] - 0s 402us/step - loss: 0.3544 - accuracy: 0.8475\n",
      "Epoch 54/100\n",
      "373/373 [==============================] - 0s 410us/step - loss: 0.3449 - accuracy: 0.8498\n",
      "Epoch 55/100\n",
      "373/373 [==============================] - 0s 410us/step - loss: 0.3507 - accuracy: 0.8496\n",
      "Epoch 56/100\n",
      "373/373 [==============================] - 0s 418us/step - loss: 0.3499 - accuracy: 0.8489\n",
      "Epoch 57/100\n",
      "373/373 [==============================] - 0s 409us/step - loss: 0.3419 - accuracy: 0.8507\n",
      "Epoch 58/100\n",
      "373/373 [==============================] - 0s 415us/step - loss: 0.3499 - accuracy: 0.8471\n",
      "Epoch 59/100\n",
      "373/373 [==============================] - 0s 430us/step - loss: 0.3459 - accuracy: 0.8521\n",
      "Epoch 60/100\n",
      "373/373 [==============================] - 0s 406us/step - loss: 0.3348 - accuracy: 0.8548\n",
      "Epoch 61/100\n",
      "373/373 [==============================] - 0s 420us/step - loss: 0.3360 - accuracy: 0.8542\n",
      "Epoch 62/100\n",
      "373/373 [==============================] - 0s 407us/step - loss: 0.3343 - accuracy: 0.8552\n",
      "Epoch 63/100\n",
      "373/373 [==============================] - 0s 453us/step - loss: 0.3385 - accuracy: 0.8533\n",
      "Epoch 64/100\n",
      "373/373 [==============================] - 0s 418us/step - loss: 0.3362 - accuracy: 0.8525\n",
      "Epoch 65/100\n",
      "373/373 [==============================] - 0s 399us/step - loss: 0.3394 - accuracy: 0.8505\n",
      "Epoch 66/100\n",
      "373/373 [==============================] - 0s 401us/step - loss: 0.3309 - accuracy: 0.8547\n",
      "Epoch 67/100\n",
      "373/373 [==============================] - 0s 419us/step - loss: 0.3268 - accuracy: 0.8588\n",
      "Epoch 68/100\n",
      "373/373 [==============================] - 0s 423us/step - loss: 0.3222 - accuracy: 0.8590\n",
      "Epoch 69/100\n",
      "373/373 [==============================] - 0s 423us/step - loss: 0.3518 - accuracy: 0.8472\n",
      "Epoch 70/100\n",
      "373/373 [==============================] - 0s 414us/step - loss: 0.3206 - accuracy: 0.8625\n",
      "Epoch 71/100\n",
      "373/373 [==============================] - 0s 414us/step - loss: 0.3240 - accuracy: 0.8583\n",
      "Epoch 72/100\n",
      "373/373 [==============================] - 0s 434us/step - loss: 0.3217 - accuracy: 0.8620\n",
      "Epoch 73/100\n",
      "373/373 [==============================] - 0s 404us/step - loss: 0.3187 - accuracy: 0.8606\n",
      "Epoch 74/100\n",
      "373/373 [==============================] - 0s 418us/step - loss: 0.3170 - accuracy: 0.8635\n",
      "Epoch 75/100\n",
      "373/373 [==============================] - 0s 400us/step - loss: 0.3327 - accuracy: 0.8553\n",
      "Epoch 76/100\n",
      "373/373 [==============================] - 0s 400us/step - loss: 0.3444 - accuracy: 0.8569\n",
      "Epoch 77/100\n"
     ]
    },
    {
     "name": "stdout",
     "output_type": "stream",
     "text": [
      "373/373 [==============================] - 0s 404us/step - loss: 0.3122 - accuracy: 0.8655\n",
      "Epoch 78/100\n",
      "373/373 [==============================] - 0s 397us/step - loss: 0.3123 - accuracy: 0.8660\n",
      "Epoch 79/100\n",
      "373/373 [==============================] - 0s 394us/step - loss: 0.3217 - accuracy: 0.8614\n",
      "Epoch 80/100\n",
      "373/373 [==============================] - 0s 407us/step - loss: 0.3128 - accuracy: 0.8674\n",
      "Epoch 81/100\n",
      "373/373 [==============================] - 0s 470us/step - loss: 0.3126 - accuracy: 0.8662\n",
      "Epoch 82/100\n",
      "373/373 [==============================] - 0s 461us/step - loss: 0.3094 - accuracy: 0.8679\n",
      "Epoch 83/100\n",
      "373/373 [==============================] - 0s 406us/step - loss: 0.3156 - accuracy: 0.8661\n",
      "Epoch 84/100\n",
      "373/373 [==============================] - 0s 402us/step - loss: 0.3137 - accuracy: 0.8612\n",
      "Epoch 85/100\n",
      "373/373 [==============================] - 0s 405us/step - loss: 0.3130 - accuracy: 0.8658\n",
      "Epoch 86/100\n",
      "373/373 [==============================] - 0s 396us/step - loss: 0.3157 - accuracy: 0.8638\n",
      "Epoch 87/100\n",
      "373/373 [==============================] - 0s 392us/step - loss: 0.3004 - accuracy: 0.8703\n",
      "Epoch 88/100\n",
      "373/373 [==============================] - 0s 392us/step - loss: 0.3161 - accuracy: 0.8650\n",
      "Epoch 89/100\n",
      "373/373 [==============================] - 0s 395us/step - loss: 0.3082 - accuracy: 0.8672\n",
      "Epoch 90/100\n",
      "373/373 [==============================] - 0s 395us/step - loss: 0.3063 - accuracy: 0.8682\n",
      "Epoch 91/100\n",
      "373/373 [==============================] - 0s 395us/step - loss: 0.3113 - accuracy: 0.8672\n",
      "Epoch 92/100\n",
      "373/373 [==============================] - 0s 404us/step - loss: 0.3040 - accuracy: 0.8685\n",
      "Epoch 93/100\n",
      "373/373 [==============================] - 0s 401us/step - loss: 0.3016 - accuracy: 0.8703\n",
      "Epoch 94/100\n",
      "373/373 [==============================] - 0s 401us/step - loss: 0.2971 - accuracy: 0.8708\n",
      "Epoch 95/100\n",
      "373/373 [==============================] - 0s 395us/step - loss: 0.2992 - accuracy: 0.8707\n",
      "Epoch 96/100\n",
      "373/373 [==============================] - 0s 397us/step - loss: 0.3075 - accuracy: 0.8713\n",
      "Epoch 97/100\n",
      "373/373 [==============================] - 0s 402us/step - loss: 0.2945 - accuracy: 0.8736\n",
      "Epoch 98/100\n",
      "373/373 [==============================] - 0s 397us/step - loss: 0.2930 - accuracy: 0.8724\n",
      "Epoch 99/100\n",
      "373/373 [==============================] - 0s 402us/step - loss: 0.2965 - accuracy: 0.8707\n",
      "Epoch 100/100\n",
      "373/373 [==============================] - 0s 398us/step - loss: 0.3061 - accuracy: 0.8703\n",
      "94/94 [==============================] - 0s 307us/step - loss: 0.3098 - accuracy: 0.8628\n",
      "[0.30984142422676086, 0.862797737121582]\n",
      "Classification Report: \n",
      "               precision    recall  f1-score   support\n",
      "\n",
      "           0       0.83      0.91      0.87      1491\n",
      "           1       0.90      0.81      0.86      1490\n",
      "\n",
      "    accuracy                           0.86      2981\n",
      "   macro avg       0.87      0.86      0.86      2981\n",
      "weighted avg       0.87      0.86      0.86      2981\n",
      "\n"
     ]
    }
   ],
   "source": [
    "y_preds = ANN(X_train, y_train, X_test, y_test, 'binary_crossentropy')"
   ]
  },
  {
   "cell_type": "code",
   "execution_count": 122,
   "metadata": {},
   "outputs": [],
   "source": [
    "y_pred = []\n",
    "for element in y_preds:\n",
    "    if element > 0.5:\n",
    "        y_pred.append(1)\n",
    "    else:\n",
    "        y_pred.append(0)"
   ]
  },
  {
   "cell_type": "code",
   "execution_count": null,
   "metadata": {},
   "outputs": [],
   "source": []
  },
  {
   "cell_type": "code",
   "execution_count": null,
   "metadata": {},
   "outputs": [],
   "source": []
  },
  {
   "cell_type": "code",
   "execution_count": 123,
   "metadata": {},
   "outputs": [
    {
     "data": {
      "text/plain": [
       "[0, 0, 0, 1, 0, 1, 0, 0, 1, 0]"
      ]
     },
     "execution_count": 123,
     "metadata": {},
     "output_type": "execute_result"
    }
   ],
   "source": [
    "y_pred[:10]"
   ]
  },
  {
   "cell_type": "code",
   "execution_count": 124,
   "metadata": {},
   "outputs": [
    {
     "data": {
      "text/plain": [
       "3898     0\n",
       "4046     0\n",
       "8753     0\n",
       "13565    1\n",
       "9623     0\n",
       "3528     1\n",
       "4912     1\n",
       "4598     0\n",
       "1607     0\n",
       "4658     0\n",
       "Name: Exited, dtype: int64"
      ]
     },
     "execution_count": 124,
     "metadata": {},
     "output_type": "execute_result"
    }
   ],
   "source": [
    "y_test[:10]"
   ]
  },
  {
   "cell_type": "code",
   "execution_count": 125,
   "metadata": {},
   "outputs": [],
   "source": [
    "def unique(list1):\n",
    "    \n",
    "    # initialize a null list\n",
    "    unique_list = []\n",
    "    # traverse for all elements\n",
    "    for x in list1:\n",
    "        # check if exists in unique_list or not\n",
    "        if x not in unique_list:\n",
    "            unique_list.append(x)\n",
    "    # print list\n",
    "    for x in unique_list:\n",
    "        print(x)"
   ]
  },
  {
   "cell_type": "code",
   "execution_count": 126,
   "metadata": {},
   "outputs": [],
   "source": [
    "def countX(lst, x):\n",
    "    count = 0\n",
    "    for ele in lst:\n",
    "        if (ele == x):\n",
    "            count = count + 1\n",
    "    return count\n"
   ]
  },
  {
   "cell_type": "code",
   "execution_count": 127,
   "metadata": {},
   "outputs": [
    {
     "data": {
      "text/plain": [
       "1490"
      ]
     },
     "execution_count": 127,
     "metadata": {},
     "output_type": "execute_result"
    }
   ],
   "source": [
    "countX(y_test,1)"
   ]
  },
  {
   "cell_type": "code",
   "execution_count": 128,
   "metadata": {},
   "outputs": [
    {
     "name": "stdout",
     "output_type": "stream",
     "text": [
      "              precision    recall  f1-score   support\n",
      "\n",
      "           0       0.83      0.91      0.87      1491\n",
      "           1       0.90      0.81      0.86      1490\n",
      "\n",
      "    accuracy                           0.86      2981\n",
      "   macro avg       0.87      0.86      0.86      2981\n",
      "weighted avg       0.87      0.86      0.86      2981\n",
      "\n"
     ]
    }
   ],
   "source": [
    "from sklearn.metrics import confusion_matrix , classification_report\n",
    "\n",
    "print(classification_report(y_test,y_pred))"
   ]
  },
  {
   "cell_type": "code",
   "execution_count": 129,
   "metadata": {},
   "outputs": [
    {
     "data": {
      "text/plain": [
       "Text(69.0, 0.5, 'Truth')"
      ]
     },
     "execution_count": 129,
     "metadata": {},
     "output_type": "execute_result"
    },
    {
     "data": {
      "image/png": "[encoded data removed]",
      "text/plain": [
       "<Figure size 720x504 with 2 Axes>"
      ]
     },
     "metadata": {
      "needs_background": "light"
     },
     "output_type": "display_data"
    }
   ],
   "source": [
    "import seaborn as sn\n",
    "cm = tf.math.confusion_matrix(labels=y_test,predictions=y_pred)\n",
    "\n",
    "plt.figure(figsize = (10,7))\n",
    "sn.heatmap(cm, annot=True, fmt='d')\n",
    "plt.xlabel('Predicted')\n",
    "plt.ylabel('Truth')"
   ]
  },
  {
   "cell_type": "code",
   "execution_count": 133,
   "metadata": {},
   "outputs": [],
   "source": [
    "from sklearn.model_selection import GridSearchCV\n",
    "from sklearn.neighbors import KNeighborsClassifier\n",
    "knn_model = KNeighborsClassifier()\n",
    "knn = KNeighborsClassifier(n_neighbors=1,metric='manhattan')\n",
    "model = GridSearchCV(knn,param_grid,cv=10, scoring='accuracy', return_train_score=False,verbose=1)"
   ]
  },
  {
   "cell_type": "code",
   "execution_count": 135,
   "metadata": {},
   "outputs": [
    {
     "name": "stdout",
     "output_type": "stream",
     "text": [
      "Fitting 10 folds for each of 147 candidates, totalling 1470 fits\n",
      "GridSearchCV(cv=10,\n",
      "             estimator=KNeighborsClassifier(metric='manhattan', n_neighbors=1),\n",
      "             param_grid={'metric': ['minkowski', 'manhattan', 'euclidean'],\n",
      "                         'n_neighbors': range(1, 50)},\n",
      "             scoring='accuracy', verbose=1)\n",
      "Accuracy for our training dataset with tuning is : 0.94%\n",
      "              precision    recall  f1-score   support\n",
      "\n",
      "           0       0.97      0.90      0.94      1491\n",
      "           1       0.91      0.98      0.94      1490\n",
      "\n",
      "    accuracy                           0.94      2981\n",
      "   macro avg       0.94      0.94      0.94      2981\n",
      "weighted avg       0.94      0.94      0.94      2981\n",
      "\n"
     ]
    },
    {
     "data": {
      "image/png": "[encoded data removed]",
      "text/plain": [
       "<Figure size 432x288 with 2 Axes>"
      ]
     },
     "metadata": {
      "needs_background": "light"
     },
     "output_type": "display_data"
    }
   ],
   "source": [
    "model.fit(X_train,y_train)\n",
    "y_test_pred=model.predict(X_test)\n",
    "acc=accuracy_score(y_test,y_test_pred)\n",
    "print(model)\n",
    "print(\"Accuracy for our training dataset with tuning is : {:.2f}%\".format(acc) )\n",
    "print(classification_report(y_test,y_test_pred))\n",
    "plot_confusion_matrix(model,X_test,y_test)\n",
    "ax.set_title(str(model)); "
   ]
  },
  {
   "cell_type": "code",
   "execution_count": 139,
   "metadata": {},
   "outputs": [
    {
     "data": {
      "text/plain": [
       "array([0, 0, 0, 1, 0, 1, 1, 0, 0, 1], dtype=int64)"
      ]
     },
     "execution_count": 139,
     "metadata": {},
     "output_type": "execute_result"
    }
   ],
   "source": [
    "y_test_pred[:10]"
   ]
  },
  {
   "cell_type": "code",
   "execution_count": 141,
   "metadata": {},
   "outputs": [
    {
     "data": {
      "text/plain": [
       "3898     0\n",
       "4046     0\n",
       "8753     0\n",
       "13565    1\n",
       "9623     0\n",
       "3528     1\n",
       "4912     1\n",
       "4598     0\n",
       "1607     0\n",
       "4658     0\n",
       "Name: Exited, dtype: int64"
      ]
     },
     "execution_count": 141,
     "metadata": {},
     "output_type": "execute_result"
    }
   ],
   "source": [
    "y_test[:10]"
   ]
  },
  {
   "cell_type": "code",
   "execution_count": 140,
   "metadata": {},
   "outputs": [
    {
     "data": {
      "text/plain": [
       "[0, 0, 0, 1, 0, 1, 0, 0, 1, 0]"
      ]
     },
     "execution_count": 140,
     "metadata": {},
     "output_type": "execute_result"
    }
   ],
   "source": [
    "y_pred[:10]"
   ]
  },
  {
   "cell_type": "code",
   "execution_count": null,
   "metadata": {},
   "outputs": [],
   "source": []
  }
 ],
 "metadata": {
  "kernelspec": {
   "display_name": "Python 3 (ipykernel)",
   "language": "python",
   "name": "python3"
  },
  "language_info": {
   "codemirror_mode": {
    "name": "ipython",
    "version": 3
   },
   "file_extension": ".py",
   "mimetype": "text/x-python",
   "name": "python",
   "nbconvert_exporter": "python",
   "pygments_lexer": "ipython3",
   "version": "3.8.13"
  }
 },
 "nbformat": 4,
 "nbformat_minor": 4
}
